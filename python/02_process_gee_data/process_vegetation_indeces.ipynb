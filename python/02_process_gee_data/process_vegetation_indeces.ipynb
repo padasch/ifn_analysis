{
 "cells": [
  {
   "cell_type": "markdown",
   "metadata": {},
   "source": [
    "# Process Vegetation Indeces"
   ]
  },
  {
   "cell_type": "markdown",
   "metadata": {},
   "source": [
    "## Notes\n",
    "\n",
    "- Should we apply smoothing filters or not to interpolate to daily values? Inspiration from Francescos paper:\n",
    "    - Greenness dataWe downloaded MODIS EVI (MOD13Q1,Collection 5) with the ‘MODISTOOLS’ R package (Tucket al.,2014). Images with clouds, snow, ice or shadows wereexcluded. To get daily values and remove noise, we applied aSavitzky–Golay smoothing filter (‘SIGNAL’ R package) with athird-order polynomial and a frame length of 31 d."
   ]
  },
  {
   "cell_type": "markdown",
   "metadata": {},
   "source": [
    "## MODIS"
   ]
  },
  {
   "cell_type": "markdown",
   "metadata": {},
   "source": [
    "## Sentinel 2"
   ]
  },
  {
   "cell_type": "markdown",
   "metadata": {},
   "source": [
    "## Landsat 8"
   ]
  },
  {
   "cell_type": "code",
   "execution_count": null,
   "metadata": {
    "vscode": {
     "languageId": "plaintext"
    }
   },
   "outputs": [],
   "source": []
  }
 ],
 "metadata": {
  "language_info": {
   "name": "python"
  }
 },
 "nbformat": 4,
 "nbformat_minor": 2
}
