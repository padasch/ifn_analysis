{
 "cells": [
  {
   "cell_type": "markdown",
   "metadata": {},
   "source": [
    "# Extract Tree Cover from Hansen 2013\n",
    "\n",
    "Run this notebook to merge all the separate files downloaded from GEE.\n"
   ]
  },
  {
   "cell_type": "markdown",
   "metadata": {},
   "source": [
    "## Imports\n"
   ]
  },
  {
   "cell_type": "code",
   "execution_count": 1,
   "metadata": {},
   "outputs": [],
   "source": [
    "# Magic\n",
    "%matplotlib inline\n",
    "%load_ext autoreload\n",
    "%autoreload 2\n",
    "\n",
    "# Libraries\n",
    "import geopandas as gpd\n",
    "import rasterio\n",
    "from rasterio.merge import merge\n",
    "from rasterio.crs import CRS\n",
    "from tqdm import tqdm\n",
    "import matplotlib.pyplot as plt\n",
    "import glob\n",
    "import sys\n",
    "from pyprojroot import here\n",
    "\n",
    "sys.path.insert(0, \"../../src\")\n",
    "from run_mp import *\n",
    "from utilities import *\n",
    "\n",
    "import chime\n",
    "chime.theme(\"mario\")"
   ]
  },
  {
   "cell_type": "markdown",
   "metadata": {},
   "source": [
    "## Merge Raster Parts\n"
   ]
  },
  {
   "cell_type": "code",
   "execution_count": 2,
   "metadata": {},
   "outputs": [],
   "source": [
    "def merge_raster_parts(myvar):\n",
    "    display(f\"Extraction for file {myvar}\")\n",
    "    # ! List all tif files of desired variable -----------------------------------------\n",
    "    all_files = glob.glob(f\"../../data/raw/hansen2013_treecover_france/{myvar}/*.tif\")\n",
    "    print(\"- Number of files: \", len(all_files))\n",
    "    print(\"- \", sorted(all_files))\n",
    "\n",
    "    # ! Merge all files into one --------------------------------------------------------\n",
    "    filename = here(\n",
    "        f\"data/raw/hansen2013_treecover_france/{myvar}_merged_in_python.tif\"\n",
    "    )\n",
    "\n",
    "    # List for the data\n",
    "    src_files_to_mosaic = []\n",
    "    print(\"- Loading all files into a list...\")\n",
    "    for file in tqdm(all_files):\n",
    "        src = rasterio.open(file)\n",
    "        src_files_to_mosaic.append(src)\n",
    "\n",
    "    # Merge function returns a single mosaic array and the transformation info\n",
    "    print(\"- Merge parts into one...\")\n",
    "    mosaic, out_trans = merge(src_files_to_mosaic)\n",
    "\n",
    "    # Copy the metadata\n",
    "    out_meta = src.meta.copy()\n",
    "\n",
    "    # Update the metadata\n",
    "    out_meta.update(\n",
    "        {\n",
    "            \"driver\": \"GTiff\",\n",
    "            \"height\": mosaic.shape[1],\n",
    "            \"width\": mosaic.shape[2],\n",
    "            \"transform\": out_trans,\n",
    "            \"crs\": src.crs.to_epsg(),\n",
    "        }\n",
    "    )\n",
    "\n",
    "    # Save the merged raster as a TIFF file\n",
    "    with rasterio.open(\n",
    "        filename,\n",
    "        \"w\",\n",
    "        **out_meta,\n",
    "    ) as dest:\n",
    "        dest.write(mosaic)"
   ]
  },
  {
   "cell_type": "code",
   "execution_count": 3,
   "metadata": {},
   "outputs": [
    {
     "data": {
      "text/plain": [
       "'Extraction for file treecover'"
      ]
     },
     "metadata": {},
     "output_type": "display_data"
    },
    {
     "name": "stdout",
     "output_type": "stream",
     "text": [
      "Number of files:  16\n",
      "['../../data/raw/hansen2013_treecover_france/treecover/hansen2013_treecover2000_france_part1.tif', '../../data/raw/hansen2013_treecover_france/treecover/hansen2013_treecover2000_france_part10.tif', '../../data/raw/hansen2013_treecover_france/treecover/hansen2013_treecover2000_france_part11.tif', '../../data/raw/hansen2013_treecover_france/treecover/hansen2013_treecover2000_france_part12.tif', '../../data/raw/hansen2013_treecover_france/treecover/hansen2013_treecover2000_france_part13.tif', '../../data/raw/hansen2013_treecover_france/treecover/hansen2013_treecover2000_france_part14.tif', '../../data/raw/hansen2013_treecover_france/treecover/hansen2013_treecover2000_france_part15.tif', '../../data/raw/hansen2013_treecover_france/treecover/hansen2013_treecover2000_france_part16.tif', '../../data/raw/hansen2013_treecover_france/treecover/hansen2013_treecover2000_france_part2.tif', '../../data/raw/hansen2013_treecover_france/treecover/hansen2013_treecover2000_france_part3.tif', '../../data/raw/hansen2013_treecover_france/treecover/hansen2013_treecover2000_france_part4.tif', '../../data/raw/hansen2013_treecover_france/treecover/hansen2013_treecover2000_france_part5.tif', '../../data/raw/hansen2013_treecover_france/treecover/hansen2013_treecover2000_france_part6.tif', '../../data/raw/hansen2013_treecover_france/treecover/hansen2013_treecover2000_france_part7.tif', '../../data/raw/hansen2013_treecover_france/treecover/hansen2013_treecover2000_france_part8.tif', '../../data/raw/hansen2013_treecover_france/treecover/hansen2013_treecover2000_france_part9.tif']\n",
      "Loading all files into a list...\n"
     ]
    },
    {
     "name": "stderr",
     "output_type": "stream",
     "text": [
      "100%|██████████| 16/16 [00:00<00:00, 631.19it/s]"
     ]
    },
    {
     "name": "stdout",
     "output_type": "stream",
     "text": [
      "Merge parts into one...\n"
     ]
    },
    {
     "name": "stderr",
     "output_type": "stream",
     "text": [
      "\n"
     ]
    },
    {
     "data": {
      "text/plain": [
       "'Extraction for file lossyear'"
      ]
     },
     "metadata": {},
     "output_type": "display_data"
    },
    {
     "name": "stdout",
     "output_type": "stream",
     "text": [
      "Number of files:  16\n",
      "['../../data/raw/hansen2013_treecover_france/lossyear/hansen2013_lossyear_france_part1.tif', '../../data/raw/hansen2013_treecover_france/lossyear/hansen2013_lossyear_france_part10.tif', '../../data/raw/hansen2013_treecover_france/lossyear/hansen2013_lossyear_france_part11.tif', '../../data/raw/hansen2013_treecover_france/lossyear/hansen2013_lossyear_france_part12.tif', '../../data/raw/hansen2013_treecover_france/lossyear/hansen2013_lossyear_france_part13.tif', '../../data/raw/hansen2013_treecover_france/lossyear/hansen2013_lossyear_france_part14.tif', '../../data/raw/hansen2013_treecover_france/lossyear/hansen2013_lossyear_france_part15.tif', '../../data/raw/hansen2013_treecover_france/lossyear/hansen2013_lossyear_france_part16.tif', '../../data/raw/hansen2013_treecover_france/lossyear/hansen2013_lossyear_france_part2.tif', '../../data/raw/hansen2013_treecover_france/lossyear/hansen2013_lossyear_france_part3.tif', '../../data/raw/hansen2013_treecover_france/lossyear/hansen2013_lossyear_france_part4.tif', '../../data/raw/hansen2013_treecover_france/lossyear/hansen2013_lossyear_france_part5.tif', '../../data/raw/hansen2013_treecover_france/lossyear/hansen2013_lossyear_france_part6.tif', '../../data/raw/hansen2013_treecover_france/lossyear/hansen2013_lossyear_france_part7.tif', '../../data/raw/hansen2013_treecover_france/lossyear/hansen2013_lossyear_france_part8.tif', '../../data/raw/hansen2013_treecover_france/lossyear/hansen2013_lossyear_france_part9.tif']\n",
      "Loading all files into a list...\n"
     ]
    },
    {
     "name": "stderr",
     "output_type": "stream",
     "text": [
      "100%|██████████| 16/16 [00:00<00:00, 1164.48it/s]"
     ]
    },
    {
     "name": "stdout",
     "output_type": "stream",
     "text": [
      "Merge parts into one...\n"
     ]
    },
    {
     "name": "stderr",
     "output_type": "stream",
     "text": [
      "\n"
     ]
    }
   ],
   "source": [
    "merge_raster_parts(\"treecover\")\n",
    "merge_raster_parts(\"lossyear\")"
   ]
  },
  {
   "cell_type": "code",
   "execution_count": 4,
   "metadata": {},
   "outputs": [],
   "source": [
    "# Quality Control.\n",
    "# ! Outcommented because it can take up to 1 min!\n",
    "# Open the saved TIFF file and plot it\n",
    "# with rasterio.open(filename) as src:\n",
    "#     # Read the raster data\n",
    "#     raster_data = src.read(1)\n",
    "\n",
    "#     # Display the raster data\n",
    "#     plt.imshow(raster_data, cmap=\"gray\")\n",
    "#     plt.colorbar()\n",
    "#     plt.show()"
   ]
  },
  {
   "cell_type": "markdown",
   "metadata": {},
   "source": [
    "## Load NFI Coordinates\n"
   ]
  },
  {
   "cell_type": "code",
   "execution_count": 5,
   "metadata": {},
   "outputs": [
    {
     "name": "stdout",
     "output_type": "stream",
     "text": [
      "Loading noisy coordinates from csv.\n"
     ]
    },
    {
     "data": {
      "text/html": [
       "<div>\n",
       "<style scoped>\n",
       "    .dataframe tbody tr th:only-of-type {\n",
       "        vertical-align: middle;\n",
       "    }\n",
       "\n",
       "    .dataframe tbody tr th {\n",
       "        vertical-align: top;\n",
       "    }\n",
       "\n",
       "    .dataframe thead th {\n",
       "        text-align: right;\n",
       "    }\n",
       "</style>\n",
       "<table border=\"1\" class=\"dataframe\">\n",
       "  <thead>\n",
       "    <tr style=\"text-align: right;\">\n",
       "      <th></th>\n",
       "      <th>SiteID</th>\n",
       "      <th>idp</th>\n",
       "      <th>first_year</th>\n",
       "      <th>y</th>\n",
       "      <th>x</th>\n",
       "      <th>y_fr</th>\n",
       "      <th>x_fr</th>\n",
       "    </tr>\n",
       "  </thead>\n",
       "  <tbody>\n",
       "    <tr>\n",
       "      <th>0</th>\n",
       "      <td>0</td>\n",
       "      <td>500008</td>\n",
       "      <td>2010</td>\n",
       "      <td>48.050171</td>\n",
       "      <td>6.069031</td>\n",
       "      <td>6.776642e+06</td>\n",
       "      <td>9.286128e+05</td>\n",
       "    </tr>\n",
       "    <tr>\n",
       "      <th>1</th>\n",
       "      <td>1</td>\n",
       "      <td>500013</td>\n",
       "      <td>2010</td>\n",
       "      <td>49.200153</td>\n",
       "      <td>1.132647</td>\n",
       "      <td>6.901657e+06</td>\n",
       "      <td>5.639015e+05</td>\n",
       "    </tr>\n",
       "    <tr>\n",
       "      <th>2</th>\n",
       "      <td>2</td>\n",
       "      <td>500098</td>\n",
       "      <td>2010</td>\n",
       "      <td>44.180056</td>\n",
       "      <td>4.700861</td>\n",
       "      <td>6.343803e+06</td>\n",
       "      <td>8.359781e+05</td>\n",
       "    </tr>\n",
       "    <tr>\n",
       "      <th>3</th>\n",
       "      <td>3</td>\n",
       "      <td>500103</td>\n",
       "      <td>2010</td>\n",
       "      <td>48.966657</td>\n",
       "      <td>7.119344</td>\n",
       "      <td>6.881944e+06</td>\n",
       "      <td>1.001476e+06</td>\n",
       "    </tr>\n",
       "    <tr>\n",
       "      <th>4</th>\n",
       "      <td>4</td>\n",
       "      <td>500137</td>\n",
       "      <td>2010</td>\n",
       "      <td>48.370072</td>\n",
       "      <td>6.713371</td>\n",
       "      <td>6.814217e+06</td>\n",
       "      <td>9.749062e+05</td>\n",
       "    </tr>\n",
       "    <tr>\n",
       "      <th>...</th>\n",
       "      <td>...</td>\n",
       "      <td>...</td>\n",
       "      <td>...</td>\n",
       "      <td>...</td>\n",
       "      <td>...</td>\n",
       "      <td>...</td>\n",
       "      <td>...</td>\n",
       "    </tr>\n",
       "    <tr>\n",
       "      <th>41291</th>\n",
       "      <td>41291</td>\n",
       "      <td>1131396</td>\n",
       "      <td>2016</td>\n",
       "      <td>47.790156</td>\n",
       "      <td>3.380200</td>\n",
       "      <td>6.743375e+06</td>\n",
       "      <td>7.284673e+05</td>\n",
       "    </tr>\n",
       "    <tr>\n",
       "      <th>41292</th>\n",
       "      <td>41292</td>\n",
       "      <td>1131409</td>\n",
       "      <td>2016</td>\n",
       "      <td>42.686748</td>\n",
       "      <td>2.156438</td>\n",
       "      <td>6.176717e+06</td>\n",
       "      <td>6.307829e+05</td>\n",
       "    </tr>\n",
       "    <tr>\n",
       "      <th>41293</th>\n",
       "      <td>41293</td>\n",
       "      <td>1131410</td>\n",
       "      <td>2016</td>\n",
       "      <td>47.899971</td>\n",
       "      <td>7.424664</td>\n",
       "      <td>6.764769e+06</td>\n",
       "      <td>1.030439e+06</td>\n",
       "    </tr>\n",
       "    <tr>\n",
       "      <th>41294</th>\n",
       "      <td>41294</td>\n",
       "      <td>1131424</td>\n",
       "      <td>2016</td>\n",
       "      <td>44.924973</td>\n",
       "      <td>3.757202</td>\n",
       "      <td>6.425373e+06</td>\n",
       "      <td>7.597461e+05</td>\n",
       "    </tr>\n",
       "    <tr>\n",
       "      <th>41295</th>\n",
       "      <td>41295</td>\n",
       "      <td>1131437</td>\n",
       "      <td>2016</td>\n",
       "      <td>46.998179</td>\n",
       "      <td>3.417427</td>\n",
       "      <td>6.655412e+06</td>\n",
       "      <td>7.317198e+05</td>\n",
       "    </tr>\n",
       "  </tbody>\n",
       "</table>\n",
       "<p>41296 rows × 7 columns</p>\n",
       "</div>"
      ],
      "text/plain": [
       "       SiteID      idp  first_year          y         x          y_fr  \\\n",
       "0           0   500008        2010  48.050171  6.069031  6.776642e+06   \n",
       "1           1   500013        2010  49.200153  1.132647  6.901657e+06   \n",
       "2           2   500098        2010  44.180056  4.700861  6.343803e+06   \n",
       "3           3   500103        2010  48.966657  7.119344  6.881944e+06   \n",
       "4           4   500137        2010  48.370072  6.713371  6.814217e+06   \n",
       "...       ...      ...         ...        ...       ...           ...   \n",
       "41291   41291  1131396        2016  47.790156  3.380200  6.743375e+06   \n",
       "41292   41292  1131409        2016  42.686748  2.156438  6.176717e+06   \n",
       "41293   41293  1131410        2016  47.899971  7.424664  6.764769e+06   \n",
       "41294   41294  1131424        2016  44.924973  3.757202  6.425373e+06   \n",
       "41295   41295  1131437        2016  46.998179  3.417427  6.655412e+06   \n",
       "\n",
       "               x_fr  \n",
       "0      9.286128e+05  \n",
       "1      5.639015e+05  \n",
       "2      8.359781e+05  \n",
       "3      1.001476e+06  \n",
       "4      9.749062e+05  \n",
       "...             ...  \n",
       "41291  7.284673e+05  \n",
       "41292  6.307829e+05  \n",
       "41293  1.030439e+06  \n",
       "41294  7.597461e+05  \n",
       "41295  7.317198e+05  \n",
       "\n",
       "[41296 rows x 7 columns]"
      ]
     },
     "execution_count": 5,
     "metadata": {},
     "output_type": "execute_result"
    }
   ],
   "source": [
    "from utilities import get_final_nfi_coordinates\n",
    "\n",
    "nfi_coords = get_final_nfi_coordinates(\"noisy\", \"csv\")\n",
    "nfi_coords"
   ]
  },
  {
   "cell_type": "markdown",
   "metadata": {},
   "source": [
    "## Extract Files\n"
   ]
  },
  {
   "cell_type": "code",
   "execution_count": 6,
   "metadata": {},
   "outputs": [
    {
     "name": "stderr",
     "output_type": "stream",
     "text": [
      "100%|██████████| 10/10 [00:06<00:00,  1.53it/s]\n"
     ]
    },
    {
     "data": {
      "text/html": [
       "<div>\n",
       "<style scoped>\n",
       "    .dataframe tbody tr th:only-of-type {\n",
       "        vertical-align: middle;\n",
       "    }\n",
       "\n",
       "    .dataframe tbody tr th {\n",
       "        vertical-align: top;\n",
       "    }\n",
       "\n",
       "    .dataframe thead th {\n",
       "        text-align: right;\n",
       "    }\n",
       "</style>\n",
       "<table border=\"1\" class=\"dataframe\">\n",
       "  <thead>\n",
       "    <tr style=\"text-align: right;\">\n",
       "      <th></th>\n",
       "      <th>treecover</th>\n",
       "      <th>Latitude</th>\n",
       "      <th>Longitude</th>\n",
       "    </tr>\n",
       "  </thead>\n",
       "  <tbody>\n",
       "    <tr>\n",
       "      <th>0</th>\n",
       "      <td>94.0</td>\n",
       "      <td>48.050171</td>\n",
       "      <td>6.069031</td>\n",
       "    </tr>\n",
       "    <tr>\n",
       "      <th>1</th>\n",
       "      <td>95.0</td>\n",
       "      <td>49.200153</td>\n",
       "      <td>1.132647</td>\n",
       "    </tr>\n",
       "    <tr>\n",
       "      <th>2</th>\n",
       "      <td>85.0</td>\n",
       "      <td>44.180056</td>\n",
       "      <td>4.700861</td>\n",
       "    </tr>\n",
       "    <tr>\n",
       "      <th>3</th>\n",
       "      <td>0.0</td>\n",
       "      <td>48.966657</td>\n",
       "      <td>7.119344</td>\n",
       "    </tr>\n",
       "    <tr>\n",
       "      <th>4</th>\n",
       "      <td>97.0</td>\n",
       "      <td>48.370072</td>\n",
       "      <td>6.713371</td>\n",
       "    </tr>\n",
       "    <tr>\n",
       "      <th>5</th>\n",
       "      <td>75.0</td>\n",
       "      <td>48.094909</td>\n",
       "      <td>4.191761</td>\n",
       "    </tr>\n",
       "    <tr>\n",
       "      <th>6</th>\n",
       "      <td>79.0</td>\n",
       "      <td>45.404677</td>\n",
       "      <td>1.164141</td>\n",
       "    </tr>\n",
       "    <tr>\n",
       "      <th>7</th>\n",
       "      <td>0.0</td>\n",
       "      <td>47.543472</td>\n",
       "      <td>0.931013</td>\n",
       "    </tr>\n",
       "    <tr>\n",
       "      <th>8</th>\n",
       "      <td>0.0</td>\n",
       "      <td>48.565523</td>\n",
       "      <td>6.784044</td>\n",
       "    </tr>\n",
       "    <tr>\n",
       "      <th>9</th>\n",
       "      <td>30.0</td>\n",
       "      <td>49.134544</td>\n",
       "      <td>-1.249681</td>\n",
       "    </tr>\n",
       "  </tbody>\n",
       "</table>\n",
       "</div>"
      ],
      "text/plain": [
       "   treecover   Latitude  Longitude\n",
       "0       94.0  48.050171   6.069031\n",
       "1       95.0  49.200153   1.132647\n",
       "2       85.0  44.180056   4.700861\n",
       "3        0.0  48.966657   7.119344\n",
       "4       97.0  48.370072   6.713371\n",
       "5       75.0  48.094909   4.191761\n",
       "6       79.0  45.404677   1.164141\n",
       "7        0.0  47.543472   0.931013\n",
       "8        0.0  48.565523   6.784044\n",
       "9       30.0  49.134544  -1.249681"
      ]
     },
     "execution_count": 6,
     "metadata": {},
     "output_type": "execute_result"
    }
   ],
   "source": [
    "myvar = \"treecover\"\n",
    "filename = here(f\"data/raw/hansen2013_treecover_france/{myvar}_merged_in_python.tif\")\n",
    "\n",
    "extract_raster_values(\n",
    "    tiff_file=filename,\n",
    "    variable_name=myvar,\n",
    "    latitudes=nfi_coords[\"y\"][:10],\n",
    "    longitudes=nfi_coords[\"x\"][:10],\n",
    "    expected_crs=\"4326\",\n",
    "    progress_bar=True,\n",
    ")"
   ]
  },
  {
   "cell_type": "code",
   "execution_count": 7,
   "metadata": {},
   "outputs": [
    {
     "name": "stdout",
     "output_type": "stream",
     "text": [
      "Splitting df into 10 random groups\n"
     ]
    }
   ],
   "source": [
    "df_list = split_df_into_list_of_group_or_ns(nfi_coords, 10)"
   ]
  },
  {
   "cell_type": "code",
   "execution_count": 8,
   "metadata": {},
   "outputs": [
    {
     "name": "stderr",
     "output_type": "stream",
     "text": [
      "  0%|          | 0/10 [00:00<?, ?it/s]"
     ]
    }
   ],
   "source": [
    "from utilities import parallel_hansen2013_extraction\n",
    "\n",
    "df = run_mp(\n",
    "    parallel_hansen2013_extraction,\n",
    "    df_list,\n",
    "    pd.concat,\n",
    "    num_cores=8,\n",
    "    progress_bar=True,\n",
    ")"
   ]
  },
  {
   "cell_type": "markdown",
   "metadata": {},
   "source": [
    "## Save Final Data\n"
   ]
  },
  {
   "cell_type": "code",
   "execution_count": null,
   "metadata": {},
   "outputs": [
    {
     "ename": "NameError",
     "evalue": "name 'df' is not defined",
     "output_type": "error",
     "traceback": [
      "\u001b[0;31m---------------------------------------------------------------------------\u001b[0m",
      "\u001b[0;31mNameError\u001b[0m                                 Traceback (most recent call last)",
      "Cell \u001b[0;32mIn[24], line 1\u001b[0m\n\u001b[0;32m----> 1\u001b[0m \u001b[43mdf\u001b[49m\u001b[38;5;241m.\u001b[39mto_feather(here(\u001b[38;5;124m\"\u001b[39m\u001b[38;5;124mdata/final/predictor_datasets/treecover.feather\u001b[39m\u001b[38;5;124m\"\u001b[39m))\n\u001b[1;32m      2\u001b[0m df\n",
      "\u001b[0;31mNameError\u001b[0m: name 'df' is not defined"
     ]
    }
   ],
   "source": [
    "df.to_feather(here(\"data/final/predictor_datasets/treecover.feather\"))\n",
    "df\n",
    "chime.success()"
   ]
  }
 ],
 "metadata": {
  "kernelspec": {
   "display_name": "ifna-venv",
   "language": "python",
   "name": "python3"
  },
  "language_info": {
   "codemirror_mode": {
    "name": "ipython",
    "version": 3
   },
   "file_extension": ".py",
   "mimetype": "text/x-python",
   "name": "python",
   "nbconvert_exporter": "python",
   "pygments_lexer": "ipython3",
   "version": "3.10.9"
  }
 },
 "nbformat": 4,
 "nbformat_minor": 2
}
