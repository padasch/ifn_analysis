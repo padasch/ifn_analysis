{
 "cells": [
  {
   "cell_type": "markdown",
   "metadata": {},
   "source": [
    "# Derive Variables from DEM (in QGIS!)\n"
   ]
  },
  {
   "cell_type": "markdown",
   "metadata": {},
   "source": [
    "See the batch process that I wrote to extract different variables like slope, aspect, etc. from the DEM at different scales. All done within QGIS.\n",
    "\n",
    "Original file: `\"data/raw/dem_france/original_dem25_altitude_put_together_in_python.tif\"`\n"
   ]
  }
 ],
 "metadata": {
  "language_info": {
   "name": "python"
  }
 },
 "nbformat": 4,
 "nbformat_minor": 2
}
