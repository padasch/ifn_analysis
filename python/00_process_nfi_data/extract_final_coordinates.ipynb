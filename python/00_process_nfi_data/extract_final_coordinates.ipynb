{
 "cells": [
  {
   "cell_type": "code",
   "execution_count": 1,
   "metadata": {},
   "outputs": [],
   "source": [
    "import pandas as pd"
   ]
  },
  {
   "cell_type": "code",
   "execution_count": 12,
   "metadata": {},
   "outputs": [
    {
     "name": "stderr",
     "output_type": "stream",
     "text": [
      "/var/folders/39/534x_msj7sl1kcxj2mg109x40000gn/T/ipykernel_1928/3106151714.py:1: DtypeWarning: Columns (51,58,61,73,74,75,88,89,90,91,106,107,112,113,115,119,125,127,156) have mixed types. Specify dtype option on import or set low_memory=False.\n",
      "  nfi_data = pd.read_csv(\"./20231108-211512_nfi_dataset_for_analysis copy.csv\")\n"
     ]
    }
   ],
   "source": [
    "nfi_data = pd.read_csv(\"./20231108-211512_nfi_dataset_for_analysis copy.csv\")"
   ]
  },
  {
   "cell_type": "code",
   "execution_count": 6,
   "metadata": {},
   "outputs": [],
   "source": [
    "nfi_data = (\n",
    "    nfi_data[[\"idp\", \"visit_1\", \"lat\", \"lon\"]]\n",
    "    .rename({\"visit_1\": \"first_year\", \"lon\": \"x\", \"lat\": \"y\"}, axis=1)\n",
    "    .drop_duplicates()\n",
    "    reset_index(drop=False).rename(columns={\"index\": \"rownumber\"})\n",
    ")"
   ]
  },
  {
   "cell_type": "code",
   "execution_count": 7,
   "metadata": {},
   "outputs": [],
   "source": [
    "nfi_data.to_csv(\"./nfi_final_sites.csv\", index=False)"
   ]
  },
  {
   "cell_type": "code",
   "execution_count": 21,
   "metadata": {},
   "outputs": [
    {
     "data": {
      "text/html": [
       "<div>\n",
       "<style scoped>\n",
       "    .dataframe tbody tr th:only-of-type {\n",
       "        vertical-align: middle;\n",
       "    }\n",
       "\n",
       "    .dataframe tbody tr th {\n",
       "        vertical-align: top;\n",
       "    }\n",
       "\n",
       "    .dataframe thead th {\n",
       "        text-align: right;\n",
       "    }\n",
       "</style>\n",
       "<table border=\"1\" class=\"dataframe\">\n",
       "  <thead>\n",
       "    <tr style=\"text-align: right;\">\n",
       "      <th></th>\n",
       "      <th>SiteID</th>\n",
       "      <th>idp</th>\n",
       "      <th>first_year</th>\n",
       "      <th>y</th>\n",
       "      <th>x</th>\n",
       "    </tr>\n",
       "  </thead>\n",
       "  <tbody>\n",
       "    <tr>\n",
       "      <th>0</th>\n",
       "      <td>0</td>\n",
       "      <td>632691</td>\n",
       "      <td>2011</td>\n",
       "      <td>48.337505</td>\n",
       "      <td>-2.842824</td>\n",
       "    </tr>\n",
       "    <tr>\n",
       "      <th>1</th>\n",
       "      <td>1</td>\n",
       "      <td>702597</td>\n",
       "      <td>2012</td>\n",
       "      <td>46.198025</td>\n",
       "      <td>3.349757</td>\n",
       "    </tr>\n",
       "    <tr>\n",
       "      <th>2</th>\n",
       "      <td>2</td>\n",
       "      <td>706240</td>\n",
       "      <td>2012</td>\n",
       "      <td>46.827747</td>\n",
       "      <td>3.361577</td>\n",
       "    </tr>\n",
       "    <tr>\n",
       "      <th>3</th>\n",
       "      <td>3</td>\n",
       "      <td>708321</td>\n",
       "      <td>2012</td>\n",
       "      <td>48.201563</td>\n",
       "      <td>0.402182</td>\n",
       "    </tr>\n",
       "    <tr>\n",
       "      <th>4</th>\n",
       "      <td>4</td>\n",
       "      <td>708369</td>\n",
       "      <td>2012</td>\n",
       "      <td>43.281648</td>\n",
       "      <td>6.461081</td>\n",
       "    </tr>\n",
       "    <tr>\n",
       "      <th>...</th>\n",
       "      <td>...</td>\n",
       "      <td>...</td>\n",
       "      <td>...</td>\n",
       "      <td>...</td>\n",
       "      <td>...</td>\n",
       "    </tr>\n",
       "    <tr>\n",
       "      <th>38691</th>\n",
       "      <td>38691</td>\n",
       "      <td>1131409</td>\n",
       "      <td>2016</td>\n",
       "      <td>42.686748</td>\n",
       "      <td>2.156438</td>\n",
       "    </tr>\n",
       "    <tr>\n",
       "      <th>38692</th>\n",
       "      <td>38692</td>\n",
       "      <td>1131410</td>\n",
       "      <td>2016</td>\n",
       "      <td>47.899971</td>\n",
       "      <td>7.424664</td>\n",
       "    </tr>\n",
       "    <tr>\n",
       "      <th>38693</th>\n",
       "      <td>38693</td>\n",
       "      <td>1131419</td>\n",
       "      <td>2016</td>\n",
       "      <td>48.851908</td>\n",
       "      <td>-3.221877</td>\n",
       "    </tr>\n",
       "    <tr>\n",
       "      <th>38694</th>\n",
       "      <td>38694</td>\n",
       "      <td>1131424</td>\n",
       "      <td>2016</td>\n",
       "      <td>44.924973</td>\n",
       "      <td>3.757202</td>\n",
       "    </tr>\n",
       "    <tr>\n",
       "      <th>38695</th>\n",
       "      <td>38695</td>\n",
       "      <td>1131437</td>\n",
       "      <td>2016</td>\n",
       "      <td>46.998179</td>\n",
       "      <td>3.417427</td>\n",
       "    </tr>\n",
       "  </tbody>\n",
       "</table>\n",
       "<p>38696 rows × 5 columns</p>\n",
       "</div>"
      ],
      "text/plain": [
       "       SiteID      idp  first_year          y         x\n",
       "0           0   632691        2011  48.337505 -2.842824\n",
       "1           1   702597        2012  46.198025  3.349757\n",
       "2           2   706240        2012  46.827747  3.361577\n",
       "3           3   708321        2012  48.201563  0.402182\n",
       "4           4   708369        2012  43.281648  6.461081\n",
       "...       ...      ...         ...        ...       ...\n",
       "38691   38691  1131409        2016  42.686748  2.156438\n",
       "38692   38692  1131410        2016  47.899971  7.424664\n",
       "38693   38693  1131419        2016  48.851908 -3.221877\n",
       "38694   38694  1131424        2016  44.924973  3.757202\n",
       "38695   38695  1131437        2016  46.998179  3.417427\n",
       "\n",
       "[38696 rows x 5 columns]"
      ]
     },
     "execution_count": 21,
     "metadata": {},
     "output_type": "execute_result"
    }
   ],
   "source": [
    "(\n",
    "    nfi_data[[\"idp\", \"visit_1\", \"lat\", \"lon\"]]\n",
    "    .rename({\"visit_1\": \"first_year\", \"lon\": \"x\", \"lat\": \"y\"}, axis=1)\n",
    "    .drop_duplicates()\n",
    "    .reset_index(drop=True)\n",
    "    .reset_index(drop=False)\n",
    "    .rename(columns={\"index\": \"SiteID\"})\n",
    ")"
   ]
  }
 ],
 "metadata": {
  "kernelspec": {
   "display_name": "ifna-venv",
   "language": "python",
   "name": "python3"
  },
  "language_info": {
   "codemirror_mode": {
    "name": "ipython",
    "version": 3
   },
   "file_extension": ".py",
   "mimetype": "text/x-python",
   "name": "python",
   "nbconvert_exporter": "python",
   "pygments_lexer": "ipython3",
   "version": "3.10.9"
  }
 },
 "nbformat": 4,
 "nbformat_minor": 2
}
