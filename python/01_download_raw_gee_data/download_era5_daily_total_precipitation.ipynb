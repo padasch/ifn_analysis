{
 "cells": [
  {
   "cell_type": "markdown",
   "metadata": {},
   "source": [
    "# Settings for Download: ERA5 Daily Aggregates\n",
    "\n",
    "[ECMWF/ERA5/DAILY](https://developers.google.com/earth-engine/datasets/catalog/ECMWF_ERA5_DAILY)"
   ]
  },
  {
   "cell_type": "code",
   "execution_count": 1,
   "metadata": {},
   "outputs": [],
   "source": [
    "# ADJUST ONLY THESE PARAMETERS!\n",
    "\n",
    "# Debug settings\n",
    "skip_to_i = 0 # 0 = no skip | If loop broke, resume by setting this i to where you want to continue\n",
    "first_5000_sites = False\n",
    "\n",
    "# Timescale of Interest\n",
    "my_plus_years   = 5 # Years to add after first visit\n",
    "my_minus_years  = 2 # Years to add before first visit\n",
    "my_first_date   = \"-01-01\"  # First date of first year \"-MM-DD\"\n",
    "my_last_date    = \"-12-31\"  # Last date of last year \"-MM-DD\"\n",
    "\n",
    "# Dataset of Interest\n",
    "product            = \"ECMWF/ERA5/DAILY\"\n",
    "product_start_date = \"1979-01-02\"\n",
    "product_end_date   = \"2020-07-09\"\n",
    "product_scale      = 27830\n",
    "\n",
    "output_scale       = product_scale\n",
    "output_folder      = \"gee-raw-data/era5-daily/total_precipitation\"\n",
    "\n",
    "my_bands           = [\n",
    "    # \"mean_2m_air_temperature\", \n",
    "    # \"minimum_2m_air_temperature\", \n",
    "    # \"maximum_2m_air_temperature\", \n",
    "    # \"dewpoint_2m_temperature\", \n",
    "    \"total_precipitation\"\n",
    "    # \"surface_pressure\", \n",
    "    # \"mean_sea_level_pressure\" \n",
    "    # \"u_component_of_wind_10m\",\n",
    "    # \"v_component_of_wind_10m\"\n",
    "]"
   ]
  },
  {
   "cell_type": "markdown",
   "metadata": {},
   "source": [
    "# Download Routine Below"
   ]
  },
  {
   "cell_type": "code",
   "execution_count": 2,
   "metadata": {},
   "outputs": [],
   "source": [
    "%run -i gee_functions.py"
   ]
  },
  {
   "cell_type": "code",
   "execution_count": 3,
   "metadata": {},
   "outputs": [],
   "source": [
    "# Import Libraries\n",
    "import ee\n",
    "# ee.Authenticate()\n",
    "ee.Initialize()\n",
    "\n",
    "import os, re\n",
    "import pandas as pd\n",
    "from gee_subset import gee_subset\n",
    "import geopandas as gpd\n",
    "from datetime import datetime"
   ]
  },
  {
   "cell_type": "code",
   "execution_count": 4,
   "metadata": {},
   "outputs": [],
   "source": [
    "data = get_location_site_df()\n",
    "data_clean = adjust_first_last_date(\n",
    "    df = data,\n",
    "    plus_years  = my_plus_years,\n",
    "    minus_years = my_minus_years,\n",
    "    first_date  = my_first_date,\n",
    "    last_date   = my_last_date,\n",
    ")\n",
    "\n",
    "if first_5000_sites:\n",
    "    data_clean = data_clean.iloc[0:5000, ]\n",
    "\n",
    "cnt     = len(data_clean)\n",
    "siteSet = list(range(0, cnt, 1))"
   ]
  },
  {
   "cell_type": "code",
   "execution_count": 5,
   "metadata": {},
   "outputs": [],
   "source": [
    "# Create folder if it doesn't exist\n",
    "if not os.path.exists(output_folder):\n",
    "    os.makedirs(output_folder)\n",
    "\n",
    "# Download data\n",
    "download_gee_data(\n",
    "    siteSet,\n",
    "    skip_to_i,\n",
    "    product,\n",
    "    my_bands,\n",
    "    data_clean,\n",
    "    product_start_date,\n",
    "    product_scale,\n",
    "    output_scale,\n",
    "    output_folder\n",
    ")"
   ]
  }
 ],
 "metadata": {
  "kernelspec": {
   "display_name": "IFNA",
   "language": "python",
   "name": "python3"
  },
  "language_info": {
   "codemirror_mode": {
    "name": "ipython",
    "version": 3
   },
   "file_extension": ".py",
   "mimetype": "text/x-python",
   "name": "python",
   "nbconvert_exporter": "python",
   "pygments_lexer": "ipython3",
   "version": "3.10.13"
  }
 },
 "nbformat": 4,
 "nbformat_minor": 2
}
