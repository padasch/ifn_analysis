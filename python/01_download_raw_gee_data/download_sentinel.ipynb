{
 "cells": [
  {
   "cell_type": "markdown",
   "id": "0a9bb39b",
   "metadata": {},
   "source": [
    "# Settings for Download: Sentinel\n",
    "\n",
    "[Harmonized Sentinel-2 MSI: MultiSpectral Instrument, Level-1C](https://developers.google.com/earth-engine/datasets/catalog/COPERNICUS_S2_HARMONIZED)"
   ]
  },
  {
   "cell_type": "code",
   "execution_count": 1,
   "id": "3c34f812",
   "metadata": {},
   "outputs": [],
   "source": [
    "# ADJUST ONLY THESE PARAMETERS!\n",
    "\n",
    "# If loop broke, resume by setting this i to where you want to continue\n",
    "skip_to_i = 0  # 0 = no skip\n",
    "\n",
    "# Timescale of Interest\n",
    "my_plus_years = 5  # Years to add after first visit\n",
    "my_minus_years = 2  # Years to add before first visit\n",
    "my_first_date = \"-01-01\"  # First date of first year \"-MM-DD\"\n",
    "my_last_date = \"-12-31\"  # Last date of last year \"-MM-DD\"\n",
    "\n",
    "# Dataset of Interest\n",
    "product = \"COPERNICUS/S2_HARMONIZED\"\n",
    "product_start_date = \"2015-06-23\"\n",
    "product_end_date = \"2023-10-31\"\n",
    "product_scale = 10\n",
    "\n",
    "output_scale = product_scale\n",
    "output_folder = \"gee-raw-data/sentinel\"\n",
    "\n",
    "my_bands = [\n",
    "    \"B1\",\n",
    "    \"B2\",\n",
    "    \"B3\",\n",
    "    \"B4\",\n",
    "    \"B5\",\n",
    "    \"B6\",\n",
    "    \"B7\",\n",
    "    \"B8\",\n",
    "    \"B8A\",\n",
    "    \"B9\",\n",
    "    \"B11\",\n",
    "    \"B12\",\n",
    "    \"QA60\",\n",
    "]"
   ]
  },
  {
   "cell_type": "code",
   "execution_count": 2,
   "metadata": {},
   "outputs": [
    {
     "name": "stderr",
     "output_type": "stream",
     "text": [
      "  0%|          | 0/10 [00:00<?, ?it/s]"
     ]
    },
    {
     "name": "stdout",
     "output_type": "stream",
     "text": [
      "not a collection\n"
     ]
    },
    {
     "name": "stderr",
     "output_type": "stream",
     "text": [
      " 10%|█         | 1/10 [04:41<42:15, 281.77s/it]\n"
     ]
    },
    {
     "name": "stdout",
     "output_type": "stream",
     "text": [
      "not a collection\n",
      "not a collection\n",
      "not a collection\n",
      "not a collection\n",
      "not a collection\n"
     ]
    },
    {
     "ename": "EEException",
     "evalue": "Image.load: Asset 'COPERNICUS/S2_HARMONIZED' is not an Image.",
     "output_type": "error",
     "traceback": [
      "\u001b[0;31m---------------------------------------------------------------------------\u001b[0m",
      "\u001b[0;31m_RemoteTraceback\u001b[0m                          Traceback (most recent call last)",
      "\u001b[0;31m_RemoteTraceback\u001b[0m: \n\"\"\"\nTraceback (most recent call last):\n  File \"/Users/pascal/anaconda3/envs/IFNA/lib/python3.10/site-packages/ee/data.py\", line 354, in _execute_cloud_call\n    return call.execute(num_retries=num_retries)\n  File \"/Users/pascal/anaconda3/envs/IFNA/lib/python3.10/site-packages/googleapiclient/_helpers.py\", line 130, in positional_wrapper\n    return wrapped(*args, **kwargs)\n  File \"/Users/pascal/anaconda3/envs/IFNA/lib/python3.10/site-packages/googleapiclient/http.py\", line 938, in execute\n    raise HttpError(resp, content, uri=self.uri)\ngoogleapiclient.errors.HttpError: <HttpError 429 when requesting https://earthengine.googleapis.com/v1/projects/earthengine-legacy/value:compute?prettyPrint=false&alt=json returned \"Too Many Requests: Request was rejected because the request rate or concurrency limit was exceeded.\". Details: \"Too Many Requests: Request was rejected because the request rate or concurrency limit was exceeded.\">\n\nDuring handling of the above exception, another exception occurred:\n\nTraceback (most recent call last):\n  File \"/Users/pascal/anaconda3/envs/IFNA/lib/python3.10/site-packages/gee_subset/gee_subset.py\", line 203, in gee_subset\n    region = col.getRegion(geometry, int(scale)).getInfo()\n  File \"/Users/pascal/anaconda3/envs/IFNA/lib/python3.10/site-packages/ee/computedobject.py\", line 105, in getInfo\n    return data.computeValue(self)\n  File \"/Users/pascal/anaconda3/envs/IFNA/lib/python3.10/site-packages/ee/data.py\", line 1039, in computeValue\n    return _execute_cloud_call(\n  File \"/Users/pascal/anaconda3/envs/IFNA/lib/python3.10/site-packages/ee/data.py\", line 356, in _execute_cloud_call\n    raise _translate_cloud_exception(e)  # pylint: disable=raise-missing-from\nee.ee_exception.EEException: Too Many Requests: Request was rejected because the request rate or concurrency limit was exceeded.\n\nDuring handling of the above exception, another exception occurred:\n\nTraceback (most recent call last):\n  File \"/Users/pascal/anaconda3/envs/IFNA/lib/python3.10/site-packages/ee/data.py\", line 354, in _execute_cloud_call\n    return call.execute(num_retries=num_retries)\n  File \"/Users/pascal/anaconda3/envs/IFNA/lib/python3.10/site-packages/googleapiclient/_helpers.py\", line 130, in positional_wrapper\n    return wrapped(*args, **kwargs)\n  File \"/Users/pascal/anaconda3/envs/IFNA/lib/python3.10/site-packages/googleapiclient/http.py\", line 938, in execute\n    raise HttpError(resp, content, uri=self.uri)\ngoogleapiclient.errors.HttpError: <HttpError 400 when requesting https://earthengine.googleapis.com/v1/projects/earthengine-legacy/value:compute?prettyPrint=false&alt=json returned \"Image.load: Asset 'COPERNICUS/S2_HARMONIZED' is not an Image.\". Details: \"Image.load: Asset 'COPERNICUS/S2_HARMONIZED' is not an Image.\">\n\nDuring handling of the above exception, another exception occurred:\n\nTraceback (most recent call last):\n  File \"/Users/pascal/anaconda3/envs/IFNA/lib/python3.10/concurrent/futures/process.py\", line 246, in _process_worker\n    r = call_item.fn(*call_item.args, **call_item.kwargs)\n  File \"/Users/pascal/repos/padasch/ifn_analysis/python/01_download_raw_gee_data/../../src/gee_data_download.py\", line 139, in download_gee_data_PARALLEL\n    df_loop = gee_subset.gee_subset(\n  File \"/Users/pascal/anaconda3/envs/IFNA/lib/python3.10/site-packages/gee_subset/gee_subset.py\", line 207, in gee_subset\n    getRegion(geometry, int(scale)).getInfo()\n  File \"/Users/pascal/anaconda3/envs/IFNA/lib/python3.10/site-packages/ee/computedobject.py\", line 105, in getInfo\n    return data.computeValue(self)\n  File \"/Users/pascal/anaconda3/envs/IFNA/lib/python3.10/site-packages/ee/data.py\", line 1039, in computeValue\n    return _execute_cloud_call(\n  File \"/Users/pascal/anaconda3/envs/IFNA/lib/python3.10/site-packages/ee/data.py\", line 356, in _execute_cloud_call\n    raise _translate_cloud_exception(e)  # pylint: disable=raise-missing-from\nee.ee_exception.EEException: Image.load: Asset 'COPERNICUS/S2_HARMONIZED' is not an Image.\n\"\"\"",
      "\nThe above exception was the direct cause of the following exception:\n",
      "\u001b[0;31mEEException\u001b[0m                               Traceback (most recent call last)",
      "\u001b[1;32m/Users/pascal/repos/padasch/ifn_analysis/python/01_download_raw_gee_data/download_sentinel.ipynb Cell 3\u001b[0m line \u001b[0;36m3\n\u001b[1;32m     <a href='vscode-notebook-cell:/Users/pascal/repos/padasch/ifn_analysis/python/01_download_raw_gee_data/download_sentinel.ipynb#W2sZmlsZQ%3D%3D?line=34'>35</a>\u001b[0m df_list \u001b[39m=\u001b[39m [group \u001b[39mfor\u001b[39;00m name, group \u001b[39min\u001b[39;00m grouped]\n\u001b[1;32m     <a href='vscode-notebook-cell:/Users/pascal/repos/padasch/ifn_analysis/python/01_download_raw_gee_data/download_sentinel.ipynb#W2sZmlsZQ%3D%3D?line=36'>37</a>\u001b[0m \u001b[39m# Parallelize the download\u001b[39;00m\n\u001b[0;32m---> <a href='vscode-notebook-cell:/Users/pascal/repos/padasch/ifn_analysis/python/01_download_raw_gee_data/download_sentinel.ipynb#W2sZmlsZQ%3D%3D?line=37'>38</a>\u001b[0m run_mp(\n\u001b[1;32m     <a href='vscode-notebook-cell:/Users/pascal/repos/padasch/ifn_analysis/python/01_download_raw_gee_data/download_sentinel.ipynb#W2sZmlsZQ%3D%3D?line=38'>39</a>\u001b[0m     download_gee_data_PARALLEL,\n\u001b[1;32m     <a href='vscode-notebook-cell:/Users/pascal/repos/padasch/ifn_analysis/python/01_download_raw_gee_data/download_sentinel.ipynb#W2sZmlsZQ%3D%3D?line=39'>40</a>\u001b[0m     df_list,\n\u001b[1;32m     <a href='vscode-notebook-cell:/Users/pascal/repos/padasch/ifn_analysis/python/01_download_raw_gee_data/download_sentinel.ipynb#W2sZmlsZQ%3D%3D?line=40'>41</a>\u001b[0m     combine_func\u001b[39m=\u001b[39;49mpd\u001b[39m.\u001b[39;49mconcat,\n\u001b[1;32m     <a href='vscode-notebook-cell:/Users/pascal/repos/padasch/ifn_analysis/python/01_download_raw_gee_data/download_sentinel.ipynb#W2sZmlsZQ%3D%3D?line=41'>42</a>\u001b[0m     progress_bar\u001b[39m=\u001b[39;49m\u001b[39mTrue\u001b[39;49;00m,\n\u001b[1;32m     <a href='vscode-notebook-cell:/Users/pascal/repos/padasch/ifn_analysis/python/01_download_raw_gee_data/download_sentinel.ipynb#W2sZmlsZQ%3D%3D?line=42'>43</a>\u001b[0m     num_cores\u001b[39m=\u001b[39;49m\u001b[39m10\u001b[39;49m,\n\u001b[1;32m     <a href='vscode-notebook-cell:/Users/pascal/repos/padasch/ifn_analysis/python/01_download_raw_gee_data/download_sentinel.ipynb#W2sZmlsZQ%3D%3D?line=43'>44</a>\u001b[0m     product\u001b[39m=\u001b[39;49mproduct,\n\u001b[1;32m     <a href='vscode-notebook-cell:/Users/pascal/repos/padasch/ifn_analysis/python/01_download_raw_gee_data/download_sentinel.ipynb#W2sZmlsZQ%3D%3D?line=44'>45</a>\u001b[0m     my_bands\u001b[39m=\u001b[39;49mmy_bands,\n\u001b[1;32m     <a href='vscode-notebook-cell:/Users/pascal/repos/padasch/ifn_analysis/python/01_download_raw_gee_data/download_sentinel.ipynb#W2sZmlsZQ%3D%3D?line=45'>46</a>\u001b[0m     product_start_date\u001b[39m=\u001b[39;49mproduct_start_date,\n\u001b[1;32m     <a href='vscode-notebook-cell:/Users/pascal/repos/padasch/ifn_analysis/python/01_download_raw_gee_data/download_sentinel.ipynb#W2sZmlsZQ%3D%3D?line=46'>47</a>\u001b[0m     product_end_date\u001b[39m=\u001b[39;49mproduct_end_date,\n\u001b[1;32m     <a href='vscode-notebook-cell:/Users/pascal/repos/padasch/ifn_analysis/python/01_download_raw_gee_data/download_sentinel.ipynb#W2sZmlsZQ%3D%3D?line=47'>48</a>\u001b[0m     product_scale\u001b[39m=\u001b[39;49mproduct_scale,\n\u001b[1;32m     <a href='vscode-notebook-cell:/Users/pascal/repos/padasch/ifn_analysis/python/01_download_raw_gee_data/download_sentinel.ipynb#W2sZmlsZQ%3D%3D?line=48'>49</a>\u001b[0m     output_scale\u001b[39m=\u001b[39;49moutput_scale,\n\u001b[1;32m     <a href='vscode-notebook-cell:/Users/pascal/repos/padasch/ifn_analysis/python/01_download_raw_gee_data/download_sentinel.ipynb#W2sZmlsZQ%3D%3D?line=49'>50</a>\u001b[0m     output_folder\u001b[39m=\u001b[39;49moutput_folder,\n\u001b[1;32m     <a href='vscode-notebook-cell:/Users/pascal/repos/padasch/ifn_analysis/python/01_download_raw_gee_data/download_sentinel.ipynb#W2sZmlsZQ%3D%3D?line=50'>51</a>\u001b[0m )\n",
      "File \u001b[0;32m~/repos/padasch/ifn_analysis/python/01_download_raw_gee_data/../../src/run_mp.py:47\u001b[0m, in \u001b[0;36mrun_mp\u001b[0;34m(map_func, arg_list, combine_func, num_cores, split_arg, progress_bar, **kwargs)\u001b[0m\n\u001b[1;32m     44\u001b[0m         results \u001b[39m=\u001b[39m []\n\u001b[1;32m     46\u001b[0m         \u001b[39mfor\u001b[39;00m future \u001b[39min\u001b[39;00m futures:\n\u001b[0;32m---> 47\u001b[0m             result \u001b[39m=\u001b[39m future\u001b[39m.\u001b[39;49mresult()\n\u001b[1;32m     48\u001b[0m             results\u001b[39m.\u001b[39mappend(result)\n\u001b[1;32m     50\u001b[0m \u001b[39mif\u001b[39;00m combine_func \u001b[39mis\u001b[39;00m \u001b[39mnot\u001b[39;00m \u001b[39mNone\u001b[39;00m:\n",
      "File \u001b[0;32m~/anaconda3/envs/IFNA/lib/python3.10/concurrent/futures/_base.py:458\u001b[0m, in \u001b[0;36mFuture.result\u001b[0;34m(self, timeout)\u001b[0m\n\u001b[1;32m    456\u001b[0m     \u001b[39mraise\u001b[39;00m CancelledError()\n\u001b[1;32m    457\u001b[0m \u001b[39melif\u001b[39;00m \u001b[39mself\u001b[39m\u001b[39m.\u001b[39m_state \u001b[39m==\u001b[39m FINISHED:\n\u001b[0;32m--> 458\u001b[0m     \u001b[39mreturn\u001b[39;00m \u001b[39mself\u001b[39;49m\u001b[39m.\u001b[39;49m__get_result()\n\u001b[1;32m    459\u001b[0m \u001b[39melse\u001b[39;00m:\n\u001b[1;32m    460\u001b[0m     \u001b[39mraise\u001b[39;00m \u001b[39mTimeoutError\u001b[39;00m()\n",
      "File \u001b[0;32m~/anaconda3/envs/IFNA/lib/python3.10/concurrent/futures/_base.py:403\u001b[0m, in \u001b[0;36mFuture.__get_result\u001b[0;34m(self)\u001b[0m\n\u001b[1;32m    401\u001b[0m \u001b[39mif\u001b[39;00m \u001b[39mself\u001b[39m\u001b[39m.\u001b[39m_exception:\n\u001b[1;32m    402\u001b[0m     \u001b[39mtry\u001b[39;00m:\n\u001b[0;32m--> 403\u001b[0m         \u001b[39mraise\u001b[39;00m \u001b[39mself\u001b[39m\u001b[39m.\u001b[39m_exception\n\u001b[1;32m    404\u001b[0m     \u001b[39mfinally\u001b[39;00m:\n\u001b[1;32m    405\u001b[0m         \u001b[39m# Break a reference cycle with the exception in self._exception\u001b[39;00m\n\u001b[1;32m    406\u001b[0m         \u001b[39mself\u001b[39m \u001b[39m=\u001b[39m \u001b[39mNone\u001b[39;00m\n",
      "\u001b[0;31mEEException\u001b[0m: Image.load: Asset 'COPERNICUS/S2_HARMONIZED' is not an Image."
     ]
    }
   ],
   "source": [
    "# Import Libraries\n",
    "import pandas as pd\n",
    "from datetime import datetime\n",
    "import numpy as np\n",
    "import sys\n",
    "\n",
    "sys.path.insert(0, \"../../src\")\n",
    "\n",
    "# Import Functions\n",
    "from run_mp import *\n",
    "from gee_data_wrangling import *\n",
    "from gee_data_download import *\n",
    "\n",
    "# Load data from csv\n",
    "data = get_location_site_df()\n",
    "\n",
    "# Clean first and last date for download routine\n",
    "data_clean = adjust_first_last_date(\n",
    "    df=data,\n",
    "    plus_years=my_plus_years,\n",
    "    minus_years=my_minus_years,\n",
    "    first_date=my_first_date,\n",
    "    last_date=my_last_date,\n",
    ")\n",
    "\n",
    "# Split sites into groups of ten, to use all cores\n",
    "sequence = np.arange(1, 11)  # This creates an array [1, 2, ..., 10]\n",
    "repeated_sequence = np.tile(sequence, len(data_clean) // len(sequence) + 1)[\n",
    "    : len(data_clean)\n",
    "]\n",
    "data_clean[\"group_id\"] = repeated_sequence\n",
    "\n",
    "# Create a list of all the groups\n",
    "grouped = data_clean.groupby(\"group_id\")\n",
    "df_list = [group for name, group in grouped]\n",
    "\n",
    "# Parallelize the download\n",
    "run_mp(\n",
    "    download_gee_data_PARALLEL,\n",
    "    df_list,\n",
    "    combine_func=pd.concat,\n",
    "    progress_bar=True,\n",
    "    num_cores=10,\n",
    "    product=product,\n",
    "    my_bands=my_bands,\n",
    "    product_start_date=product_start_date,\n",
    "    product_end_date=product_end_date,\n",
    "    product_scale=product_scale,\n",
    "    output_scale=output_scale,\n",
    "    output_folder=output_folder,\n",
    ")"
   ]
  }
 ],
 "metadata": {
  "kernelspec": {
   "display_name": "Python 3 (ipykernel)",
   "language": "python",
   "name": "python3"
  },
  "language_info": {
   "codemirror_mode": {
    "name": "ipython",
    "version": 3
   },
   "file_extension": ".py",
   "mimetype": "text/x-python",
   "name": "python",
   "nbconvert_exporter": "python",
   "pygments_lexer": "ipython3",
   "version": "3.10.13"
  }
 },
 "nbformat": 4,
 "nbformat_minor": 5
}
