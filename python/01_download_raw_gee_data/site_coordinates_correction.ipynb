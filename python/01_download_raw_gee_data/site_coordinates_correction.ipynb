{
 "cells": [
  {
   "cell_type": "code",
   "execution_count": 1,
   "metadata": {},
   "outputs": [],
   "source": [
    "import ee\n",
    "\n",
    "ee.Initialize()"
   ]
  },
  {
   "cell_type": "code",
   "execution_count": 11,
   "metadata": {},
   "outputs": [],
   "source": [
    "my_col = ee.ImageCollection(\"ESA/WorldCover/v200\")\n",
    "my_bands = [\"Map\"]\n",
    "my_scale = 10\n",
    "my_aoi = ee.Geometry.BBox(-5.1424, 42.3837, 9.5619, 51.1242)"
   ]
  },
  {
   "cell_type": "code",
   "execution_count": 17,
   "metadata": {},
   "outputs": [],
   "source": [
    "my_img = my_col.select(my_bands).filterBounds(my_aoi).first()\n",
    "\n",
    "task = ee.batch.Export.image.toDrive(\n",
    "    image=my_img,\n",
    "    description=\"image_export\",\n",
    "    folder=\"ee_demos\",\n",
    "    region=my_aoi,\n",
    "    scale=my_scale,\n",
    "    crs=\"EPSG:4326\",\n",
    "    maxPixels=15926678713,\n",
    ")\n",
    "task.start()"
   ]
  }
 ],
 "metadata": {
  "kernelspec": {
   "display_name": "ifna-venv",
   "language": "python",
   "name": "python3"
  },
  "language_info": {
   "codemirror_mode": {
    "name": "ipython",
    "version": 3
   },
   "file_extension": ".py",
   "mimetype": "text/x-python",
   "name": "python",
   "nbconvert_exporter": "python",
   "pygments_lexer": "ipython3",
   "version": "3.10.9"
  }
 },
 "nbformat": 4,
 "nbformat_minor": 2
}
