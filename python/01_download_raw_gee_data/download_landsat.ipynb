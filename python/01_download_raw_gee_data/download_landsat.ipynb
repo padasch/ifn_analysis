{
 "cells": [
  {
   "cell_type": "markdown",
   "id": "0a9bb39b",
   "metadata": {},
   "source": [
    "# Settings for Download: Landsat\n",
    "\n",
    "[Dataset](https://developers.google.com/earth-engine/datasets/catalog/LANDSAT_LC08_C02_T1_L2)"
   ]
  },
  {
   "cell_type": "code",
   "execution_count": 4,
   "id": "3c34f812",
   "metadata": {},
   "outputs": [],
   "source": [
    "# ADJUST ONLY THESE PARAMETERS!\n",
    "\n",
    "# If loop broke, resume by setting this i to where you want to continue\n",
    "skip_to_i = 0 # 0 = no skip\n",
    "\n",
    "# Timescale of Interest\n",
    "my_plus_years   = 5 # Years to add after first visit\n",
    "my_minus_years  = 2 # Years to add before first visit\n",
    "my_first_date   = \"-01-01\"  # First date of first year \"-MM-DD\"\n",
    "my_last_date    = \"-12-31\"  # Last date of last year \"-MM-DD\"\n",
    "\n",
    "# Dataset of Interest\n",
    "product            = \"LANDSAT/LC08/C02/T1_L2\"\n",
    "product_start_date = \"2013-03-18\"\n",
    "product_end_date   = \"2023-10-13\"\n",
    "product_scale      = 700\n",
    "\n",
    "output_scale       = product_scale\n",
    "output_folder      = \"gee-raw-data/landsat\"\n",
    "\n",
    "my_bands           = [\"SR_B1\", \"SR_B2\", \"SR_B3\", \"SR_B4\", \"SR_B5\", \"SR_B6\", \"SR_B7\", \"QA_PIXEL\"]"
   ]
  },
  {
   "cell_type": "markdown",
   "id": "a6db60db",
   "metadata": {},
   "source": [
    "# Download Routine Below"
   ]
  },
  {
   "cell_type": "code",
   "execution_count": 12,
   "id": "c35e2a38",
   "metadata": {},
   "outputs": [],
   "source": [
    "%run -i gee_functions.py"
   ]
  },
  {
   "cell_type": "code",
   "execution_count": 6,
   "id": "increasing-layer",
   "metadata": {},
   "outputs": [],
   "source": [
    "# Import Libraries\n",
    "import ee\n",
    "# ee.Authenticate()\n",
    "ee.Initialize()\n",
    "\n",
    "import os, re\n",
    "import pandas as pd\n",
    "from gee_subset import gee_subset\n",
    "import geopandas as gpd\n",
    "from datetime import datetime"
   ]
  },
  {
   "cell_type": "code",
   "execution_count": 7,
   "id": "electronic-literature",
   "metadata": {},
   "outputs": [],
   "source": [
    "data = get_location_site_df()\n",
    "data_clean = adjust_first_last_date(\n",
    "    df = data,\n",
    "    plus_years  = my_plus_years,\n",
    "    minus_years = my_minus_years,\n",
    "    first_date  = my_first_date,\n",
    "    last_date   = my_last_date,\n",
    ")\n",
    "\n",
    "cnt     = len(data_clean)\n",
    "siteSet = list(range(0, cnt, 1))"
   ]
  },
  {
   "cell_type": "code",
   "execution_count": 8,
   "id": "3eed2d2d",
   "metadata": {},
   "outputs": [],
   "source": [
    "# data_clean.head(10)"
   ]
  },
  {
   "cell_type": "code",
   "execution_count": 9,
   "id": "f8c963ea",
   "metadata": {},
   "outputs": [],
   "source": [
    "# print(\"Acess via [0, 1]: \", data_clean.columns[1], \"\\t = \", data_clean.iloc[0, 1])\n",
    "# print(\"Acess via [0, 2]: \", data_clean.columns[2], \"\\t = \", data_clean.iloc[0, 2])\n",
    "# print(\"Acess via [0, 3]: \", data_clean.columns[3], \"\\t = \", data_clean.iloc[0, 3])\n",
    "# print(\"Acess via [0, 4]: \", data_clean.columns[4], \"\\t = \", data_clean.iloc[0, 4])"
   ]
  },
  {
   "cell_type": "code",
   "execution_count": 10,
   "id": "0bde10a7",
   "metadata": {},
   "outputs": [],
   "source": [
    "# Create folder if it doesn't exist\n",
    "if not os.path.exists(output_folder):\n",
    "    os.makedirs(output_folder)"
   ]
  },
  {
   "cell_type": "code",
   "execution_count": null,
   "id": "986f1a74",
   "metadata": {},
   "outputs": [],
   "source": [
    "download_gee_data(\n",
    "    siteSet,\n",
    "    skip_to_i,\n",
    "    product,\n",
    "    my_bands,\n",
    "    data_clean,\n",
    "    product_start_date,\n",
    "    product_scale,\n",
    "    output_scale,\n",
    "    output_folder\n",
    ")"
   ]
  }
 ],
 "metadata": {
  "kernelspec": {
   "display_name": "Python 3 (ipykernel)",
   "language": "python",
   "name": "python3"
  },
  "language_info": {
   "codemirror_mode": {
    "name": "ipython",
    "version": 3
   },
   "file_extension": ".py",
   "mimetype": "text/x-python",
   "name": "python",
   "nbconvert_exporter": "python",
   "pygments_lexer": "ipython3",
   "version": "3.10.13"
  }
 },
 "nbformat": 4,
 "nbformat_minor": 5
}
