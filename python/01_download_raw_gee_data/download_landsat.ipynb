{
 "cells": [
  {
   "cell_type": "markdown",
   "id": "0a9bb39b",
   "metadata": {},
   "source": [
    "# Settings for Download: Landsat\n",
    "\n",
    "[USGS Landsat 8 Level 2, Collection 2, Tier 1 ](https://developers.google.com/earth-engine/datasets/catalog/LANDSAT_LC08_C02_T1_L2)"
   ]
  },
  {
   "cell_type": "code",
   "execution_count": 1,
   "id": "3c34f812",
   "metadata": {},
   "outputs": [],
   "source": [
    "# ADJUST ONLY THESE PARAMETERS!\n",
    "\n",
    "# If loop broke, resume by setting this i to where you want to continue\n",
    "skip_to_i = 0  # 0 = no skip\n",
    "\n",
    "# Timescale of Interest\n",
    "my_plus_years = 5  # Years to add after first visit\n",
    "my_minus_years = 2  # Years to add before first visit\n",
    "my_first_date = \"-01-01\"  # First date of first year \"-MM-DD\"\n",
    "my_last_date = \"-12-31\"  # Last date of last year \"-MM-DD\"\n",
    "\n",
    "# Dataset of Interest\n",
    "product = \"LANDSAT/LC08/C02/T1_L2\"\n",
    "product_start_date = \"2013-03-18\"\n",
    "product_end_date = \"2023-10-13\"\n",
    "product_scale = 700\n",
    "\n",
    "output_scale = product_scale\n",
    "output_folder = \"gee-raw-data/landsat\"\n",
    "\n",
    "my_bands = [\"SR_B1\", \"SR_B2\", \"SR_B3\", \"SR_B4\", \"SR_B5\", \"SR_B6\", \"SR_B7\", \"QA_PIXEL\"]"
   ]
  },
  {
   "cell_type": "code",
   "execution_count": 2,
   "id": "increasing-layer",
   "metadata": {},
   "outputs": [],
   "source": [
    "# Import Libraries\n",
    "import pandas as pd\n",
    "from datetime import datetime\n",
    "import numpy as np\n",
    "import sys\n",
    "sys.path.insert(0, \"../../src\")\n",
    "\n",
    "# Import Functions\n",
    "from run_mp import *\n",
    "from gee_data_wrangling import *\n",
    "from gee_data_download import *\n",
    "\n",
    "# Load data from csv\n",
    "data = get_location_site_df()\n",
    "\n",
    "# Clean first and last date for download routine\n",
    "data_clean = adjust_first_last_date(\n",
    "    df=data,\n",
    "    plus_years=my_plus_years,\n",
    "    minus_years=my_minus_years,\n",
    "    first_date=my_first_date,\n",
    "    last_date=my_last_date,\n",
    ")\n",
    "\n",
    "# Split sites into groups of ten, to use all cores\n",
    "sequence = np.arange(1, 11)  # This creates an array [1, 2, ..., 10]\n",
    "repeated_sequence = np.tile(sequence, len(data_clean) // len(sequence) + 1)[: len(data_clean)]\n",
    "data_clean[\"group_id\"] = repeated_sequence\n",
    "\n",
    "# Create a list of all the groups\n",
    "grouped = data_clean.groupby(\"group_id\")\n",
    "df_list = [group for name, group in grouped]\n",
    "\n",
    "# Parallelize the download\n",
    "run_mp(\n",
    "    download_gee_data_PARALLEL,\n",
    "    df_list,\n",
    "    combine_func=pd.concat,\n",
    "    progress_bar=True,\n",
    "    num_cores=10,\n",
    "    product=product,\n",
    "    my_bands=my_bands,\n",
    "    product_start_date=product_start_date,\n",
    "    product_end_date=product_end_date,\n",
    "    product_scale=product_scale,\n",
    "    output_scale=output_scale,\n",
    "    output_folder=output_folder,\n",
    ")"
   ]
  },
  {
   "cell_type": "code",
   "execution_count": 8,
   "metadata": {},
   "outputs": [
    {
     "name": "stderr",
     "output_type": "stream",
     "text": [
      "  0%|          | 0/10 [00:00<?, ?it/s]"
     ]
    },
    {
     "name": "stderr",
     "output_type": "stream",
     "text": [
      "100%|██████████| 10/10 [1:55:30<00:00, 693.06s/it]   \n"
     ]
    },
    {
     "ename": "ValueError",
     "evalue": "All objects passed were None",
     "output_type": "error",
     "traceback": [
      "\u001b[0;31m---------------------------------------------------------------------------\u001b[0m",
      "\u001b[0;31mValueError\u001b[0m                                Traceback (most recent call last)",
      "\u001b[1;32m/Users/pascal/repos/padasch/ifn_analysis/python/01_download_raw_gee_data/download_landsat.ipynb Cell 4\u001b[0m line \u001b[0;36m1\n\u001b[0;32m----> <a href='vscode-notebook-cell:/Users/pascal/repos/padasch/ifn_analysis/python/01_download_raw_gee_data/download_landsat.ipynb#X26sZmlsZQ%3D%3D?line=0'>1</a>\u001b[0m run_mp(\n\u001b[1;32m      <a href='vscode-notebook-cell:/Users/pascal/repos/padasch/ifn_analysis/python/01_download_raw_gee_data/download_landsat.ipynb#X26sZmlsZQ%3D%3D?line=1'>2</a>\u001b[0m     download_gee_data_PARALLEL,\n\u001b[1;32m      <a href='vscode-notebook-cell:/Users/pascal/repos/padasch/ifn_analysis/python/01_download_raw_gee_data/download_landsat.ipynb#X26sZmlsZQ%3D%3D?line=2'>3</a>\u001b[0m     df_list,\n\u001b[1;32m      <a href='vscode-notebook-cell:/Users/pascal/repos/padasch/ifn_analysis/python/01_download_raw_gee_data/download_landsat.ipynb#X26sZmlsZQ%3D%3D?line=3'>4</a>\u001b[0m     combine_func\u001b[39m=\u001b[39;49mpd\u001b[39m.\u001b[39;49mconcat,\n\u001b[1;32m      <a href='vscode-notebook-cell:/Users/pascal/repos/padasch/ifn_analysis/python/01_download_raw_gee_data/download_landsat.ipynb#X26sZmlsZQ%3D%3D?line=4'>5</a>\u001b[0m     progress_bar\u001b[39m=\u001b[39;49m\u001b[39mTrue\u001b[39;49;00m,\n\u001b[1;32m      <a href='vscode-notebook-cell:/Users/pascal/repos/padasch/ifn_analysis/python/01_download_raw_gee_data/download_landsat.ipynb#X26sZmlsZQ%3D%3D?line=5'>6</a>\u001b[0m     num_cores\u001b[39m=\u001b[39;49m\u001b[39m10\u001b[39;49m,\n\u001b[1;32m      <a href='vscode-notebook-cell:/Users/pascal/repos/padasch/ifn_analysis/python/01_download_raw_gee_data/download_landsat.ipynb#X26sZmlsZQ%3D%3D?line=6'>7</a>\u001b[0m     product\u001b[39m=\u001b[39;49mproduct,\n\u001b[1;32m      <a href='vscode-notebook-cell:/Users/pascal/repos/padasch/ifn_analysis/python/01_download_raw_gee_data/download_landsat.ipynb#X26sZmlsZQ%3D%3D?line=7'>8</a>\u001b[0m     my_bands\u001b[39m=\u001b[39;49mmy_bands,\n\u001b[1;32m      <a href='vscode-notebook-cell:/Users/pascal/repos/padasch/ifn_analysis/python/01_download_raw_gee_data/download_landsat.ipynb#X26sZmlsZQ%3D%3D?line=8'>9</a>\u001b[0m     product_start_date\u001b[39m=\u001b[39;49mproduct_start_date,\n\u001b[1;32m     <a href='vscode-notebook-cell:/Users/pascal/repos/padasch/ifn_analysis/python/01_download_raw_gee_data/download_landsat.ipynb#X26sZmlsZQ%3D%3D?line=9'>10</a>\u001b[0m     product_end_date\u001b[39m=\u001b[39;49mproduct_end_date,\n\u001b[1;32m     <a href='vscode-notebook-cell:/Users/pascal/repos/padasch/ifn_analysis/python/01_download_raw_gee_data/download_landsat.ipynb#X26sZmlsZQ%3D%3D?line=10'>11</a>\u001b[0m     product_scale\u001b[39m=\u001b[39;49mproduct_scale,\n\u001b[1;32m     <a href='vscode-notebook-cell:/Users/pascal/repos/padasch/ifn_analysis/python/01_download_raw_gee_data/download_landsat.ipynb#X26sZmlsZQ%3D%3D?line=11'>12</a>\u001b[0m     output_scale\u001b[39m=\u001b[39;49moutput_scale,\n\u001b[1;32m     <a href='vscode-notebook-cell:/Users/pascal/repos/padasch/ifn_analysis/python/01_download_raw_gee_data/download_landsat.ipynb#X26sZmlsZQ%3D%3D?line=12'>13</a>\u001b[0m     output_folder\u001b[39m=\u001b[39;49moutput_folder,\n\u001b[1;32m     <a href='vscode-notebook-cell:/Users/pascal/repos/padasch/ifn_analysis/python/01_download_raw_gee_data/download_landsat.ipynb#X26sZmlsZQ%3D%3D?line=13'>14</a>\u001b[0m )\n",
      "File \u001b[0;32m~/repos/padasch/ifn_analysis/python/01_download_raw_gee_data/../../src/run_mp.py:51\u001b[0m, in \u001b[0;36mrun_mp\u001b[0;34m(map_func, arg_list, combine_func, num_cores, split_arg, progress_bar, **kwargs)\u001b[0m\n\u001b[1;32m     48\u001b[0m             results\u001b[39m.\u001b[39mappend(result)\n\u001b[1;32m     50\u001b[0m \u001b[39mif\u001b[39;00m combine_func \u001b[39mis\u001b[39;00m \u001b[39mnot\u001b[39;00m \u001b[39mNone\u001b[39;00m:\n\u001b[0;32m---> 51\u001b[0m     \u001b[39mreturn\u001b[39;00m combine_func(results)\n\u001b[1;32m     52\u001b[0m \u001b[39melse\u001b[39;00m:\n\u001b[1;32m     53\u001b[0m     \u001b[39mreturn\u001b[39;00m results\n",
      "File \u001b[0;32m~/anaconda3/envs/IFNA/lib/python3.10/site-packages/pandas/core/reshape/concat.py:380\u001b[0m, in \u001b[0;36mconcat\u001b[0;34m(objs, axis, join, ignore_index, keys, levels, names, verify_integrity, sort, copy)\u001b[0m\n\u001b[1;32m    377\u001b[0m \u001b[39melif\u001b[39;00m copy \u001b[39mand\u001b[39;00m using_copy_on_write():\n\u001b[1;32m    378\u001b[0m     copy \u001b[39m=\u001b[39m \u001b[39mFalse\u001b[39;00m\n\u001b[0;32m--> 380\u001b[0m op \u001b[39m=\u001b[39m _Concatenator(\n\u001b[1;32m    381\u001b[0m     objs,\n\u001b[1;32m    382\u001b[0m     axis\u001b[39m=\u001b[39;49maxis,\n\u001b[1;32m    383\u001b[0m     ignore_index\u001b[39m=\u001b[39;49mignore_index,\n\u001b[1;32m    384\u001b[0m     join\u001b[39m=\u001b[39;49mjoin,\n\u001b[1;32m    385\u001b[0m     keys\u001b[39m=\u001b[39;49mkeys,\n\u001b[1;32m    386\u001b[0m     levels\u001b[39m=\u001b[39;49mlevels,\n\u001b[1;32m    387\u001b[0m     names\u001b[39m=\u001b[39;49mnames,\n\u001b[1;32m    388\u001b[0m     verify_integrity\u001b[39m=\u001b[39;49mverify_integrity,\n\u001b[1;32m    389\u001b[0m     copy\u001b[39m=\u001b[39;49mcopy,\n\u001b[1;32m    390\u001b[0m     sort\u001b[39m=\u001b[39;49msort,\n\u001b[1;32m    391\u001b[0m )\n\u001b[1;32m    393\u001b[0m \u001b[39mreturn\u001b[39;00m op\u001b[39m.\u001b[39mget_result()\n",
      "File \u001b[0;32m~/anaconda3/envs/IFNA/lib/python3.10/site-packages/pandas/core/reshape/concat.py:443\u001b[0m, in \u001b[0;36m_Concatenator.__init__\u001b[0;34m(self, objs, axis, join, keys, levels, names, ignore_index, verify_integrity, copy, sort)\u001b[0m\n\u001b[1;32m    440\u001b[0m \u001b[39mself\u001b[39m\u001b[39m.\u001b[39mverify_integrity \u001b[39m=\u001b[39m verify_integrity\n\u001b[1;32m    441\u001b[0m \u001b[39mself\u001b[39m\u001b[39m.\u001b[39mcopy \u001b[39m=\u001b[39m copy\n\u001b[0;32m--> 443\u001b[0m objs, keys \u001b[39m=\u001b[39m \u001b[39mself\u001b[39;49m\u001b[39m.\u001b[39;49m_clean_keys_and_objs(objs, keys)\n\u001b[1;32m    445\u001b[0m \u001b[39m# figure out what our result ndim is going to be\u001b[39;00m\n\u001b[1;32m    446\u001b[0m ndims \u001b[39m=\u001b[39m \u001b[39mself\u001b[39m\u001b[39m.\u001b[39m_get_ndims(objs)\n",
      "File \u001b[0;32m~/anaconda3/envs/IFNA/lib/python3.10/site-packages/pandas/core/reshape/concat.py:539\u001b[0m, in \u001b[0;36m_Concatenator._clean_keys_and_objs\u001b[0;34m(self, objs, keys)\u001b[0m\n\u001b[1;32m    536\u001b[0m         keys \u001b[39m=\u001b[39m Index(clean_keys, name\u001b[39m=\u001b[39mname, dtype\u001b[39m=\u001b[39m\u001b[39mgetattr\u001b[39m(keys, \u001b[39m\"\u001b[39m\u001b[39mdtype\u001b[39m\u001b[39m\"\u001b[39m, \u001b[39mNone\u001b[39;00m))\n\u001b[1;32m    538\u001b[0m \u001b[39mif\u001b[39;00m \u001b[39mlen\u001b[39m(objs_list) \u001b[39m==\u001b[39m \u001b[39m0\u001b[39m:\n\u001b[0;32m--> 539\u001b[0m     \u001b[39mraise\u001b[39;00m \u001b[39mValueError\u001b[39;00m(\u001b[39m\"\u001b[39m\u001b[39mAll objects passed were None\u001b[39m\u001b[39m\"\u001b[39m)\n\u001b[1;32m    541\u001b[0m \u001b[39mreturn\u001b[39;00m objs_list, keys\n",
      "\u001b[0;31mValueError\u001b[0m: All objects passed were None"
     ]
    }
   ],
   "source": [
    "run_mp(\n",
    "    download_gee_data_PARALLEL,\n",
    "    df_list,\n",
    "    combine_func=pd.concat,\n",
    "    progress_bar=True,\n",
    "    num_cores=10,\n",
    "    product=product,\n",
    "    my_bands=my_bands,\n",
    "    product_start_date=product_start_date,\n",
    "    product_end_date=product_end_date,\n",
    "    product_scale=product_scale,\n",
    "    output_scale=output_scale,\n",
    "    output_folder=output_folder,\n",
    ")"
   ]
  }
 ],
 "metadata": {
  "kernelspec": {
   "display_name": "Python 3 (ipykernel)",
   "language": "python",
   "name": "python3"
  },
  "language_info": {
   "codemirror_mode": {
    "name": "ipython",
    "version": 3
   },
   "file_extension": ".py",
   "mimetype": "text/x-python",
   "name": "python",
   "nbconvert_exporter": "python",
   "pygments_lexer": "ipython3",
   "version": "3.10.13"
  }
 },
 "nbformat": 4,
 "nbformat_minor": 5
}
