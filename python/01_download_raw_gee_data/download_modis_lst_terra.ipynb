{
 "cells": [
  {
   "cell_type": "markdown",
   "metadata": {},
   "source": [
    "# Settings for Download: MODIS LST Terra\n",
    "\n",
    "[MODIS/061/MOD11A1](https://developers.google.com/earth-engine/datasets/catalog/MODIS_061_MOD11A1)"
   ]
  },
  {
   "cell_type": "code",
   "execution_count": 1,
   "metadata": {},
   "outputs": [],
   "source": [
    "# ADJUST ONLY THESE PARAMETERS!\n",
    "\n",
    "# If loop broke, resume by setting this i to where you want to continue\n",
    "skip_to_i = 0 # 0 = no skip\n",
    "\n",
    "# Timescale of Interest\n",
    "my_plus_years   = 5 # Years to add after first visit\n",
    "my_minus_years  = 2 # Years to add before first visit\n",
    "my_first_date   = \"-01-01\"  # First date of first year \"-MM-DD\"\n",
    "my_last_date    = \"-12-31\"  # Last date of last year \"-MM-DD\"\n",
    "\n",
    "# Dataset of Interest\n",
    "product            = \"MODIS/061/MOD11A1\"\n",
    "product_start_date = \"2000-02-24\"\n",
    "product_end_date   = \"2023-10-28\"\n",
    "product_scale      = 1000\n",
    "\n",
    "output_scale       = product_scale\n",
    "output_folder      = \"gee-raw-data/modis-lst-terra\"\n",
    "\n",
    "my_bands           = [\"LST_Day_1km\", \"QC_Day\"]"
   ]
  },
  {
   "cell_type": "markdown",
   "metadata": {},
   "source": [
    "# Download Routine Below"
   ]
  },
  {
   "cell_type": "code",
   "execution_count": 2,
   "metadata": {},
   "outputs": [],
   "source": [
    "%run -i gee_functions.py"
   ]
  },
  {
   "cell_type": "code",
   "execution_count": 3,
   "metadata": {},
   "outputs": [],
   "source": [
    "# Import Libraries\n",
    "import ee\n",
    "# ee.Authenticate()\n",
    "ee.Initialize()\n",
    "\n",
    "import os, re\n",
    "import pandas as pd\n",
    "from gee_subset import gee_subset\n",
    "import geopandas as gpd\n",
    "from datetime import datetime"
   ]
  },
  {
   "cell_type": "code",
   "execution_count": 4,
   "metadata": {},
   "outputs": [],
   "source": [
    "data = get_location_site_df()\n",
    "data_clean = adjust_first_last_date(\n",
    "    df = data,\n",
    "    plus_years  = my_plus_years,\n",
    "    minus_years = my_minus_years,\n",
    "    first_date  = my_first_date,\n",
    "    last_date   = my_last_date,\n",
    ")\n",
    "\n",
    "cnt     = len(data_clean)\n",
    "siteSet = list(range(0, cnt, 1))"
   ]
  },
  {
   "cell_type": "code",
   "execution_count": 5,
   "metadata": {},
   "outputs": [],
   "source": [
    "# data_clean.head(10)"
   ]
  },
  {
   "cell_type": "code",
   "execution_count": 6,
   "metadata": {},
   "outputs": [],
   "source": [
    "# print(\"Acess via [0, 1]: \", data_clean.columns[1], \"\\t = \", data_clean.iloc[0, 1])\n",
    "# print(\"Acess via [0, 2]: \", data_clean.columns[2], \"\\t = \", data_clean.iloc[0, 2])\n",
    "# print(\"Acess via [0, 3]: \", data_clean.columns[3], \"\\t = \", data_clean.iloc[0, 3])\n",
    "# print(\"Acess via [0, 4]: \", data_clean.columns[4], \"\\t = \", data_clean.iloc[0, 4])"
   ]
  },
  {
   "cell_type": "code",
   "execution_count": 7,
   "metadata": {},
   "outputs": [],
   "source": [
    "# Create folder if it doesn't exist\n",
    "if not os.path.exists(output_folder):\n",
    "    os.makedirs(output_folder)"
   ]
  },
  {
   "cell_type": "code",
   "execution_count": 8,
   "metadata": {},
   "outputs": [],
   "source": [
    "download_gee_data(\n",
    "    siteSet,\n",
    "    skip_to_i,\n",
    "    product,\n",
    "    my_bands,\n",
    "    data_clean,\n",
    "    product_start_date,\n",
    "    product_scale,\n",
    "    output_scale,\n",
    "    output_folder\n",
    ")"
   ]
  }
 ],
 "metadata": {
  "kernelspec": {
   "display_name": "IFNA",
   "language": "python",
   "name": "python3"
  },
  "language_info": {
   "codemirror_mode": {
    "name": "ipython",
    "version": 3
   },
   "file_extension": ".py",
   "mimetype": "text/x-python",
   "name": "python",
   "nbconvert_exporter": "python",
   "pygments_lexer": "ipython3",
   "version": "3.10.13"
  }
 },
 "nbformat": 4,
 "nbformat_minor": 2
}
