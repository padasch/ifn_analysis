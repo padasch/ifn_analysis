{
 "cells": [
  {
   "cell_type": "markdown",
   "metadata": {},
   "source": [
    "# Wrangling NFI Raw Data\n"
   ]
  },
  {
   "cell_type": "markdown",
   "metadata": {},
   "source": [
    "## 📜 Libraries and Functions\n"
   ]
  },
  {
   "cell_type": "code",
   "execution_count": 1,
   "metadata": {},
   "outputs": [],
   "source": [
    "# Data wrangling\n",
    "import pandas as pd\n",
    "import numpy as np\n",
    "import random\n",
    "\n",
    "# Data visualisation\n",
    "from ydata_profiling import ProfileReport\n",
    "import matplotlib.pyplot as plt\n",
    "import seaborn as sns\n",
    "import matplotlib.pyplot as plt\n",
    "from matplotlib.pylab import f\n",
    "\n",
    "# My functions\n",
    "import sys\n",
    "\n",
    "sys.path.insert(0, \"../../src\")\n",
    "from run_mp import *\n",
    "from utilities import *\n",
    "from random_forest_utils import *\n",
    "\n",
    "# Other\n",
    "from os import error\n",
    "import datetime\n",
    "from io import StringIO\n",
    "import re\n",
    "import warnings\n",
    "import chime\n",
    "from pyprojroot import here\n",
    "\n",
    "chime.theme(\"mario\")\n",
    "\n",
    "# Magic\n",
    "%matplotlib inline\n",
    "%load_ext autoreload\n",
    "%autoreload 2"
   ]
  },
  {
   "cell_type": "code",
   "execution_count": 2,
   "metadata": {},
   "outputs": [
    {
     "data": {
      "text/plain": [
       "(549255, 193)"
      ]
     },
     "execution_count": 2,
     "metadata": {},
     "output_type": "execute_result"
    }
   ],
   "source": [
    "nfi_raw = pd.read_feather(here(\"data/tmp/nfi/nfi_ready_for_analysis.feather\"))\n",
    "nfi_raw.shape"
   ]
  },
  {
   "cell_type": "code",
   "execution_count": 3,
   "metadata": {},
   "outputs": [
    {
     "data": {
      "text/plain": [
       "40231"
      ]
     },
     "execution_count": 3,
     "metadata": {},
     "output_type": "execute_result"
    }
   ],
   "source": [
    "group = split_df_into_list_of_group_or_ns(nfi_raw, \"idp\")\n",
    "len(group)"
   ]
  },
  {
   "cell_type": "code",
   "execution_count": 4,
   "metadata": {},
   "outputs": [
    {
     "data": {
      "text/html": [
       "<div>\n",
       "<style scoped>\n",
       "    .dataframe tbody tr th:only-of-type {\n",
       "        vertical-align: middle;\n",
       "    }\n",
       "\n",
       "    .dataframe tbody tr th {\n",
       "        vertical-align: top;\n",
       "    }\n",
       "\n",
       "    .dataframe thead th {\n",
       "        text-align: right;\n",
       "    }\n",
       "</style>\n",
       "<table border=\"1\" class=\"dataframe\">\n",
       "  <thead>\n",
       "    <tr style=\"text-align: right;\">\n",
       "      <th></th>\n",
       "      <th>idp</th>\n",
       "      <th>tree_id</th>\n",
       "      <th>tree_state_change</th>\n",
       "      <th>ba_1</th>\n",
       "      <th>ba_2</th>\n",
       "    </tr>\n",
       "  </thead>\n",
       "  <tbody>\n",
       "    <tr>\n",
       "      <th>7741</th>\n",
       "      <td>518730</td>\n",
       "      <td>518730_15</td>\n",
       "      <td>alive_alive</td>\n",
       "      <td>6.955091</td>\n",
       "      <td>8.403984</td>\n",
       "    </tr>\n",
       "    <tr>\n",
       "      <th>7725</th>\n",
       "      <td>518730</td>\n",
       "      <td>518730_1</td>\n",
       "      <td>alive_cut</td>\n",
       "      <td>1.013212</td>\n",
       "      <td>1.042191</td>\n",
       "    </tr>\n",
       "    <tr>\n",
       "      <th>7745</th>\n",
       "      <td>518730</td>\n",
       "      <td>518730_21</td>\n",
       "      <td>alive_cut</td>\n",
       "      <td>1.660046</td>\n",
       "      <td>NaN</td>\n",
       "    </tr>\n",
       "    <tr>\n",
       "      <th>7744</th>\n",
       "      <td>518730</td>\n",
       "      <td>518730_20</td>\n",
       "      <td>alive_cut</td>\n",
       "      <td>0.525249</td>\n",
       "      <td>NaN</td>\n",
       "    </tr>\n",
       "    <tr>\n",
       "      <th>7742</th>\n",
       "      <td>518730</td>\n",
       "      <td>518730_18</td>\n",
       "      <td>alive_cut</td>\n",
       "      <td>0.441355</td>\n",
       "      <td>NaN</td>\n",
       "    </tr>\n",
       "    <tr>\n",
       "      <th>7740</th>\n",
       "      <td>518730</td>\n",
       "      <td>518730_14</td>\n",
       "      <td>alive_cut</td>\n",
       "      <td>1.363378</td>\n",
       "      <td>NaN</td>\n",
       "    </tr>\n",
       "    <tr>\n",
       "      <th>7739</th>\n",
       "      <td>518730</td>\n",
       "      <td>518730_12</td>\n",
       "      <td>alive_cut</td>\n",
       "      <td>0.340844</td>\n",
       "      <td>NaN</td>\n",
       "    </tr>\n",
       "    <tr>\n",
       "      <th>7737</th>\n",
       "      <td>518730</td>\n",
       "      <td>518730_6</td>\n",
       "      <td>alive_cut</td>\n",
       "      <td>0.273972</td>\n",
       "      <td>NaN</td>\n",
       "    </tr>\n",
       "    <tr>\n",
       "      <th>7746</th>\n",
       "      <td>518730</td>\n",
       "      <td>518730_22</td>\n",
       "      <td>alive_cut</td>\n",
       "      <td>0.295453</td>\n",
       "      <td>NaN</td>\n",
       "    </tr>\n",
       "    <tr>\n",
       "      <th>7735</th>\n",
       "      <td>518730</td>\n",
       "      <td>518730_2</td>\n",
       "      <td>alive_cut</td>\n",
       "      <td>1.270973</td>\n",
       "      <td>NaN</td>\n",
       "    </tr>\n",
       "    <tr>\n",
       "      <th>7736</th>\n",
       "      <td>518730</td>\n",
       "      <td>518730_4</td>\n",
       "      <td>alive_cut</td>\n",
       "      <td>1.712328</td>\n",
       "      <td>NaN</td>\n",
       "    </tr>\n",
       "    <tr>\n",
       "      <th>7733</th>\n",
       "      <td>518730</td>\n",
       "      <td>518730_16</td>\n",
       "      <td>alive_cut</td>\n",
       "      <td>1.270973</td>\n",
       "      <td>1.291481</td>\n",
       "    </tr>\n",
       "    <tr>\n",
       "      <th>7732</th>\n",
       "      <td>518730</td>\n",
       "      <td>518730_13</td>\n",
       "      <td>alive_cut</td>\n",
       "      <td>0.895274</td>\n",
       "      <td>0.916543</td>\n",
       "    </tr>\n",
       "    <tr>\n",
       "      <th>7731</th>\n",
       "      <td>518730</td>\n",
       "      <td>518730_10</td>\n",
       "      <td>alive_cut</td>\n",
       "      <td>1.410796</td>\n",
       "      <td>1.477565</td>\n",
       "    </tr>\n",
       "    <tr>\n",
       "      <th>7730</th>\n",
       "      <td>518730</td>\n",
       "      <td>518730_9</td>\n",
       "      <td>alive_cut</td>\n",
       "      <td>1.410796</td>\n",
       "      <td>1.476341</td>\n",
       "    </tr>\n",
       "    <tr>\n",
       "      <th>7729</th>\n",
       "      <td>518730</td>\n",
       "      <td>518730_8</td>\n",
       "      <td>alive_cut</td>\n",
       "      <td>2.659073</td>\n",
       "      <td>2.801096</td>\n",
       "    </tr>\n",
       "    <tr>\n",
       "      <th>7728</th>\n",
       "      <td>518730</td>\n",
       "      <td>518730_7</td>\n",
       "      <td>alive_cut</td>\n",
       "      <td>0.616438</td>\n",
       "      <td>0.638604</td>\n",
       "    </tr>\n",
       "    <tr>\n",
       "      <th>7727</th>\n",
       "      <td>518730</td>\n",
       "      <td>518730_5</td>\n",
       "      <td>alive_cut</td>\n",
       "      <td>0.857582</td>\n",
       "      <td>0.881990</td>\n",
       "    </tr>\n",
       "    <tr>\n",
       "      <th>7726</th>\n",
       "      <td>518730</td>\n",
       "      <td>518730_3</td>\n",
       "      <td>alive_cut</td>\n",
       "      <td>0.585231</td>\n",
       "      <td>0.609189</td>\n",
       "    </tr>\n",
       "    <tr>\n",
       "      <th>7734</th>\n",
       "      <td>518730</td>\n",
       "      <td>518730_17</td>\n",
       "      <td>alive_cut</td>\n",
       "      <td>1.181810</td>\n",
       "      <td>1.217975</td>\n",
       "    </tr>\n",
       "    <tr>\n",
       "      <th>7747</th>\n",
       "      <td>518730</td>\n",
       "      <td>518730_23</td>\n",
       "      <td>alive_cut</td>\n",
       "      <td>1.459025</td>\n",
       "      <td>NaN</td>\n",
       "    </tr>\n",
       "    <tr>\n",
       "      <th>7738</th>\n",
       "      <td>518730</td>\n",
       "      <td>518730_11</td>\n",
       "      <td>dead_cut</td>\n",
       "      <td>0.554835</td>\n",
       "      <td>NaN</td>\n",
       "    </tr>\n",
       "    <tr>\n",
       "      <th>7743</th>\n",
       "      <td>518730</td>\n",
       "      <td>518730_19</td>\n",
       "      <td>dead_cut</td>\n",
       "      <td>2.859689</td>\n",
       "      <td>NaN</td>\n",
       "    </tr>\n",
       "  </tbody>\n",
       "</table>\n",
       "</div>"
      ],
      "text/plain": [
       "         idp    tree_id tree_state_change      ba_1      ba_2\n",
       "7741  518730  518730_15       alive_alive  6.955091  8.403984\n",
       "7725  518730   518730_1         alive_cut  1.013212  1.042191\n",
       "7745  518730  518730_21         alive_cut  1.660046       NaN\n",
       "7744  518730  518730_20         alive_cut  0.525249       NaN\n",
       "7742  518730  518730_18         alive_cut  0.441355       NaN\n",
       "7740  518730  518730_14         alive_cut  1.363378       NaN\n",
       "7739  518730  518730_12         alive_cut  0.340844       NaN\n",
       "7737  518730   518730_6         alive_cut  0.273972       NaN\n",
       "7746  518730  518730_22         alive_cut  0.295453       NaN\n",
       "7735  518730   518730_2         alive_cut  1.270973       NaN\n",
       "7736  518730   518730_4         alive_cut  1.712328       NaN\n",
       "7733  518730  518730_16         alive_cut  1.270973  1.291481\n",
       "7732  518730  518730_13         alive_cut  0.895274  0.916543\n",
       "7731  518730  518730_10         alive_cut  1.410796  1.477565\n",
       "7730  518730   518730_9         alive_cut  1.410796  1.476341\n",
       "7729  518730   518730_8         alive_cut  2.659073  2.801096\n",
       "7728  518730   518730_7         alive_cut  0.616438  0.638604\n",
       "7727  518730   518730_5         alive_cut  0.857582  0.881990\n",
       "7726  518730   518730_3         alive_cut  0.585231  0.609189\n",
       "7734  518730  518730_17         alive_cut  1.181810  1.217975\n",
       "7747  518730  518730_23         alive_cut  1.459025       NaN\n",
       "7738  518730  518730_11          dead_cut  0.554835       NaN\n",
       "7743  518730  518730_19          dead_cut  2.859689       NaN"
      ]
     },
     "execution_count": 4,
     "metadata": {},
     "output_type": "execute_result"
    }
   ],
   "source": [
    "ngroup = 1410\n",
    "group[ngroup][[\"idp\", \"tree_id\", \"tree_state_change\", \"ba_1\", \"ba_2\"]].sort_values(\n",
    "    \"tree_state_change\"\n",
    ")"
   ]
  },
  {
   "cell_type": "code",
   "execution_count": 76,
   "metadata": {},
   "outputs": [
    {
     "name": "stdout",
     "output_type": "stream",
     "text": [
      "335 ms ± 2.97 ms per loop (mean ± std. dev. of 25 runs, 5 loops each)\n"
     ]
    }
   ],
   "source": [
    "%%timeit -n 5 -r 25\n",
    "nfi_raw[nfi_raw['tree_state_1'] != 'dead']"
   ]
  },
  {
   "cell_type": "code",
   "execution_count": 71,
   "metadata": {},
   "outputs": [
    {
     "name": "stdout",
     "output_type": "stream",
     "text": [
      "343 ms ± 6.24 ms per loop (mean ± std. dev. of 7 runs, 1 loop each)\n"
     ]
    }
   ],
   "source": [
    "%%timeit -n 5 -r 25\n",
    "nfi_raw.query('tree_state_1 != \"dead\"')"
   ]
  },
  {
   "cell_type": "code",
   "execution_count": 83,
   "metadata": {},
   "outputs": [
    {
     "data": {
      "text/html": [
       "<div>\n",
       "<style scoped>\n",
       "    .dataframe tbody tr th:only-of-type {\n",
       "        vertical-align: middle;\n",
       "    }\n",
       "\n",
       "    .dataframe tbody tr th {\n",
       "        vertical-align: top;\n",
       "    }\n",
       "\n",
       "    .dataframe thead th {\n",
       "        text-align: right;\n",
       "    }\n",
       "</style>\n",
       "<table border=\"1\" class=\"dataframe\">\n",
       "  <thead>\n",
       "    <tr style=\"text-align: right;\">\n",
       "      <th></th>\n",
       "      <th>v</th>\n",
       "      <th>tree_state_change</th>\n",
       "    </tr>\n",
       "    <tr>\n",
       "      <th>tree_state_change</th>\n",
       "      <th></th>\n",
       "      <th></th>\n",
       "    </tr>\n",
       "  </thead>\n",
       "  <tbody>\n",
       "    <tr>\n",
       "      <th>alive_alive</th>\n",
       "      <td>0</td>\n",
       "      <td>0</td>\n",
       "    </tr>\n",
       "    <tr>\n",
       "      <th>alive_cut</th>\n",
       "      <td>0</td>\n",
       "      <td>0</td>\n",
       "    </tr>\n",
       "    <tr>\n",
       "      <th>alive_dead</th>\n",
       "      <td>0</td>\n",
       "      <td>0</td>\n",
       "    </tr>\n",
       "    <tr>\n",
       "      <th>dead_cut</th>\n",
       "      <td>0</td>\n",
       "      <td>0</td>\n",
       "    </tr>\n",
       "    <tr>\n",
       "      <th>dead_dead</th>\n",
       "      <td>0</td>\n",
       "      <td>0</td>\n",
       "    </tr>\n",
       "    <tr>\n",
       "      <th>new_alive</th>\n",
       "      <td>20626</td>\n",
       "      <td>0</td>\n",
       "    </tr>\n",
       "  </tbody>\n",
       "</table>\n",
       "</div>"
      ],
      "text/plain": [
       "                       v  tree_state_change\n",
       "tree_state_change                          \n",
       "alive_alive            0                  0\n",
       "alive_cut              0                  0\n",
       "alive_dead             0                  0\n",
       "dead_cut               0                  0\n",
       "dead_dead              0                  0\n",
       "new_alive          20626                  0"
      ]
     },
     "execution_count": 83,
     "metadata": {},
     "output_type": "execute_result"
    }
   ],
   "source": [
    "# For every tree_state_class, give me the number of NAs in v\n",
    "nfi_raw[[\"v\", \"tree_state_change\"]].groupby(\"tree_state_change\").apply(\n",
    "    lambda x: x.isna().sum()\n",
    ")"
   ]
  },
  {
   "cell_type": "code",
   "execution_count": 66,
   "metadata": {},
   "outputs": [
    {
     "name": "stdout",
     "output_type": "stream",
     "text": [
      "92.2 ms ± 1.34 ms per loop (mean ± std. dev. of 7 runs, 10 loops each)\n"
     ]
    }
   ],
   "source": [
    "%%timeit\n",
    "calculate_growth_mortality(group[ngroup]).sort_index(axis=1)"
   ]
  },
  {
   "cell_type": "code",
   "execution_count": 31,
   "metadata": {},
   "outputs": [
    {
     "data": {
      "text/html": [
       "<div>\n",
       "<style scoped>\n",
       "    .dataframe tbody tr th:only-of-type {\n",
       "        vertical-align: middle;\n",
       "    }\n",
       "\n",
       "    .dataframe tbody tr th {\n",
       "        vertical-align: top;\n",
       "    }\n",
       "\n",
       "    .dataframe thead th {\n",
       "        text-align: right;\n",
       "    }\n",
       "</style>\n",
       "<table border=\"1\" class=\"dataframe\">\n",
       "  <thead>\n",
       "    <tr style=\"text-align: right;\">\n",
       "      <th></th>\n",
       "      <th>idp</th>\n",
       "      <th>n_plots</th>\n",
       "      <th>n_a1</th>\n",
       "      <th>n_a2</th>\n",
       "      <th>n_aa</th>\n",
       "      <th>n_ad</th>\n",
       "      <th>n_ac</th>\n",
       "      <th>n_na</th>\n",
       "      <th>ba_ax_v1</th>\n",
       "      <th>ba_ax_v2</th>\n",
       "      <th>...</th>\n",
       "      <th>grwt_tot_ba_yr</th>\n",
       "      <th>grwt_tot_ba_prc_yr</th>\n",
       "      <th>grwt_tot_ba_prc_yr_hos</th>\n",
       "      <th>grwt_sur_ba_yr</th>\n",
       "      <th>grwt_sur_ba_prc_yr</th>\n",
       "      <th>grwt_sur_ba_prc_yr_hos</th>\n",
       "      <th>grwt_rec_ba_yr</th>\n",
       "      <th>grwt_rec_ba_prc_yr</th>\n",
       "      <th>change_tot_ba_yr</th>\n",
       "      <th>change_tot_ba_prc_yr</th>\n",
       "    </tr>\n",
       "  </thead>\n",
       "  <tbody>\n",
       "    <tr>\n",
       "      <th>0</th>\n",
       "      <td>518730</td>\n",
       "      <td>1</td>\n",
       "      <td>21.0</td>\n",
       "      <td>1.0</td>\n",
       "      <td>1.0</td>\n",
       "      <td>0.0</td>\n",
       "      <td>20.0</td>\n",
       "      <td>0.0</td>\n",
       "      <td>28.198901</td>\n",
       "      <td>8.403984</td>\n",
       "      <td>...</td>\n",
       "      <td>0.289779</td>\n",
       "      <td>4.166424</td>\n",
       "      <td>3.784639</td>\n",
       "      <td>0.289779</td>\n",
       "      <td>4.166424</td>\n",
       "      <td>3.784639</td>\n",
       "      <td>0.0</td>\n",
       "      <td>0.0</td>\n",
       "      <td>-3.958983</td>\n",
       "      <td>-14.039495</td>\n",
       "    </tr>\n",
       "  </tbody>\n",
       "</table>\n",
       "<p>1 rows × 47 columns</p>\n",
       "</div>"
      ],
      "text/plain": [
       "      idp  n_plots  n_a1  n_a2  n_aa  n_ad  n_ac  n_na   ba_ax_v1  ba_ax_v2  \\\n",
       "0  518730        1  21.0   1.0   1.0   0.0  20.0   0.0  28.198901  8.403984   \n",
       "\n",
       "   ...  grwt_tot_ba_yr  grwt_tot_ba_prc_yr  grwt_tot_ba_prc_yr_hos  \\\n",
       "0  ...        0.289779            4.166424                3.784639   \n",
       "\n",
       "   grwt_sur_ba_yr  grwt_sur_ba_prc_yr  grwt_sur_ba_prc_yr_hos  grwt_rec_ba_yr  \\\n",
       "0        0.289779            4.166424                3.784639             0.0   \n",
       "\n",
       "   grwt_rec_ba_prc_yr  change_tot_ba_yr  change_tot_ba_prc_yr  \n",
       "0                 0.0         -3.958983            -14.039495  \n",
       "\n",
       "[1 rows x 47 columns]"
      ]
     },
     "execution_count": 31,
     "metadata": {},
     "output_type": "execute_result"
    }
   ],
   "source": [
    "# %%timeit\n",
    "calculate_growth_mortality_optimized(group[ngroup])"
   ]
  },
  {
   "cell_type": "code",
   "execution_count": 33,
   "metadata": {},
   "outputs": [
    {
     "name": "stdout",
     "output_type": "stream",
     "text": [
      "Original Function\n"
     ]
    },
    {
     "name": "stderr",
     "output_type": "stream",
     "text": [
      "  0%|          | 0/100 [00:00<?, ?it/s]"
     ]
    },
    {
     "name": "stderr",
     "output_type": "stream",
     "text": [
      "100%|██████████| 100/100 [00:15<00:00,  6.32it/s]\n"
     ]
    },
    {
     "data": {
      "text/html": [
       "<div>\n",
       "<style scoped>\n",
       "    .dataframe tbody tr th:only-of-type {\n",
       "        vertical-align: middle;\n",
       "    }\n",
       "\n",
       "    .dataframe tbody tr th {\n",
       "        vertical-align: top;\n",
       "    }\n",
       "\n",
       "    .dataframe thead th {\n",
       "        text-align: right;\n",
       "    }\n",
       "</style>\n",
       "<table border=\"1\" class=\"dataframe\">\n",
       "  <thead>\n",
       "    <tr style=\"text-align: right;\">\n",
       "      <th></th>\n",
       "      <th>idp</th>\n",
       "      <th>n_plots</th>\n",
       "      <th>n_ini</th>\n",
       "      <th>n_ini_withcuts</th>\n",
       "      <th>n_sur</th>\n",
       "      <th>n_fin</th>\n",
       "      <th>n_rec</th>\n",
       "      <th>n_die</th>\n",
       "      <th>n_cut</th>\n",
       "      <th>ba_at_v1_of_alive_trees</th>\n",
       "      <th>...</th>\n",
       "      <th>mort_ba_prc_yr_v2</th>\n",
       "      <th>rec_stems_prc_yr_hoshino</th>\n",
       "      <th>tot_growth_ba_prc_yr_hoshino</th>\n",
       "      <th>sur_growth_ba_prc_yr_hoshino</th>\n",
       "      <th>tot_growth_ba_yr</th>\n",
       "      <th>sur_growth_ba_yr</th>\n",
       "      <th>tot_growth_ba_prc_yr</th>\n",
       "      <th>sur_growth_ba_prc_yr</th>\n",
       "      <th>cut_ba_yr_v1</th>\n",
       "      <th>cut_ba_prc_yr_v1</th>\n",
       "    </tr>\n",
       "  </thead>\n",
       "  <tbody>\n",
       "    <tr>\n",
       "      <th>0</th>\n",
       "      <td>500002</td>\n",
       "      <td>1</td>\n",
       "      <td>10</td>\n",
       "      <td>10</td>\n",
       "      <td>10</td>\n",
       "      <td>10</td>\n",
       "      <td>0</td>\n",
       "      <td>0</td>\n",
       "      <td>0</td>\n",
       "      <td>88.080937</td>\n",
       "      <td>...</td>\n",
       "      <td>0.000000</td>\n",
       "      <td>0.000000</td>\n",
       "      <td>1.466279</td>\n",
       "      <td>1.466279</td>\n",
       "      <td>1.340033</td>\n",
       "      <td>1.340033</td>\n",
       "      <td>1.521366</td>\n",
       "      <td>1.521366</td>\n",
       "      <td>0.000000</td>\n",
       "      <td>0.000000</td>\n",
       "    </tr>\n",
       "    <tr>\n",
       "      <th>0</th>\n",
       "      <td>500008</td>\n",
       "      <td>1</td>\n",
       "      <td>13</td>\n",
       "      <td>13</td>\n",
       "      <td>13</td>\n",
       "      <td>16</td>\n",
       "      <td>3</td>\n",
       "      <td>0</td>\n",
       "      <td>0</td>\n",
       "      <td>5.952012</td>\n",
       "      <td>...</td>\n",
       "      <td>0.000000</td>\n",
       "      <td>4.152787</td>\n",
       "      <td>9.999074</td>\n",
       "      <td>8.474552</td>\n",
       "      <td>0.772148</td>\n",
       "      <td>0.628110</td>\n",
       "      <td>12.972899</td>\n",
       "      <td>10.552908</td>\n",
       "      <td>0.000000</td>\n",
       "      <td>0.000000</td>\n",
       "    </tr>\n",
       "    <tr>\n",
       "      <th>0</th>\n",
       "      <td>500012</td>\n",
       "      <td>1</td>\n",
       "      <td>15</td>\n",
       "      <td>15</td>\n",
       "      <td>15</td>\n",
       "      <td>15</td>\n",
       "      <td>0</td>\n",
       "      <td>0</td>\n",
       "      <td>0</td>\n",
       "      <td>48.118241</td>\n",
       "      <td>...</td>\n",
       "      <td>0.000000</td>\n",
       "      <td>0.000000</td>\n",
       "      <td>2.177601</td>\n",
       "      <td>2.177601</td>\n",
       "      <td>1.106995</td>\n",
       "      <td>1.106995</td>\n",
       "      <td>2.300572</td>\n",
       "      <td>2.300572</td>\n",
       "      <td>0.000000</td>\n",
       "      <td>0.000000</td>\n",
       "    </tr>\n",
       "    <tr>\n",
       "      <th>0</th>\n",
       "      <td>500013</td>\n",
       "      <td>1</td>\n",
       "      <td>15</td>\n",
       "      <td>18</td>\n",
       "      <td>14</td>\n",
       "      <td>16</td>\n",
       "      <td>1</td>\n",
       "      <td>1</td>\n",
       "      <td>3</td>\n",
       "      <td>44.747488</td>\n",
       "      <td>...</td>\n",
       "      <td>0.473083</td>\n",
       "      <td>2.670628</td>\n",
       "      <td>1.362266</td>\n",
       "      <td>1.258782</td>\n",
       "      <td>0.595688</td>\n",
       "      <td>0.548999</td>\n",
       "      <td>1.409731</td>\n",
       "      <td>1.299239</td>\n",
       "      <td>0.279241</td>\n",
       "      <td>0.624038</td>\n",
       "    </tr>\n",
       "    <tr>\n",
       "      <th>0</th>\n",
       "      <td>500042</td>\n",
       "      <td>1</td>\n",
       "      <td>5</td>\n",
       "      <td>5</td>\n",
       "      <td>5</td>\n",
       "      <td>5</td>\n",
       "      <td>0</td>\n",
       "      <td>0</td>\n",
       "      <td>0</td>\n",
       "      <td>49.129021</td>\n",
       "      <td>...</td>\n",
       "      <td>0.000000</td>\n",
       "      <td>0.000000</td>\n",
       "      <td>1.610637</td>\n",
       "      <td>1.610637</td>\n",
       "      <td>0.824025</td>\n",
       "      <td>0.824025</td>\n",
       "      <td>1.677267</td>\n",
       "      <td>1.677267</td>\n",
       "      <td>0.000000</td>\n",
       "      <td>0.000000</td>\n",
       "    </tr>\n",
       "  </tbody>\n",
       "</table>\n",
       "<p>5 rows × 33 columns</p>\n",
       "</div>"
      ],
      "text/plain": [
       "      idp  n_plots  n_ini  n_ini_withcuts  n_sur  n_fin  n_rec  n_die  n_cut  \\\n",
       "0  500002        1     10              10     10     10      0      0      0   \n",
       "0  500008        1     13              13     13     16      3      0      0   \n",
       "0  500012        1     15              15     15     15      0      0      0   \n",
       "0  500013        1     15              18     14     16      1      1      3   \n",
       "0  500042        1      5               5      5      5      0      0      0   \n",
       "\n",
       "   ba_at_v1_of_alive_trees  ...  mort_ba_prc_yr_v2  rec_stems_prc_yr_hoshino  \\\n",
       "0                88.080937  ...           0.000000                  0.000000   \n",
       "0                 5.952012  ...           0.000000                  4.152787   \n",
       "0                48.118241  ...           0.000000                  0.000000   \n",
       "0                44.747488  ...           0.473083                  2.670628   \n",
       "0                49.129021  ...           0.000000                  0.000000   \n",
       "\n",
       "   tot_growth_ba_prc_yr_hoshino  sur_growth_ba_prc_yr_hoshino  \\\n",
       "0                      1.466279                      1.466279   \n",
       "0                      9.999074                      8.474552   \n",
       "0                      2.177601                      2.177601   \n",
       "0                      1.362266                      1.258782   \n",
       "0                      1.610637                      1.610637   \n",
       "\n",
       "   tot_growth_ba_yr  sur_growth_ba_yr  tot_growth_ba_prc_yr  \\\n",
       "0          1.340033          1.340033              1.521366   \n",
       "0          0.772148          0.628110             12.972899   \n",
       "0          1.106995          1.106995              2.300572   \n",
       "0          0.595688          0.548999              1.409731   \n",
       "0          0.824025          0.824025              1.677267   \n",
       "\n",
       "   sur_growth_ba_prc_yr  cut_ba_yr_v1  cut_ba_prc_yr_v1  \n",
       "0              1.521366      0.000000          0.000000  \n",
       "0             10.552908      0.000000          0.000000  \n",
       "0              2.300572      0.000000          0.000000  \n",
       "0              1.299239      0.279241          0.624038  \n",
       "0              1.677267      0.000000          0.000000  \n",
       "\n",
       "[5 rows x 33 columns]"
      ]
     },
     "metadata": {},
     "output_type": "display_data"
    },
    {
     "name": "stdout",
     "output_type": "stream",
     "text": [
      "Optimized Function\n"
     ]
    },
    {
     "name": "stderr",
     "output_type": "stream",
     "text": [
      "100%|██████████| 100/100 [00:15<00:00,  6.56it/s]\n"
     ]
    },
    {
     "data": {
      "text/html": [
       "<div>\n",
       "<style scoped>\n",
       "    .dataframe tbody tr th:only-of-type {\n",
       "        vertical-align: middle;\n",
       "    }\n",
       "\n",
       "    .dataframe tbody tr th {\n",
       "        vertical-align: top;\n",
       "    }\n",
       "\n",
       "    .dataframe thead th {\n",
       "        text-align: right;\n",
       "    }\n",
       "</style>\n",
       "<table border=\"1\" class=\"dataframe\">\n",
       "  <thead>\n",
       "    <tr style=\"text-align: right;\">\n",
       "      <th></th>\n",
       "      <th>idp</th>\n",
       "      <th>n_plots</th>\n",
       "      <th>n_a1</th>\n",
       "      <th>n_a2</th>\n",
       "      <th>n_aa</th>\n",
       "      <th>n_ad</th>\n",
       "      <th>n_ac</th>\n",
       "      <th>n_na</th>\n",
       "      <th>ba_ax_v1</th>\n",
       "      <th>ba_ax_v2</th>\n",
       "      <th>...</th>\n",
       "      <th>grwt_tot_ba_yr</th>\n",
       "      <th>grwt_tot_ba_prc_yr</th>\n",
       "      <th>grwt_tot_ba_prc_yr_hos</th>\n",
       "      <th>grwt_sur_ba_yr</th>\n",
       "      <th>grwt_sur_ba_prc_yr</th>\n",
       "      <th>grwt_sur_ba_prc_yr_hos</th>\n",
       "      <th>grwt_rec_ba_yr</th>\n",
       "      <th>grwt_rec_ba_prc_yr</th>\n",
       "      <th>change_tot_ba_yr</th>\n",
       "      <th>change_tot_ba_prc_yr</th>\n",
       "    </tr>\n",
       "  </thead>\n",
       "  <tbody>\n",
       "    <tr>\n",
       "      <th>0</th>\n",
       "      <td>500002</td>\n",
       "      <td>1</td>\n",
       "      <td>10.0</td>\n",
       "      <td>10.0</td>\n",
       "      <td>10.0</td>\n",
       "      <td>0.0</td>\n",
       "      <td>0.0</td>\n",
       "      <td>0.0</td>\n",
       "      <td>88.080937</td>\n",
       "      <td>94.781104</td>\n",
       "      <td>...</td>\n",
       "      <td>1.340033</td>\n",
       "      <td>1.521366</td>\n",
       "      <td>1.466279</td>\n",
       "      <td>1.340033</td>\n",
       "      <td>1.521366</td>\n",
       "      <td>1.466279</td>\n",
       "      <td>0.000000</td>\n",
       "      <td>0.000000</td>\n",
       "      <td>1.340033</td>\n",
       "      <td>1.521366</td>\n",
       "    </tr>\n",
       "    <tr>\n",
       "      <th>0</th>\n",
       "      <td>500008</td>\n",
       "      <td>1</td>\n",
       "      <td>13.0</td>\n",
       "      <td>16.0</td>\n",
       "      <td>13.0</td>\n",
       "      <td>0.0</td>\n",
       "      <td>0.0</td>\n",
       "      <td>3.0</td>\n",
       "      <td>5.952012</td>\n",
       "      <td>9.812754</td>\n",
       "      <td>...</td>\n",
       "      <td>0.772148</td>\n",
       "      <td>12.972899</td>\n",
       "      <td>9.999074</td>\n",
       "      <td>0.628110</td>\n",
       "      <td>10.552908</td>\n",
       "      <td>8.474552</td>\n",
       "      <td>0.144038</td>\n",
       "      <td>2.419992</td>\n",
       "      <td>0.772148</td>\n",
       "      <td>12.972899</td>\n",
       "    </tr>\n",
       "    <tr>\n",
       "      <th>0</th>\n",
       "      <td>500012</td>\n",
       "      <td>1</td>\n",
       "      <td>15.0</td>\n",
       "      <td>15.0</td>\n",
       "      <td>15.0</td>\n",
       "      <td>0.0</td>\n",
       "      <td>0.0</td>\n",
       "      <td>0.0</td>\n",
       "      <td>48.118241</td>\n",
       "      <td>53.653214</td>\n",
       "      <td>...</td>\n",
       "      <td>1.106995</td>\n",
       "      <td>2.300572</td>\n",
       "      <td>2.177601</td>\n",
       "      <td>1.106995</td>\n",
       "      <td>2.300572</td>\n",
       "      <td>2.177601</td>\n",
       "      <td>0.000000</td>\n",
       "      <td>0.000000</td>\n",
       "      <td>1.106995</td>\n",
       "      <td>2.300572</td>\n",
       "    </tr>\n",
       "    <tr>\n",
       "      <th>0</th>\n",
       "      <td>500013</td>\n",
       "      <td>1</td>\n",
       "      <td>18.0</td>\n",
       "      <td>15.0</td>\n",
       "      <td>14.0</td>\n",
       "      <td>1.0</td>\n",
       "      <td>3.0</td>\n",
       "      <td>1.0</td>\n",
       "      <td>44.747488</td>\n",
       "      <td>45.233829</td>\n",
       "      <td>...</td>\n",
       "      <td>0.595688</td>\n",
       "      <td>1.409731</td>\n",
       "      <td>1.362266</td>\n",
       "      <td>0.548999</td>\n",
       "      <td>1.299239</td>\n",
       "      <td>1.258782</td>\n",
       "      <td>0.046689</td>\n",
       "      <td>0.110492</td>\n",
       "      <td>0.097268</td>\n",
       "      <td>0.217372</td>\n",
       "    </tr>\n",
       "    <tr>\n",
       "      <th>0</th>\n",
       "      <td>500042</td>\n",
       "      <td>1</td>\n",
       "      <td>5.0</td>\n",
       "      <td>5.0</td>\n",
       "      <td>5.0</td>\n",
       "      <td>0.0</td>\n",
       "      <td>0.0</td>\n",
       "      <td>0.0</td>\n",
       "      <td>49.129021</td>\n",
       "      <td>53.249145</td>\n",
       "      <td>...</td>\n",
       "      <td>0.824025</td>\n",
       "      <td>1.677267</td>\n",
       "      <td>1.610637</td>\n",
       "      <td>0.824025</td>\n",
       "      <td>1.677267</td>\n",
       "      <td>1.610637</td>\n",
       "      <td>0.000000</td>\n",
       "      <td>0.000000</td>\n",
       "      <td>0.824025</td>\n",
       "      <td>1.677267</td>\n",
       "    </tr>\n",
       "  </tbody>\n",
       "</table>\n",
       "<p>5 rows × 47 columns</p>\n",
       "</div>"
      ],
      "text/plain": [
       "      idp  n_plots  n_a1  n_a2  n_aa  n_ad  n_ac  n_na   ba_ax_v1   ba_ax_v2  \\\n",
       "0  500002        1  10.0  10.0  10.0   0.0   0.0   0.0  88.080937  94.781104   \n",
       "0  500008        1  13.0  16.0  13.0   0.0   0.0   3.0   5.952012   9.812754   \n",
       "0  500012        1  15.0  15.0  15.0   0.0   0.0   0.0  48.118241  53.653214   \n",
       "0  500013        1  18.0  15.0  14.0   1.0   3.0   1.0  44.747488  45.233829   \n",
       "0  500042        1   5.0   5.0   5.0   0.0   0.0   0.0  49.129021  53.249145   \n",
       "\n",
       "   ...  grwt_tot_ba_yr  grwt_tot_ba_prc_yr  grwt_tot_ba_prc_yr_hos  \\\n",
       "0  ...        1.340033            1.521366                1.466279   \n",
       "0  ...        0.772148           12.972899                9.999074   \n",
       "0  ...        1.106995            2.300572                2.177601   \n",
       "0  ...        0.595688            1.409731                1.362266   \n",
       "0  ...        0.824025            1.677267                1.610637   \n",
       "\n",
       "   grwt_sur_ba_yr  grwt_sur_ba_prc_yr  grwt_sur_ba_prc_yr_hos  grwt_rec_ba_yr  \\\n",
       "0        1.340033            1.521366                1.466279        0.000000   \n",
       "0        0.628110           10.552908                8.474552        0.144038   \n",
       "0        1.106995            2.300572                2.177601        0.000000   \n",
       "0        0.548999            1.299239                1.258782        0.046689   \n",
       "0        0.824025            1.677267                1.610637        0.000000   \n",
       "\n",
       "   grwt_rec_ba_prc_yr  change_tot_ba_yr  change_tot_ba_prc_yr  \n",
       "0            0.000000          1.340033              1.521366  \n",
       "0            2.419992          0.772148             12.972899  \n",
       "0            0.000000          1.106995              2.300572  \n",
       "0            0.110492          0.097268              0.217372  \n",
       "0            0.000000          0.824025              1.677267  \n",
       "\n",
       "[5 rows x 47 columns]"
      ]
     },
     "metadata": {},
     "output_type": "display_data"
    }
   ],
   "source": [
    "from utilities import calculate_growth_mortality_optimized\n",
    "from utilities import calculate_growth_mortality\n",
    "\n",
    "print(\"Original Function\")\n",
    "df_org = run_mp(\n",
    "    calculate_growth_mortality,\n",
    "    group[:100],\n",
    "    combine_func=pd.concat,\n",
    "    progress_bar=True,\n",
    "    num_cores=10,\n",
    ")\n",
    "\n",
    "display(df_org.head())\n",
    "\n",
    "print(\"Optimized Function\")\n",
    "df_opt = run_mp(\n",
    "    calculate_growth_mortality_optimized,\n",
    "    group[:100],\n",
    "    combine_func=pd.concat,\n",
    "    progress_bar=True,\n",
    "    num_cores=10,\n",
    ")\n",
    "\n",
    "display(df_opt.head())"
   ]
  },
  {
   "cell_type": "markdown",
   "metadata": {},
   "source": [
    "---\n"
   ]
  },
  {
   "cell_type": "code",
   "execution_count": 65,
   "metadata": {},
   "outputs": [
    {
     "ename": "ValueError",
     "evalue": "Can only compare identically-labeled (both index and columns) DataFrame objects",
     "output_type": "error",
     "traceback": [
      "\u001b[0;31m---------------------------------------------------------------------------\u001b[0m",
      "\u001b[0;31mValueError\u001b[0m                                Traceback (most recent call last)",
      "Cell \u001b[0;32mIn[65], line 1\u001b[0m\n\u001b[0;32m----> 1\u001b[0m \u001b[43mdf_org\u001b[49m\u001b[43m \u001b[49m\u001b[38;5;241;43m==\u001b[39;49m\u001b[43m \u001b[49m\u001b[43mdf_opt\u001b[49m\n",
      "File \u001b[0;32m~/repos/padasch/ifn_analysis/ifna-venv/lib/python3.10/site-packages/pandas/core/ops/common.py:81\u001b[0m, in \u001b[0;36m_unpack_zerodim_and_defer.<locals>.new_method\u001b[0;34m(self, other)\u001b[0m\n\u001b[1;32m     77\u001b[0m             \u001b[38;5;28;01mreturn\u001b[39;00m \u001b[38;5;28mNotImplemented\u001b[39m\n\u001b[1;32m     79\u001b[0m other \u001b[38;5;241m=\u001b[39m item_from_zerodim(other)\n\u001b[0;32m---> 81\u001b[0m \u001b[38;5;28;01mreturn\u001b[39;00m \u001b[43mmethod\u001b[49m\u001b[43m(\u001b[49m\u001b[38;5;28;43mself\u001b[39;49m\u001b[43m,\u001b[49m\u001b[43m \u001b[49m\u001b[43mother\u001b[49m\u001b[43m)\u001b[49m\n",
      "File \u001b[0;32m~/repos/padasch/ifn_analysis/ifna-venv/lib/python3.10/site-packages/pandas/core/arraylike.py:40\u001b[0m, in \u001b[0;36mOpsMixin.__eq__\u001b[0;34m(self, other)\u001b[0m\n\u001b[1;32m     38\u001b[0m \u001b[38;5;129m@unpack_zerodim_and_defer\u001b[39m(\u001b[38;5;124m\"\u001b[39m\u001b[38;5;124m__eq__\u001b[39m\u001b[38;5;124m\"\u001b[39m)\n\u001b[1;32m     39\u001b[0m \u001b[38;5;28;01mdef\u001b[39;00m \u001b[38;5;21m__eq__\u001b[39m(\u001b[38;5;28mself\u001b[39m, other):\n\u001b[0;32m---> 40\u001b[0m     \u001b[38;5;28;01mreturn\u001b[39;00m \u001b[38;5;28;43mself\u001b[39;49m\u001b[38;5;241;43m.\u001b[39;49m\u001b[43m_cmp_method\u001b[49m\u001b[43m(\u001b[49m\u001b[43mother\u001b[49m\u001b[43m,\u001b[49m\u001b[43m \u001b[49m\u001b[43moperator\u001b[49m\u001b[38;5;241;43m.\u001b[39;49m\u001b[43meq\u001b[49m\u001b[43m)\u001b[49m\n",
      "File \u001b[0;32m~/repos/padasch/ifn_analysis/ifna-venv/lib/python3.10/site-packages/pandas/core/frame.py:7442\u001b[0m, in \u001b[0;36mDataFrame._cmp_method\u001b[0;34m(self, other, op)\u001b[0m\n\u001b[1;32m   7439\u001b[0m \u001b[38;5;28;01mdef\u001b[39;00m \u001b[38;5;21m_cmp_method\u001b[39m(\u001b[38;5;28mself\u001b[39m, other, op):\n\u001b[1;32m   7440\u001b[0m     axis: Literal[\u001b[38;5;241m1\u001b[39m] \u001b[38;5;241m=\u001b[39m \u001b[38;5;241m1\u001b[39m  \u001b[38;5;66;03m# only relevant for Series other case\u001b[39;00m\n\u001b[0;32m-> 7442\u001b[0m     \u001b[38;5;28mself\u001b[39m, other \u001b[38;5;241m=\u001b[39m \u001b[43mops\u001b[49m\u001b[38;5;241;43m.\u001b[39;49m\u001b[43malign_method_FRAME\u001b[49m\u001b[43m(\u001b[49m\u001b[38;5;28;43mself\u001b[39;49m\u001b[43m,\u001b[49m\u001b[43m \u001b[49m\u001b[43mother\u001b[49m\u001b[43m,\u001b[49m\u001b[43m \u001b[49m\u001b[43maxis\u001b[49m\u001b[43m,\u001b[49m\u001b[43m \u001b[49m\u001b[43mflex\u001b[49m\u001b[38;5;241;43m=\u001b[39;49m\u001b[38;5;28;43;01mFalse\u001b[39;49;00m\u001b[43m,\u001b[49m\u001b[43m \u001b[49m\u001b[43mlevel\u001b[49m\u001b[38;5;241;43m=\u001b[39;49m\u001b[38;5;28;43;01mNone\u001b[39;49;00m\u001b[43m)\u001b[49m\n\u001b[1;32m   7444\u001b[0m     \u001b[38;5;66;03m# See GH#4537 for discussion of scalar op behavior\u001b[39;00m\n\u001b[1;32m   7445\u001b[0m     new_data \u001b[38;5;241m=\u001b[39m \u001b[38;5;28mself\u001b[39m\u001b[38;5;241m.\u001b[39m_dispatch_frame_op(other, op, axis\u001b[38;5;241m=\u001b[39maxis)\n",
      "File \u001b[0;32m~/repos/padasch/ifn_analysis/ifna-venv/lib/python3.10/site-packages/pandas/core/ops/__init__.py:313\u001b[0m, in \u001b[0;36malign_method_FRAME\u001b[0;34m(left, right, axis, flex, level)\u001b[0m\n\u001b[1;32m    311\u001b[0m             left, right \u001b[38;5;241m=\u001b[39m left\u001b[38;5;241m.\u001b[39malign(right, join\u001b[38;5;241m=\u001b[39m\u001b[38;5;124m\"\u001b[39m\u001b[38;5;124mouter\u001b[39m\u001b[38;5;124m\"\u001b[39m, level\u001b[38;5;241m=\u001b[39mlevel, copy\u001b[38;5;241m=\u001b[39m\u001b[38;5;28;01mFalse\u001b[39;00m)\n\u001b[1;32m    312\u001b[0m         \u001b[38;5;28;01melse\u001b[39;00m:\n\u001b[0;32m--> 313\u001b[0m             \u001b[38;5;28;01mraise\u001b[39;00m \u001b[38;5;167;01mValueError\u001b[39;00m(\n\u001b[1;32m    314\u001b[0m                 \u001b[38;5;124m\"\u001b[39m\u001b[38;5;124mCan only compare identically-labeled (both index and columns) \u001b[39m\u001b[38;5;124m\"\u001b[39m\n\u001b[1;32m    315\u001b[0m                 \u001b[38;5;124m\"\u001b[39m\u001b[38;5;124mDataFrame objects\u001b[39m\u001b[38;5;124m\"\u001b[39m\n\u001b[1;32m    316\u001b[0m             )\n\u001b[1;32m    317\u001b[0m \u001b[38;5;28;01melif\u001b[39;00m \u001b[38;5;28misinstance\u001b[39m(right, ABCSeries):\n\u001b[1;32m    318\u001b[0m     \u001b[38;5;66;03m# axis=1 is default for DataFrame-with-Series op\u001b[39;00m\n\u001b[1;32m    319\u001b[0m     axis \u001b[38;5;241m=\u001b[39m left\u001b[38;5;241m.\u001b[39m_get_axis_number(axis) \u001b[38;5;28;01mif\u001b[39;00m axis \u001b[38;5;129;01mis\u001b[39;00m \u001b[38;5;129;01mnot\u001b[39;00m \u001b[38;5;28;01mNone\u001b[39;00m \u001b[38;5;28;01melse\u001b[39;00m \u001b[38;5;241m1\u001b[39m\n",
      "\u001b[0;31mValueError\u001b[0m: Can only compare identically-labeled (both index and columns) DataFrame objects"
     ]
    }
   ],
   "source": [
    "df_org == df_opt"
   ]
  },
  {
   "cell_type": "markdown",
   "metadata": {},
   "source": [
    "## Load NFI Data\n"
   ]
  },
  {
   "cell_type": "code",
   "execution_count": 4,
   "metadata": {},
   "outputs": [
    {
     "name": "stdout",
     "output_type": "stream",
     "text": [
      "👉 Latest file is /Users/pascal/repos/padasch/ifn_analysis/data/tmp/20231201-103525_nfi_dataset_raw.csv \n",
      "👉 Created on Friday 2023-12-01, 10:36 which is 34 days ago.\n"
     ]
    },
    {
     "name": "stderr",
     "output_type": "stream",
     "text": [
      "/Users/pascal/repos/padasch/ifn_analysis/python/00_process_nfi_data/../../src/utilities.py:90: DtypeWarning: Columns (20,31,42,45,48,51,112,118,119,122,133,134,135,136,149,150,151,152,167,168,169,170,173,174,176,180,186,188,192,194,202,218,219,220,221,223,247,248,251,252,253,256,257,258,260,261) have mixed types. Specify dtype option on import or set low_memory=False.\n",
      "  nfi_data_raw = pd.read_csv(latest_file, index_col=0)\n"
     ]
    },
    {
     "name": "stdout",
     "output_type": "stream",
     "text": [
      "\n",
      " --- Variable Encoding: ---\n",
      " - Set to category (plus setting NA to 'missing'): \t['a', 'acces', 'acci', 'alive_but_injured_1', 'alive_but_injured_2', 'andain', 'autut_1', 'autut_2', 'bois_1', 'bois_2', 'bord', 'cible', 'clon', 'cover_change', 'csa_1', 'csa_2', 'cslisi', 'dcespar1', 'dcespar2', 'decoupe', 'deggib', 'dep', 'dom_nr1_tree_class_fct', 'dom_nr2_tree_class_fct', 'dom_nr3_tree_class_fct', 'dom_rest_tree_class_fct', 'entp', 'espar', 'espar_red', 'family_lat', 'forme', 'genus_lat', 'gre', 'human_activity_var', 'humus', 'idp', 'instp5', 'integr', 'iti', 'land_use', 'land_use_change', 'mode_of_death', 'nincid_1', 'nincid_2', 'obschemin', 'obsdate', 'obshydr', 'obspedo', 'obsprof', 'obsriv', 'obsriv2', 'obsroc', 'obstopo', 'obsveget', 'ofr', 'oh', 'oln', 'olt', 'olv', 'order_lat', 'ori', 'p1525', 'p7ares', 'peupnr_1', 'peupnr_2', 'qualite', 'revisit_state', 'roche', 'ser', 'sfcoeur', 'sfdorge_1', 'sfdorge_2', 'sfo', 'sfpied', 'shadow_growth', 'simplif', 'species_lat', 'strate', 'sver', 'tetard', 'text1', 'text2', 'tige', 'topo', 'tpespar1_1', 'tpespar1_2', 'tpespar2_1', 'tpespar2_2', 'tplant', 'tree_class', 'tree_id', 'tree_state_1', 'tree_state_2', 'tree_state_change', 'tsol', 'typcai', 'typriv', 'uta1', 'uta2', 'utip_1', 'utip_2', 'veget', 'veget5', 'visite_1', 'visite_2']\n",
      " - Set to ordinal (plus setting NA to -9999): \t\t['age_class', 'asperite', 'cam', 'campagne_1', 'campagne_2', 'census_interval', 'dc_1', 'dc_2', 'def5', 'denivriv', 'dist', 'distriv', 'dpyr', 'elag', 'gest', 'height_class', 'human_activity', 'incid_1', 'incid_2', 'lib', 'lign1', 'lign2', 'mortb_1', 'mortb_2', 'mousse', 'nlisi5', 'orniere', 'pbuis', 'pcalc', 'pcalf', 'pentexp', 'pgley', 'plisi', 'portance', 'portn', 'pox', 'ppseudo', 'prelev5', 'sfgeliv_1', 'sfgeliv_2', 'sfgui_1', 'sfgui_2', 'tcat10', 'tform_1', 'tform_2', 'videplant']\n",
      " - Set to datetime: \t\t\t\t\t['dateeco', 'datemort']\n",
      " - Set to numeric: \t\t\t\t\t['affroc', 'afpla', 'age', 'age13', 'anpyr', 'avg_growth_ba_per_year', 'avg_growth_height_meter_per_yr', 'ba_1', 'ba_2', 'ba_change_abs_yr', 'ba_change_perc_yr', 'bplant_1', 'bplant_2', 'c0', 'c13_1', 'c13_2', 'c13_change_abs_yr', 'c13_change_perc_yr', 'cai40', 'cailloux', 'dbh_1', 'dbh_2', 'dbh_change_abs_yr', 'dbh_change_perc_yr', 'ddec', 'dom_nr1_tree_class_ba_abs', 'dom_nr1_tree_class_ba_prc', 'dom_nr2_tree_class_ba_abs', 'dom_nr2_tree_class_ba_prc', 'dom_nr3_tree_class_ba_abs', 'dom_nr3_tree_class_ba_prc', 'dom_rest_tree_class_ba_abs', 'dom_rest_tree_class_ba_prc', 'elisi', 'expo', 'hdec', 'herb', 'hrb', 'htot', 'iplant_1', 'iplant_2', 'ir1', 'ir5', 'lat', 'lat_fr', 'lfsd', 'lon', 'lon_fr', 'masque', 'mes_c13', 'msud', 'n_species_nfi', 'ntrees_1', 'ntrees_2', 'pent2', 'perc_trees_burn', 'perc_trees_firrust_v1', 'perc_trees_firrust_v2', 'perc_trees_footdmg', 'perc_trees_frost_v1', 'perc_trees_frost_v2', 'perc_trees_game', 'perc_trees_mistletoe_v1', 'perc_trees_mistletoe_v2', 'perc_trees_rotcore', 'prof1', 'prof2', 'q1', 'q2', 'q3', 'r', 'site_ba_prc_cut_at_v2', 'site_ba_prc_dead_at_v1', 'site_ba_prc_dead_at_v2', 'site_ba_prc_rec_at_v2', 'site_total_ba_at_v1', 'site_total_ba_at_v2', 'tca', 'tcl', 'tm2', 'top1_species_age13_mean', 'top1_species_age13_sd', 'top1_species_ba_1_mean', 'top1_species_ba_1_sd', 'top1_species_htot_mean', 'top1_species_htot_sd', 'top1_species_ir5_mean', 'top1_species_ir5_sd', 'top1_species_v_mean', 'top1_species_v_sd', 'top2_species_age13_mean', 'top2_species_age13_sd', 'top2_species_ba_1_mean', 'top2_species_ba_1_sd', 'top2_species_htot_mean', 'top2_species_htot_sd', 'top2_species_ir5_mean', 'top2_species_ir5_sd', 'top2_species_v_mean', 'top2_species_v_sd', 'top3_species_age13_mean', 'top3_species_age13_sd', 'top3_species_ba_1_mean', 'top3_species_ba_1_sd', 'top3_species_htot_mean', 'top3_species_htot_sd', 'top3_species_ir5_mean', 'top3_species_ir5_sd', 'top3_species_v_mean', 'top3_species_v_sd', 'v', 'videpeuplier_1', 'videpeuplier_2', 'visit_1', 'visit_2', 'w']\n",
      "Shape of nfi_final_data: (1318400, 272)\n",
      "Number of invidiual sites: 102924\n",
      "\n",
      " --- Columns in nfi_final_data: ----\n",
      " - idp\n",
      " - site_total_ba_at_v1\n",
      " - site_total_ba_at_v2\n",
      " - site_ba_prc_dead_at_v1\n",
      " - site_ba_prc_dead_at_v2\n",
      " - site_ba_prc_cut_at_v2\n",
      " - site_ba_prc_rec_at_v2\n",
      " - n_species_nfi\n",
      " - top1_species\n",
      " - top1_species_ba_1_mean\n",
      " - top1_species_ba_1_sd\n",
      " - top1_species_age13_mean\n",
      " - top1_species_age13_sd\n",
      " - top1_species_ir5_mean\n",
      " - top1_species_ir5_sd\n",
      " - top1_species_v_mean\n",
      " - top1_species_v_sd\n",
      " - top1_species_htot_mean\n",
      " - top1_species_htot_sd\n",
      " - top2_species\n",
      " - top2_species_ba_1_mean\n",
      " - top2_species_ba_1_sd\n",
      " - top2_species_age13_mean\n",
      " - top2_species_age13_sd\n",
      " - top2_species_ir5_mean\n",
      " - top2_species_ir5_sd\n",
      " - top2_species_v_mean\n",
      " - top2_species_v_sd\n",
      " - top2_species_htot_mean\n",
      " - top2_species_htot_sd\n",
      " - top3_species\n",
      " - top3_species_ba_1_mean\n",
      " - top3_species_ba_1_sd\n",
      " - top3_species_age13_mean\n",
      " - top3_species_age13_sd\n",
      " - top3_species_ir5_mean\n",
      " - top3_species_ir5_sd\n",
      " - top3_species_v_mean\n",
      " - top3_species_v_sd\n",
      " - top3_species_htot_mean\n",
      " - top3_species_htot_sd\n",
      " - dom_nr1_tree_class_fct\n",
      " - dom_nr1_tree_class_ba_abs\n",
      " - dom_nr1_tree_class_ba_prc\n",
      " - dom_nr2_tree_class_fct\n",
      " - dom_nr2_tree_class_ba_abs\n",
      " - dom_nr2_tree_class_ba_prc\n",
      " - dom_nr3_tree_class_fct\n",
      " - dom_nr3_tree_class_ba_abs\n",
      " - dom_nr3_tree_class_ba_prc\n",
      " - dom_rest_tree_class_fct\n",
      " - dom_rest_tree_class_ba_abs\n",
      " - dom_rest_tree_class_ba_prc\n",
      " - ntrees_1\n",
      " - ntrees_2\n",
      " - perc_trees_burn\n",
      " - perc_trees_game\n",
      " - perc_trees_footdmg\n",
      " - perc_trees_rotcore\n",
      " - perc_trees_frost_v1\n",
      " - perc_trees_frost_v2\n",
      " - perc_trees_mistletoe_v1\n",
      " - perc_trees_mistletoe_v2\n",
      " - perc_trees_firrust_v1\n",
      " - perc_trees_firrust_v2\n",
      " - a\n",
      " - tree_id\n",
      " - visit_1\n",
      " - visit_2\n",
      " - revisit_state\n",
      " - hrb\n",
      " - campagne_1\n",
      " - campagne_2\n",
      " - visite_1\n",
      " - visite_2\n",
      " - c13_1\n",
      " - c13_2\n",
      " - mortb_1\n",
      " - mortb_2\n",
      " - sfdorge_1\n",
      " - sfdorge_2\n",
      " - sfgeliv_1\n",
      " - sfgeliv_2\n",
      " - sfgui_1\n",
      " - sfgui_2\n",
      " - veget\n",
      " - q1\n",
      " - q2\n",
      " - q3\n",
      " - age13\n",
      " - age\n",
      " - c0\n",
      " - htot\n",
      " - hdec\n",
      " - ddec\n",
      " - lfsd\n",
      " - v\n",
      " - w\n",
      " - r\n",
      " - ir5\n",
      " - ir1\n",
      " - espar\n",
      " - datemort\n",
      " - ori\n",
      " - tige\n",
      " - forme\n",
      " - tetard\n",
      " - cible\n",
      " - lib\n",
      " - simplif\n",
      " - acci\n",
      " - clon\n",
      " - mes_c13\n",
      " - decoupe\n",
      " - sfcoeur\n",
      " - sfpied\n",
      " - deggib\n",
      " - veget5\n",
      " - qualite\n",
      " - lon_fr\n",
      " - lat_fr\n",
      " - dep\n",
      " - ser\n",
      " - dpyr\n",
      " - anpyr\n",
      " - pbuis\n",
      " - lat\n",
      " - lon\n",
      " - incid_1\n",
      " - incid_2\n",
      " - nincid_1\n",
      " - nincid_2\n",
      " - tpespar1_1\n",
      " - tpespar1_2\n",
      " - tpespar2_1\n",
      " - tpespar2_2\n",
      " - bplant_1\n",
      " - bplant_2\n",
      " - iplant_1\n",
      " - iplant_2\n",
      " - videpeuplier_1\n",
      " - videpeuplier_2\n",
      " - csa_1\n",
      " - csa_2\n",
      " - bois_1\n",
      " - bois_2\n",
      " - peupnr_1\n",
      " - peupnr_2\n",
      " - utip_1\n",
      " - utip_2\n",
      " - autut_1\n",
      " - autut_2\n",
      " - tform_1\n",
      " - tform_2\n",
      " - dc_1\n",
      " - dc_2\n",
      " - gest\n",
      " - elag\n",
      " - dist\n",
      " - acces\n",
      " - iti\n",
      " - asperite\n",
      " - pentexp\n",
      " - portn\n",
      " - portance\n",
      " - orniere\n",
      " - dcespar1\n",
      " - dcespar2\n",
      " - tplant\n",
      " - videplant\n",
      " - entp\n",
      " - tcat10\n",
      " - uta1\n",
      " - uta2\n",
      " - plisi\n",
      " - cslisi\n",
      " - elisi\n",
      " - andain\n",
      " - bord\n",
      " - integr\n",
      " - tm2\n",
      " - sfo\n",
      " - cam\n",
      " - prelev5\n",
      " - def5\n",
      " - instp5\n",
      " - nlisi5\n",
      " - sver\n",
      " - census_interval\n",
      " - tree_state_1\n",
      " - alive_but_injured_1\n",
      " - tree_state_2\n",
      " - alive_but_injured_2\n",
      " - mode_of_death\n",
      " - tree_state_change\n",
      " - tree_class\n",
      " - species_lat\n",
      " - genus_lat\n",
      " - family_lat\n",
      " - order_lat\n",
      " - espar_red\n",
      " - age_class\n",
      " - height_class\n",
      " - shadow_growth\n",
      " - c13_change_abs_yr\n",
      " - c13_change_perc_yr\n",
      " - dbh_1\n",
      " - dbh_2\n",
      " - dbh_change_abs_yr\n",
      " - dbh_change_perc_yr\n",
      " - ba_1\n",
      " - ba_2\n",
      " - ba_change_abs_yr\n",
      " - ba_change_perc_yr\n",
      " - avg_growth_height_meter_per_yr\n",
      " - avg_growth_ba_per_year\n",
      " - land_use\n",
      " - land_use_change\n",
      " - cover_change\n",
      " - human_activity\n",
      " - human_activity_var\n",
      " - gre\n",
      " - strate\n",
      " - tca\n",
      " - tcl\n",
      " - p1525\n",
      " - p7ares\n",
      " - dateeco\n",
      " - topo\n",
      " - obstopo\n",
      " - expo\n",
      " - msud\n",
      " - masque\n",
      " - pent2\n",
      " - obschemin\n",
      " - humus\n",
      " - oln\n",
      " - olt\n",
      " - ofr\n",
      " - olv\n",
      " - oh\n",
      " - tsol\n",
      " - prof1\n",
      " - prof2\n",
      " - obsprof\n",
      " - text1\n",
      " - text2\n",
      " - obspedo\n",
      " - roche\n",
      " - obsroc\n",
      " - affroc\n",
      " - cai40\n",
      " - cailloux\n",
      " - typcai\n",
      " - afpla\n",
      " - pgley\n",
      " - pox\n",
      " - ppseudo\n",
      " - obshydr\n",
      " - pcalc\n",
      " - pcalf\n",
      " - obsriv\n",
      " - obsriv2\n",
      " - typriv\n",
      " - distriv\n",
      " - denivriv\n",
      " - lign2\n",
      " - lign1\n",
      " - herb\n",
      " - mousse\n",
      " - obsveget\n",
      " - obsdate\n"
     ]
    }
   ],
   "source": [
    "# Load NFI Data\n",
    "if \"nfi_raw\" not in globals():\n",
    "    nfi_raw = get_latest_nfi_raw_data()\n",
    "\n",
    "    # nfi_raw = pd.read_csv(\n",
    "    #     f\"../00_process_nfi_data/{nfi_file_name}\",\n",
    "    #     index_col=[0],\n",
    "    #     low_memory=False,\n",
    "    # )\n",
    "\n",
    "# Get df to change\n",
    "nfi_final_data = nfi_raw.copy()\n",
    "\n",
    "# Get variable information from excel sheet\n",
    "sheet_nfi_org = pd.concat(\n",
    "    [\n",
    "        get_feature_database_sheet(\"NFI Original Variables\"),\n",
    "        get_feature_database_sheet(\"NFI Derivatives\"),\n",
    "    ]\n",
    ")\n",
    "\n",
    "# Fixing specific variables by hand -------------------------------------------\n",
    "# Replace where integr is in [4L, 6A, 6H] with [4, 6, 6]\n",
    "nfi_final_data[\"integr\"] = (\n",
    "    nfi_final_data[\"integr\"].astype(str).replace([\"4L\", \"6A\", \"6H\"], [\"4\", \"6\", \"6\"])\n",
    ")\n",
    "\n",
    "# Fix order of, 0 is lowest and 1 is highest, 4 second lowest)\n",
    "nfi_final_data[\"dc_1\"] = nfi_final_data[\"dc_1\"].replace(\n",
    "    [0, 1, 2, 3, 4], [0, 4, 3, 2, 1]\n",
    ")\n",
    "nfi_final_data[\"dc_2\"] = nfi_final_data[\"dc_2\"].replace(\n",
    "    [0, 1, 2, 3, 4], [0, 4, 3, 2, 1]\n",
    ")\n",
    "\n",
    "# For dep, remove leading 0s\n",
    "nfi_final_data[\"dep\"] = (\n",
    "    nfi_final_data[\"dep\"].astype(str).replace(r\"^0+\", \"\", regex=True)\n",
    ")\n",
    "\n",
    "# For tpespar1_1, remove leading 0s\n",
    "nfi_final_data[\"tpespar1_1\"] = (\n",
    "    nfi_final_data[\"tpespar1_1\"].astype(str).replace(r\"^0+\", \"\", regex=True)\n",
    ")\n",
    "\n",
    "# Fix variable formatting and do gapfilling of categorical variables ----------\n",
    "vec_cats = []\n",
    "vec_ords = []\n",
    "vec_dates = []\n",
    "vec_nums = []\n",
    "\n",
    "for col in sorted(nfi_final_data.columns):\n",
    "    if col in sheet_nfi_org[\"var\"].tolist():\n",
    "        if sheet_nfi_org.query(f\"var == @col\")[\"type\"].iloc[0] == \"cat\":\n",
    "            # Fix weird behaviour of some values being x and x.0\n",
    "            nfi_final_data[col] = (\n",
    "                nfi_final_data[col].astype(str).replace(r\"\\.0\", \"\", regex=True)\n",
    "            )\n",
    "            # Gapfilling missing values\n",
    "            nfi_final_data[col] = nfi_final_data[col].replace(\"nan\", \"Missing\")\n",
    "            # Set to category\n",
    "            nfi_final_data[col] = nfi_final_data[col].astype(\"category\")\n",
    "            vec_cats.append(col)\n",
    "\n",
    "        elif sheet_nfi_org.query(f\"var == @col\")[\"type\"].iloc[0] == \"date\":\n",
    "            nfi_final_data[col] = pd.to_datetime(nfi_final_data[col], errors=\"coerce\")\n",
    "            vec_dates.append(col)\n",
    "\n",
    "        elif sheet_nfi_org.query(f\"var == @col\")[\"type\"].iloc[0] == \"ord\":\n",
    "            # nfi_final_data[col] = nfi_final_data[col].fillna(-9999)\n",
    "            vec_ords.append(col)\n",
    "\n",
    "        else:\n",
    "            nfi_final_data[col] = pd.to_numeric(nfi_final_data[col], errors=\"coerce\")\n",
    "            vec_nums.append(col)\n",
    "\n",
    "\n",
    "# Print information ----------------------------------------------------------\n",
    "print(\"\\n --- Variable Encoding: ---\")\n",
    "print(f\" - Set to category (plus setting NA to 'missing'): \\t{vec_cats}\")\n",
    "print(f\" - Set to ordinal (plus setting NA to -9999): \\t\\t{vec_ords}\")\n",
    "print(f\" - Set to datetime: \\t\\t\\t\\t\\t{vec_dates}\")\n",
    "print(f\" - Set to numeric: \\t\\t\\t\\t\\t{vec_nums}\")\n",
    "\n",
    "print(\"Shape of nfi_final_data:\", nfi_final_data.shape)\n",
    "print(\"Number of invidiual sites:\", nfi_final_data[\"idp\"].nunique())\n",
    "\n",
    "print(\"\\n --- Columns in nfi_final_data: ----\")\n",
    "for col in nfi_final_data.columns:\n",
    "    print(f\" - {col}\")"
   ]
  },
  {
   "cell_type": "markdown",
   "metadata": {},
   "source": [
    "## Split tree and site variables\n"
   ]
  },
  {
   "cell_type": "code",
   "execution_count": 5,
   "metadata": {},
   "outputs": [
    {
     "name": "stdout",
     "output_type": "stream",
     "text": [
      "\n",
      " --- Tree Variables ---\n",
      " - Number of variables: 59\n",
      " - Number of observations: 1318400\n",
      " - Number of unique trees: 1318400\n",
      " - Number of unique sites: 102924\n",
      "\n",
      " --- Site Variables ---\n",
      " - Number of variables: 119\n",
      " - Number of observations: 104554\n",
      " - Number of unique sites: 102924\n"
     ]
    }
   ],
   "source": [
    "# Get NFI variables that are on the tree level\n",
    "tree_vars = (\n",
    "    get_feature_database_sheet(\"NFI Original Variables\")\n",
    "    .query(\"level == 'tree'\")[\"var\"]\n",
    "    .tolist()\n",
    ")\n",
    "\n",
    "site_vars = (\n",
    "    get_feature_database_sheet(\"NFI Original Variables\")\n",
    "    .query(\"level == 'location'\")[\"var\"]\n",
    "    .tolist()\n",
    ")\n",
    "\n",
    "# Make sure idp is in there and remove duplicates through set\n",
    "tree_vars = list(set([\"idp\", \"tree_id\", \"campagne_1\"] + tree_vars))\n",
    "site_vars = list(set([\"idp\", \"campagne_1\"] + site_vars))\n",
    "\n",
    "# TODO: ADDING VARIABLES HERE THAT SHOULD BE ADDED SEPARATELY WHEN MOVING FROM R TO PYTHON\n",
    "site_vars = site_vars + [\"lat_fr\", \"lon_fr\", \"lat\", \"lon\"]\n",
    "tree_vars = tree_vars + [\n",
    "    \"tree_state_1\",\n",
    "    \"tree_state_2\",\n",
    "    \"tree_state_change\",\n",
    "    \"species_lat\",\n",
    "    \"genus_lat\",\n",
    "    \"espar_red\",\n",
    "    \"shadow_growth\",\n",
    "    \"tree_class\",\n",
    "    \"family_lat\",\n",
    "    \"order_lat\",\n",
    "]\n",
    "\n",
    "# Subset vars that are actually in the data (removing automatically added _1 _2 suffixes)\n",
    "tree_vars = [x for x in tree_vars if x in nfi_final_data.columns]\n",
    "site_vars = [x for x in site_vars if x in nfi_final_data.columns]\n",
    "\n",
    "# Separate tree and location variables\n",
    "nfi_tree_raw = nfi_final_data[tree_vars].reset_index(drop=True)\n",
    "nfi_site_raw = nfi_final_data[site_vars].drop_duplicates().reset_index(drop=True)\n",
    "\n",
    "# Move idp to first position\n",
    "nfi_tree_raw.insert(0, \"idp\", nfi_tree_raw.pop(\"idp\"))\n",
    "nfi_site_raw.insert(0, \"idp\", nfi_site_raw.pop(\"idp\"))\n",
    "\n",
    "# Report shapes\n",
    "print(\"\\n --- Tree Variables ---\")\n",
    "print(f\" - Number of variables: {len(tree_vars)}\")\n",
    "print(f\" - Number of observations: {nfi_tree_raw.shape[0]}\")\n",
    "print(f\" - Number of unique trees: {nfi_tree_raw['tree_id'].nunique()}\")\n",
    "print(f\" - Number of unique sites: {nfi_tree_raw['idp'].nunique()}\")\n",
    "print(\"\\n --- Site Variables ---\")\n",
    "print(f\" - Number of variables: {len(site_vars)}\")\n",
    "print(f\" - Number of observations: {nfi_site_raw.shape[0]}\")\n",
    "print(f\" - Number of unique sites: {nfi_site_raw['idp'].nunique()}\")"
   ]
  },
  {
   "cell_type": "code",
   "execution_count": 6,
   "metadata": {},
   "outputs": [
    {
     "name": "stdout",
     "output_type": "stream",
     "text": [
      " - Number of unique sites: 102924\n",
      " - Number of observations: 102924\n"
     ]
    }
   ],
   "source": [
    "# Raw data has site duplicates that need to be cleaned up\n",
    "# Set idp to integer for easier handling\n",
    "nfi_site_raw[\"idp\"] = nfi_site_raw[\"idp\"].astype(\"int32\")\n",
    "# Get idp duplicates\n",
    "idp_dupes = (\n",
    "    nfi_site_raw[nfi_site_raw.duplicated(\"idp\", keep=False)]\n",
    "    .sort_values(\"idp\")\n",
    "    .replace(\"Missing\", np.nan)\n",
    ")\n",
    "\n",
    "\n",
    "# Define function to merge\n",
    "def merge_rows(group):\n",
    "    merged_values = []\n",
    "\n",
    "    for col in group.columns:\n",
    "        unique_values = group[col].dropna().unique()\n",
    "\n",
    "        if len(unique_values) == 0:\n",
    "            merged_values.append(pd.NA)\n",
    "        elif len(unique_values) > 1:\n",
    "            print(\n",
    "                f\"\\nWarning: Multiple non-NA values in {col} for Group {group['idp'].iloc[0]} - Values: {unique_values} - Chosen value: {unique_values[0]} \",\n",
    "            )\n",
    "            merged_values.append(unique_values[0])\n",
    "        else:\n",
    "            merged_values.append(unique_values[0])\n",
    "\n",
    "    return pd.Series(merged_values, index=group.columns)\n",
    "\n",
    "\n",
    "# Apply function\n",
    "idp_dupes_cleaned = idp_dupes.groupby(\"idp\").apply(merge_rows).reset_index(drop=True)\n",
    "nfi_site_nodupes = nfi_site_raw[~nfi_site_raw[\"idp\"].isin(idp_dupes[\"idp\"])]\n",
    "nfi_site_nodupes = pd.concat([nfi_site_nodupes, idp_dupes_cleaned]).reset_index(\n",
    "    drop=True\n",
    ")\n",
    "# Check if done correctly\n",
    "print(f\" - Number of unique sites: {nfi_site_nodupes['idp'].nunique()}\")\n",
    "print(f\" - Number of observations: {nfi_site_nodupes.shape[0]}\")\n",
    "# Set idp back to category\n",
    "nfi_site_nodupes[\"idp\"] = nfi_site_nodupes[\"idp\"].astype(\"category\")"
   ]
  },
  {
   "cell_type": "markdown",
   "metadata": {},
   "source": [
    "### Add Tree Growth\n"
   ]
  },
  {
   "cell_type": "code",
   "execution_count": 7,
   "metadata": {},
   "outputs": [],
   "source": [
    "# Set growth threshold below which ba_1 and ba_2 are set to NA\n",
    "growth_threshold = -5  # percentage"
   ]
  },
  {
   "cell_type": "code",
   "execution_count": 13,
   "metadata": {},
   "outputs": [
    {
     "name": "stdout",
     "output_type": "stream",
     "text": [
      " - Number of trees with growth less than -5%: 181 (0%) \n",
      "   For these, c13_1 and c13_2 are set to NA❗\n"
     ]
    }
   ],
   "source": [
    "# NEW DF\n",
    "nfi_tree_growth = nfi_tree_raw.copy()\n",
    "\n",
    "# DBH, BA, CHANGE -------------------------------------------------------------\n",
    "# Get plot area\n",
    "plot_area = 25**2 * np.pi / 10**5  # (25m)^2 * pi / 10000 [m^2/ha] = [ha]\n",
    "\n",
    "# C13\n",
    "nfi_tree_growth[\"c13_change_abs_yr\"] = (\n",
    "    nfi_tree_growth[\"c13_2\"] - nfi_tree_growth[\"c13_1\"]\n",
    ") / 5\n",
    "nfi_tree_growth[\"c13_change_perc_yr\"] = (\n",
    "    nfi_tree_growth[\"c13_change_abs_yr\"] / nfi_tree_growth[\"c13_1\"] * 100\n",
    ")\n",
    "\n",
    "# For trees with unrealistic growth, set c13_2 to NA\n",
    "# Print number of trees with unrealistic growth\n",
    "df_trees_unreal_growth = nfi_tree_growth.query(\"c13_change_perc_yr < @growth_threshold\")\n",
    "df_trees_real_growth = nfi_tree_growth.query(\"c13_change_perc_yr >= @growth_threshold\")\n",
    "ntrees_unrealistic_growth = df_trees_unreal_growth.shape[0]\n",
    "ptrees_unrealistic_growth = round(\n",
    "    ntrees_unrealistic_growth / nfi_tree_growth.shape[0] * 100\n",
    ")\n",
    "\n",
    "print(\n",
    "    f\" - Number of trees with growth less than {growth_threshold}%: {ntrees_unrealistic_growth} ({ptrees_unrealistic_growth}%)\",\n",
    "    f\"\\n   For these, c13_1 and c13_2 are set to NA❗\",\n",
    ")\n",
    "\n",
    "# Set c13_1, c13_2 and c13_change_perc_yr to NA if growth is below threshold\n",
    "nfi_tree_growth.loc[\n",
    "    nfi_tree_growth[\"c13_change_abs_yr\"] < growth_threshold, \"c13_1\"\n",
    "] = np.nan\n",
    "nfi_tree_growth.loc[\n",
    "    nfi_tree_growth[\"c13_change_abs_yr\"] < growth_threshold, \"c13_2\"\n",
    "] = np.nan\n",
    "nfi_tree_growth.loc[\n",
    "    nfi_tree_growth[\"c13_change_abs_yr\"] < growth_threshold, \"c13_change_perc_yr\"\n",
    "] = np.nan\n",
    "\n",
    "# Diameter\n",
    "nfi_tree_growth[\"dbh_1\"] = nfi_tree_growth[\"c13_1\"] / np.pi\n",
    "nfi_tree_growth[\"dbh_2\"] = nfi_tree_growth[\"c13_2\"] / np.pi\n",
    "nfi_tree_growth[\"dbh_change_abs_yr\"] = (\n",
    "    nfi_tree_growth[\"dbh_2\"] - nfi_tree_growth[\"dbh_1\"]\n",
    ") / 5\n",
    "nfi_tree_growth[\"dbh_change_perc_yr\"] = (\n",
    "    nfi_tree_growth[\"dbh_change_abs_yr\"] / nfi_tree_growth[\"dbh_1\"] * 100\n",
    ")\n",
    "\n",
    "# Basal Area\n",
    "nfi_tree_growth[\"ba_1\"] = np.pi * (nfi_tree_growth[\"dbh_1\"] / 2) ** 2 / plot_area\n",
    "nfi_tree_growth[\"ba_2\"] = np.pi * (nfi_tree_growth[\"dbh_2\"] / 2) ** 2 / plot_area\n",
    "nfi_tree_growth[\"ba_change_abs_yr\"] = (\n",
    "    nfi_tree_growth[\"ba_2\"] - nfi_tree_growth[\"ba_1\"]\n",
    ") / 5\n",
    "nfi_tree_growth[\"ba_change_perc_yr\"] = (\n",
    "    nfi_tree_growth[\"ba_change_abs_yr\"] / nfi_tree_growth[\"ba_1\"] * 100\n",
    ")\n",
    "\n",
    "# Growth rates\n",
    "nfi_tree_growth[\"avg_growth_height_meter_per_yr\"] = (\n",
    "    nfi_tree_growth[\"htot\"] / nfi_tree_growth[\"age13\"]\n",
    ")\n",
    "nfi_tree_growth[\"avg_growth_ba_per_year\"] = (\n",
    "    nfi_tree_growth[\"ba_1\"] / nfi_tree_growth[\"age13\"]\n",
    ")\n",
    "\n",
    "# Replace inf with NA\n",
    "nfi_tree_growth = nfi_tree_growth.replace([np.inf, -np.inf], np.nan)"
   ]
  },
  {
   "cell_type": "code",
   "execution_count": 9,
   "metadata": {},
   "outputs": [
    {
     "data": {
      "image/png": "[encoded data removed]",
      "text/plain": [
       "<Figure size 1200x1200 with 8 Axes>"
      ]
     },
     "metadata": {},
     "output_type": "display_data"
    }
   ],
   "source": [
    "# INFORMATION ON UNREALISTIC GROWTH -------------------------------------------\n",
    "# Create a 2x2 plot grid\n",
    "fig, axs = plt.subplots(4, 2, figsize=(12, 12))\n",
    "\n",
    "# Plot distribution of growth rates\n",
    "sns.histplot(df_trees_unreal_growth[\"c13_change_perc_yr\"], ax=axs[0, 0], stat=\"count\")\n",
    "axs[0, 0].set_title(\n",
    "    f\"Distribution of Growth Rates (only growth below {growth_threshold}%)\"\n",
    ")\n",
    "\n",
    "# Plot the mean per campagne as boxplot\n",
    "sns.boxplot(\n",
    "    x=\"campagne_1\", y=\"c13_change_perc_yr\", data=df_trees_unreal_growth, ax=axs[0, 1]\n",
    ")\n",
    "axs[0, 1].set_title(\n",
    "    f\"Mean Growth Rates per Campagne (only growth below {growth_threshold}%)\"\n",
    ")\n",
    "\n",
    "# Add count on top of boxplot\n",
    "sns.countplot(x=\"campagne_1\", data=df_trees_unreal_growth, ax=axs[1, 0])\n",
    "axs[1, 0].set_title(\n",
    "    f\"Count of Trees per Campagne (only growth below {growth_threshold}%)\"\n",
    ")\n",
    "\n",
    "# Compare C13_1 and C13_2\n",
    "axs[1, 1].scatter(\n",
    "    df_trees_real_growth[\"c13_1\"],\n",
    "    df_trees_real_growth[\"c13_2\"],\n",
    "    color=\"green\",\n",
    "    label=f\"Growth above {growth_threshold}%\",\n",
    "    alpha=0.5,\n",
    ")\n",
    "axs[1, 1].scatter(\n",
    "    df_trees_unreal_growth[\"c13_1\"],\n",
    "    df_trees_unreal_growth[\"c13_2\"],\n",
    "    color=\"red\",\n",
    "    label=f\"Growth below {growth_threshold}%\",\n",
    "    alpha=0.5,\n",
    ")\n",
    "axs[1, 1].set_xlabel(\"C13_1\")\n",
    "axs[1, 1].set_ylabel(\"C13_2\")\n",
    "axs[1, 1].legend()\n",
    "axs[1, 1].axline((0, 0), slope=1, color=\"black\", linestyle=\"--\")\n",
    "\n",
    "# Get counts of NAs in C13_1 and C13_2 per campagne\n",
    "df_tmp = nfi_tree_growth.copy()\n",
    "df_tmp[\"c13_1_NA\"] = df_tmp[\"c13_1\"].isna()\n",
    "df_tmp[\"c13_2_NA\"] = df_tmp[\"c13_2\"].isna()\n",
    "\n",
    "# Plot these counts per campagne\n",
    "sns.histplot(\n",
    "    x=\"campagne_1\",\n",
    "    hue=\"c13_1_NA\",\n",
    "    data=df_tmp,\n",
    "    ax=axs[2, 0],\n",
    "    multiple=\"fill\",\n",
    "    stat=\"count\",\n",
    ")\n",
    "\n",
    "axs[2, 0].set_title(f\"Count of NAs in C13_1 per Campagne (all trees)\")\n",
    "\n",
    "sns.histplot(\n",
    "    x=\"campagne_1\",\n",
    "    hue=\"c13_2_NA\",\n",
    "    data=df_tmp,\n",
    "    ax=axs[2, 1],\n",
    "    multiple=\"fill\",\n",
    "    stat=\"count\",\n",
    ")\n",
    "axs[2, 1].set_title(f\"Count of NAs in C13_2 per Campagne (all trees)\")\n",
    "\n",
    "\n",
    "# Plot distribution of c13_1 in df_trees_unreal_growth\n",
    "sns.histplot(\n",
    "    df_trees_unreal_growth[\"c13_1\"], stat=\"density\", color=\"red\", bins=100, ax=axs[3, 0]\n",
    ")\n",
    "sns.histplot(\n",
    "    df_trees_real_growth[\"c13_1\"], stat=\"density\", color=\"green\", bins=100, ax=axs[3, 0]\n",
    ")\n",
    "axs[3, 0].set_title(\"Distribution of C13_1 from unreal and real growth\")\n",
    "axs[3, 0].legend([\"Unreal Growth\", \"Real Growth\"])\n",
    "\n",
    "# Plot distribution of c13_2 in df_trees_unreal_growth\n",
    "sns.histplot(\n",
    "    df_trees_unreal_growth[\"c13_2\"], stat=\"density\", color=\"red\", bins=100, ax=axs[3, 1]\n",
    ")\n",
    "sns.histplot(\n",
    "    df_trees_real_growth[\"c13_2\"], stat=\"density\", color=\"green\", bins=100, ax=axs[3, 1]\n",
    ")\n",
    "axs[3, 1].set_title(\"Distribution of C13_2 from unreal and real growth\")\n",
    "axs[3, 1].legend([\"Unreal Growth\", \"Real Growth\"])\n",
    "\n",
    "# Adjust spacing between subplots\n",
    "fig.tight_layout()\n",
    "\n",
    "# Show the plot\n",
    "plt.show()"
   ]
  },
  {
   "cell_type": "code",
   "execution_count": 196,
   "metadata": {},
   "outputs": [
    {
     "data": {
      "image/png": "[encoded data removed]",
      "text/plain": [
       "<Figure size 1200x600 with 2 Axes>"
      ]
     },
     "metadata": {},
     "output_type": "display_data"
    }
   ],
   "source": [
    "# INFORMATION ON TREE STATE ----------------------------------------------------\n",
    "# Drop tree_state_change without any counts\n",
    "nfi_tree_growth[\"tree_state_change\"] = (\n",
    "    nfi_tree_growth[\"tree_state_change\"].astype(str).astype(\"category\")\n",
    ")\n",
    "\n",
    "# Create a 2x1 plot grid\n",
    "fig, axs = plt.subplots(1, 2, figsize=(12, 6))\n",
    "\n",
    "# Distribution of tree_state_change\n",
    "nfi_tree_growth[\"tree_state_change\"].value_counts().plot(kind=\"bar\", ax=axs[0])\n",
    "axs[0].set_title(\"Distribution of Tree State Change\")\n",
    "\n",
    "(\n",
    "    nfi_tree_growth.groupby([\"tree_state_change\", \"campagne_1\"])\n",
    "    .size()\n",
    "    .reset_index()\n",
    "    .pivot(columns=\"tree_state_change\", index=\"campagne_1\", values=0)\n",
    "    .plot(kind=\"bar\", stacked=True, ax=axs[1])\n",
    ")\n",
    "axs[1].legend(loc=\"upper center\", bbox_to_anchor=(0.5, -0.2), ncol=3)\n",
    "\n",
    "fig.tight_layout()\n",
    "plt.show()"
   ]
  },
  {
   "cell_type": "markdown",
   "metadata": {},
   "source": [
    "### Apriori Filter of Sites and Trees\n",
    "\n",
    "Notes on the filters below:\n",
    "\n",
    "- Filters to apply to reduce computational load + get more representative results when calculating site-level metrics.\n",
    "- Between 2009-2016, peupnr_2 is never 3 (temporarily forested). So, filtering for peupnr_2 =! 3 does not remove any clear-cut sites.\n"
   ]
  },
  {
   "cell_type": "code",
   "execution_count": 12,
   "metadata": {},
   "outputs": [
    {
     "name": "stdout",
     "output_type": "stream",
     "text": [
      " - Filter: campagne_1 2010-2016           |\tSites from 102924 to 42672 (=      60252, 59%)\t|\t ❗More than 5% of sites removed❗\n",
      " - Filter: Censuable sites (peupnr_1)     |\tSites from 42672 to 42117 (=        555, 1%)\t|\t \n",
      " - Filter: Censuable sites (peupnr_2)     |\tSites from 42117 to 41456 (=        661, 2%)\t|\t \n",
      " - Filter: Coordinates not NA             |\tSites from 41456 to 41296 (=        160, 0%)\t|\t \n",
      " - Filter: -- Final                       |\tSites from 102924 to 41296 (=      61628, 60%)\t|\t ❗More than 5% of sites removed❗\n"
     ]
    }
   ],
   "source": [
    "# SITE FILTER\n",
    "df_aft = nfi_site_nodupes.copy()\n",
    "\n",
    "# Filter for campagne of interest\n",
    "df_bef = df_aft.copy()\n",
    "df_aft = df_bef.query(\"campagne_1 > 2009 and campagne_1 < 2017\")\n",
    "filter_report(\"campagne_1 2010-2016\", df_bef, df_aft, site_level=True)\n",
    "\n",
    "# Filter based on peupnr_x (0 = censusable, 1 = not censusable, 3 = temporarily deforested)\n",
    "df_bef = df_aft.copy()\n",
    "df_aft = df_bef.query(\"peupnr_1 not in ['1', '3']\")\n",
    "filter_report(\"Censuable sites (peupnr_1)\", df_bef, df_aft, site_level=True)\n",
    "\n",
    "df_bef = df_aft.copy()\n",
    "df_aft = df_bef.query(\"peupnr_2 not in ['1', '3']\")\n",
    "filter_report(\"Censuable sites (peupnr_2)\", df_bef, df_aft, site_level=True)\n",
    "\n",
    "# Removing NA coords lat/lon\n",
    "df_bef = df_aft.copy()\n",
    "df_aft = df_bef.dropna(subset=[\"lat\", \"lon\"])\n",
    "filter_report(\"Coordinates not NA\", df_bef, df_aft, site_level=True)\n",
    "\n",
    "# Final Report\n",
    "nfi_site_filtered = df_aft.reset_index(drop=True)\n",
    "filter_report(\"-- Final\", nfi_site_nodupes, nfi_site_filtered, site_level=True)\n",
    "\n",
    "# Reset dtypes to remove dropped levels\n",
    "nfi_site_filtered[\"peupnr_1\"] = nfi_site_filtered[\"peupnr_1\"].astype(\"category\")\n",
    "nfi_site_filtered[\"peupnr_2\"] = nfi_site_filtered[\"peupnr_2\"].astype(\"category\")"
   ]
  },
  {
   "cell_type": "code",
   "execution_count": null,
   "metadata": {},
   "outputs": [
    {
     "name": "stdout",
     "output_type": "stream",
     "text": [
      " - Filter: campagne_1 2010-2016           |\tSites from 102924 to 42672 (=      60252, 59%)\t|\t ❗More than 5% of sites removed❗\n",
      " - Filter: Censuable sites (peupnr_1)     |\tSites from 42672 to 42117 (=        555, 1%)\t|\t \n",
      " - Filter: Censuable sites (peupnr_2)     |\tSites from 42117 to 41456 (=        661, 2%)\t|\t \n",
      " - Filter: Coordinates not NA             |\tSites from 41456 to 41296 (=        160, 0%)\t|\t \n",
      " - Filter: -- Final                       |\tSites from 102924 to 41296 (=      61628, 60%)\t|\t ❗More than 5% of sites removed❗\n"
     ]
    }
   ],
   "source": [
    "# SITE FILTER\n",
    "df_aft = nfi_site_nodupes.copy()\n",
    "\n",
    "# Filter for campagne of interest\n",
    "df_bef = df_aft.copy()\n",
    "df_aft = df_bef.query(\"campagne_1 > 2009 and campagne_1 < 2017\")\n",
    "filter_report(\"campagne_1 2010-2016\", df_bef, df_aft, site_level=True)\n",
    "\n",
    "# Filter based on peupnr_x (0 = censusable, 1 = not censusable, 3 = temporarily deforested)\n",
    "df_bef = df_aft.copy()\n",
    "df_aft = df_bef.query(\"peupnr_1 not in ['1', '3']\")\n",
    "filter_report(\"Censuable sites (peupnr_1)\", df_bef, df_aft, site_level=True)\n",
    "\n",
    "df_bef = df_aft.copy()\n",
    "df_aft = df_bef.query(\"peupnr_2 not in ['1', '3']\")\n",
    "filter_report(\"Censuable sites (peupnr_2)\", df_bef, df_aft, site_level=True)\n",
    "\n",
    "# Removing NA coords lat/lon\n",
    "df_bef = df_aft.copy()\n",
    "df_aft = df_bef.dropna(subset=[\"lat\", \"lon\"])\n",
    "filter_report(\"Coordinates not NA\", df_bef, df_aft, site_level=True)\n",
    "\n",
    "# Final Report\n",
    "nfi_site_filtered = df_aft.reset_index(drop=True)\n",
    "filter_report(\"-- Final\", nfi_site_nodupes, nfi_site_filtered, site_level=True)\n",
    "\n",
    "# Reset dtypes to remove dropped levels\n",
    "nfi_site_filtered[\"peupnr_1\"] = nfi_site_filtered[\"peupnr_1\"].astype(\"category\")\n",
    "nfi_site_filtered[\"peupnr_2\"] = nfi_site_filtered[\"peupnr_2\"].astype(\"category\")"
   ]
  },
  {
   "cell_type": "markdown",
   "metadata": {},
   "source": [
    "### Save Coordinates for Extraction\n"
   ]
  },
  {
   "cell_type": "code",
   "execution_count": null,
   "metadata": {},
   "outputs": [],
   "source": [
    "#\n",
    "# ! Note: Save the idp, census year, and coordinates for these sites. This file is then used for all extractions! Filters down the line, may remove some sites, but keeping them in here makes it more flexible for a general data extraction without going back-and-forth again.\n",
    "# first_year, SiteID, x, y, idp\n",
    "\n",
    "sites_with_idp = (\n",
    "    nfi_site_filtered[[\"idp\", \"campagne_1\", \"lat\", \"lon\", \"lat_fr\", \"lon_fr\"]]\n",
    "    .drop_duplicates()\n",
    "    .reset_index()\n",
    ")\n",
    "\n",
    "sites_with_idp.columns = [\"SiteID\", \"idp\", \"first_year\", \"y\", \"x\", \"y_fr\", \"x_fr\"]\n",
    "\n",
    "sites_without_idp = (\n",
    "    sites_with_idp.copy()\n",
    "    .drop([\"idp\", \"first_year\", \"SiteID\"], axis=1)\n",
    "    .drop_duplicates()\n",
    "    .reset_index()\n",
    "    .rename(columns={\"index\": \"SiteID\"})\n",
    ")\n",
    "\n",
    "sites_with_idp.to_csv(\"nfi_final_sites.csv\", index=False)\n",
    "sites_without_idp.to_csv(\"nfi_final_sites_without_idp.csv\", index=False)"
   ]
  },
  {
   "cell_type": "code",
   "execution_count": 16,
   "metadata": {},
   "outputs": [
    {
     "name": "stdout",
     "output_type": "stream",
     "text": [
      " - Filter: Reduce to idp in nfi_site_filtered |\tSites from 102924 to 41296 (=      61628, 60%)\t|\t Trees from 1318400 to 565220 (= 753180, 57%) ❗More than 5% of sites removed❗ ❗More than 5% of trees removed❗\n",
      " - Filter: Remove trees wi. shadow growth |\tSites from 41296 to 41296 (=          0, 0%)\t|\t Trees from 565220 to 565220 (=     0, 0%)  \n",
      " - Filter: Remove tree_state_1 missing    |\tSites from 41296 to 41296 (=          0, 0%)\t|\t Trees from 565220 to 565220 (=     0, 0%)  \n",
      " - Filter: Remove tree_state_2 missing    |\tSites from 41296 to 40307 (=        989, 2%)\t|\t Trees from 565220 to 553390 (= 11830, 2%)  \n",
      " - Filter: Remove state_change dead_alive |\tSites from 40307 to 40305 (=          2, 0%)\t|\t Trees from 553390 to 553141 (=   249, 0%)  \n",
      " - Filter: Remove state_change new_dead   |\tSites from 40305 to 40305 (=          0, 0%)\t|\t Trees from 553141 to 552995 (=   146, 0%)  \n",
      " - Filter: Remove cible                   |\tSites from 40305 to 40231 (=         74, 0%)\t|\t Trees from 552995 to 549255 (=  3740, 1%)  \n",
      " - Filter: Remove simplified trees        |\tSites from 40231 to 40221 (=         10, 0%)\t|\t Trees from 549255 to 365368 (= 183887, 33%)  ❗More than 5% of trees removed❗\n",
      " - Filter: -- Final                       |\tSites from 102924 to 40221 (=      62703, 61%)\t|\t Trees from 1318400 to 365368 (= 953032, 72%) ❗More than 5% of sites removed❗ ❗More than 5% of trees removed❗\n"
     ]
    }
   ],
   "source": [
    "# TREE FILTER\n",
    "# New df\n",
    "df_bef = nfi_tree_growth.copy()\n",
    "\n",
    "# Reduce to idp that are in nfi_site_filtered\n",
    "nfi_site_nodupes[\"idp\"] = nfi_site_nodupes[\"idp\"].astype(int)\n",
    "\n",
    "df_bef[\"idp\"] = df_bef[\"idp\"].astype(int)\n",
    "df_aft = df_bef[df_bef[\"idp\"].isin(nfi_site_filtered[\"idp\"].tolist())]\n",
    "filter_report(\"Reduce to idp in nfi_site_filtered\", df_bef, df_aft)\n",
    "\n",
    "# Remove where shadow growth is 'yes'\n",
    "df_bef = df_aft.copy()\n",
    "df_aft = df_bef.query(\"shadow_growth != 'yes'\")\n",
    "filter_report(\"Remove trees wi. shadow growth\", df_bef, df_aft)\n",
    "\n",
    "# Remove trees with unknown tree status\n",
    "df_bef = df_aft.copy()\n",
    "df_aft = df_bef.query(\"tree_state_1 != 'Missing'\")\n",
    "filter_report(\"Remove tree_state_1 missing\", df_bef, df_aft)\n",
    "\n",
    "df_bef = df_aft.copy()\n",
    "df_aft = df_bef.query(\"tree_state_2 != 'Missing'\")\n",
    "filter_report(\"Remove tree_state_2 missing\", df_bef, df_aft)\n",
    "\n",
    "# Remove trees with non-sensical tree state change\n",
    "df_bef = df_aft.copy()\n",
    "df_aft = df_bef.query(\"tree_state_change != 'dead_alive'\")\n",
    "filter_report(\"Remove state_change dead_alive\", df_bef, df_aft)\n",
    "\n",
    "# Remove recruits that died\n",
    "df_bef = df_aft.copy()\n",
    "df_aft = df_bef.query(\"tree_state_change != 'new_dead'\")\n",
    "filter_report(\"Remove state_change new_dead\", df_bef, df_aft)\n",
    "\n",
    "# Remove trees that were certainly outside of the target stand\n",
    "df_bef = df_aft.copy()\n",
    "df_aft = df_bef.query(\"cible != '0'\")\n",
    "filter_report(\"Remove cible\", df_bef, df_aft)\n",
    "\n",
    "# Remove trees with simplified measurement\n",
    "df_bef = df_aft.copy()\n",
    "df_aft = df_bef.query(\"simplif != '1'\")\n",
    "filter_report(\"Remove simplified trees\", df_bef, df_aft)\n",
    "\n",
    "# Final Report\n",
    "nfi_filter_trees = df_aft.reset_index(drop=True)\n",
    "filter_report(\"-- Final\", nfi_tree_growth, nfi_filter_trees)\n",
    "\n",
    "# Reset dtypes to remove dropped levels\n",
    "nfi_filter_trees[\"shadow_growth\"] = nfi_filter_trees[\n",
    "    \"shadow_growth\"\n",
    "].cat.remove_unused_categories()\n",
    "nfi_filter_trees[\"tree_state_1\"] = nfi_filter_trees[\n",
    "    \"tree_state_1\"\n",
    "].cat.remove_unused_categories()\n",
    "nfi_filter_trees[\"tree_state_2\"] = nfi_filter_trees[\n",
    "    \"tree_state_2\"\n",
    "].cat.remove_unused_categories()\n",
    "nfi_filter_trees[\"tree_state_change\"] = nfi_filter_trees[\n",
    "    \"tree_state_change\"\n",
    "].cat.remove_unused_categories()"
   ]
  },
  {
   "cell_type": "code",
   "execution_count": 50,
   "metadata": {},
   "outputs": [
    {
     "data": {
      "text/plain": [
       "(40221, 119)"
      ]
     },
     "execution_count": 50,
     "metadata": {},
     "output_type": "execute_result"
    }
   ],
   "source": [
    "# Reduce sites only to sites that were kept after filtering trees\n",
    "nfi_site_filtered = nfi_site_filtered[\n",
    "    nfi_site_filtered[\"idp\"].isin(nfi_filter_trees[\"idp\"].unique())\n",
    "].reset_index(drop=True)\n",
    "\n",
    "nfi_site_filtered.shape"
   ]
  },
  {
   "cell_type": "markdown",
   "metadata": {},
   "source": [
    "### Additional Information\n"
   ]
  },
  {
   "cell_type": "markdown",
   "metadata": {},
   "source": [
    "#### Tree-level\n"
   ]
  },
  {
   "cell_type": "code",
   "execution_count": 62,
   "metadata": {},
   "outputs": [],
   "source": [
    "nfi_tree_addinfo = nfi_filter_trees.copy()"
   ]
  },
  {
   "cell_type": "code",
   "execution_count": 63,
   "metadata": {},
   "outputs": [],
   "source": [
    "# HEIGHT CLASS ----------------------------------------------------------------\n",
    "nfi_tree_addinfo[\"tree_height_class\"] = (\n",
    "    pd.cut(\n",
    "        nfi_tree_addinfo[\"htot\"],\n",
    "        bins=[0, 10, 15, 20, 25, np.Inf],\n",
    "        labels=[\"0-10\", \"10-15\", \"15-20\", \"20-25\", \"25+\"],\n",
    "    )\n",
    "    .cat.add_categories(\"Missing\")\n",
    "    .fillna(\"Missing\")\n",
    ")\n",
    "\n",
    "# AGE CLASS -------------------------------------------------------------------\n",
    "nfi_tree_addinfo[\"tree_age_class\"] = (\n",
    "    pd.cut(\n",
    "        nfi_tree_addinfo[\"age13\"],\n",
    "        bins=[0, 15, 30, 45, 60, 75, 100, np.Inf],\n",
    "        labels=[\"0-15\", \"15-30\", \"30-45\", \"45-60\", \"60-75\", \"75-100\", \"100+\"],\n",
    "    )\n",
    "    .cat.add_categories(\"Missing\")\n",
    "    .fillna(\"Missing\")\n",
    ")"
   ]
  },
  {
   "cell_type": "code",
   "execution_count": 65,
   "metadata": {},
   "outputs": [
    {
     "data": {
      "text/html": [
       "<div>\n",
       "<style scoped>\n",
       "    .dataframe tbody tr th:only-of-type {\n",
       "        vertical-align: middle;\n",
       "    }\n",
       "\n",
       "    .dataframe tbody tr th {\n",
       "        vertical-align: top;\n",
       "    }\n",
       "\n",
       "    .dataframe thead th {\n",
       "        text-align: right;\n",
       "    }\n",
       "</style>\n",
       "<table border=\"1\" class=\"dataframe\">\n",
       "  <thead>\n",
       "    <tr style=\"text-align: right;\">\n",
       "      <th></th>\n",
       "      <th>idp</th>\n",
       "      <th>a</th>\n",
       "      <th>tetard</th>\n",
       "      <th>qualite</th>\n",
       "      <th>ddec</th>\n",
       "      <th>tree_id</th>\n",
       "      <th>q1</th>\n",
       "      <th>hdec</th>\n",
       "      <th>veget5</th>\n",
       "      <th>veget</th>\n",
       "      <th>...</th>\n",
       "      <th>dbh_change_abs_yr</th>\n",
       "      <th>dbh_change_perc_yr</th>\n",
       "      <th>ba_1</th>\n",
       "      <th>ba_2</th>\n",
       "      <th>ba_change_abs_yr</th>\n",
       "      <th>ba_change_perc_yr</th>\n",
       "      <th>avg_growth_height_meter_per_yr</th>\n",
       "      <th>avg_growth_ba_per_year</th>\n",
       "      <th>tree_height_class</th>\n",
       "      <th>tree_age_class</th>\n",
       "    </tr>\n",
       "  </thead>\n",
       "  <tbody>\n",
       "    <tr>\n",
       "      <th>0</th>\n",
       "      <td>632691</td>\n",
       "      <td>3</td>\n",
       "      <td>Missing</td>\n",
       "      <td>Missing</td>\n",
       "      <td>NaN</td>\n",
       "      <td>632691_3</td>\n",
       "      <td>0.0</td>\n",
       "      <td>10.8</td>\n",
       "      <td>M</td>\n",
       "      <td>0</td>\n",
       "      <td>...</td>\n",
       "      <td>0.000115</td>\n",
       "      <td>0.046154</td>\n",
       "      <td>2.465752</td>\n",
       "      <td>2.477146</td>\n",
       "      <td>0.002279</td>\n",
       "      <td>0.092414</td>\n",
       "      <td>NaN</td>\n",
       "      <td>NaN</td>\n",
       "      <td>15-20</td>\n",
       "      <td>Missing</td>\n",
       "    </tr>\n",
       "    <tr>\n",
       "      <th>1</th>\n",
       "      <td>632691</td>\n",
       "      <td>1</td>\n",
       "      <td>Missing</td>\n",
       "      <td>S1</td>\n",
       "      <td>NaN</td>\n",
       "      <td>632691_1</td>\n",
       "      <td>0.0</td>\n",
       "      <td>18.4</td>\n",
       "      <td>0</td>\n",
       "      <td>0</td>\n",
       "      <td>...</td>\n",
       "      <td>0.013369</td>\n",
       "      <td>2.625000</td>\n",
       "      <td>10.375289</td>\n",
       "      <td>13.277533</td>\n",
       "      <td>0.580449</td>\n",
       "      <td>5.594531</td>\n",
       "      <td>0.830769</td>\n",
       "      <td>0.39905</td>\n",
       "      <td>20-25</td>\n",
       "      <td>15-30</td>\n",
       "    </tr>\n",
       "    <tr>\n",
       "      <th>2</th>\n",
       "      <td>632691</td>\n",
       "      <td>2</td>\n",
       "      <td>Missing</td>\n",
       "      <td>S1</td>\n",
       "      <td>NaN</td>\n",
       "      <td>632691_2</td>\n",
       "      <td>0.0</td>\n",
       "      <td>13.0</td>\n",
       "      <td>0</td>\n",
       "      <td>0</td>\n",
       "      <td>...</td>\n",
       "      <td>0.004456</td>\n",
       "      <td>1.794872</td>\n",
       "      <td>2.465752</td>\n",
       "      <td>2.928182</td>\n",
       "      <td>0.092486</td>\n",
       "      <td>3.750822</td>\n",
       "      <td>NaN</td>\n",
       "      <td>NaN</td>\n",
       "      <td>15-20</td>\n",
       "      <td>Missing</td>\n",
       "    </tr>\n",
       "    <tr>\n",
       "      <th>3</th>\n",
       "      <td>632691</td>\n",
       "      <td>4</td>\n",
       "      <td>Missing</td>\n",
       "      <td>S1</td>\n",
       "      <td>NaN</td>\n",
       "      <td>632691_4</td>\n",
       "      <td>0.0</td>\n",
       "      <td>10.4</td>\n",
       "      <td>0</td>\n",
       "      <td>0</td>\n",
       "      <td>...</td>\n",
       "      <td>0.000637</td>\n",
       "      <td>0.215054</td>\n",
       "      <td>3.505308</td>\n",
       "      <td>3.581096</td>\n",
       "      <td>0.015158</td>\n",
       "      <td>0.432420</td>\n",
       "      <td>NaN</td>\n",
       "      <td>NaN</td>\n",
       "      <td>10-15</td>\n",
       "      <td>Missing</td>\n",
       "    </tr>\n",
       "    <tr>\n",
       "      <th>4</th>\n",
       "      <td>632691</td>\n",
       "      <td>5</td>\n",
       "      <td>Missing</td>\n",
       "      <td>S+</td>\n",
       "      <td>NaN</td>\n",
       "      <td>632691_5</td>\n",
       "      <td>0.0</td>\n",
       "      <td>21.0</td>\n",
       "      <td>0</td>\n",
       "      <td>0</td>\n",
       "      <td>...</td>\n",
       "      <td>0.007639</td>\n",
       "      <td>2.000000</td>\n",
       "      <td>5.836100</td>\n",
       "      <td>7.061681</td>\n",
       "      <td>0.245116</td>\n",
       "      <td>4.200000</td>\n",
       "      <td>NaN</td>\n",
       "      <td>NaN</td>\n",
       "      <td>20-25</td>\n",
       "      <td>Missing</td>\n",
       "    </tr>\n",
       "    <tr>\n",
       "      <th>...</th>\n",
       "      <td>...</td>\n",
       "      <td>...</td>\n",
       "      <td>...</td>\n",
       "      <td>...</td>\n",
       "      <td>...</td>\n",
       "      <td>...</td>\n",
       "      <td>...</td>\n",
       "      <td>...</td>\n",
       "      <td>...</td>\n",
       "      <td>...</td>\n",
       "      <td>...</td>\n",
       "      <td>...</td>\n",
       "      <td>...</td>\n",
       "      <td>...</td>\n",
       "      <td>...</td>\n",
       "      <td>...</td>\n",
       "      <td>...</td>\n",
       "      <td>...</td>\n",
       "      <td>...</td>\n",
       "      <td>...</td>\n",
       "      <td>...</td>\n",
       "    </tr>\n",
       "    <tr>\n",
       "      <th>365363</th>\n",
       "      <td>1131437</td>\n",
       "      <td>11</td>\n",
       "      <td>0</td>\n",
       "      <td>Missing</td>\n",
       "      <td>NaN</td>\n",
       "      <td>1131437_11</td>\n",
       "      <td>NaN</td>\n",
       "      <td>3.8</td>\n",
       "      <td>M</td>\n",
       "      <td>0</td>\n",
       "      <td>...</td>\n",
       "      <td>-0.000064</td>\n",
       "      <td>-0.068966</td>\n",
       "      <td>0.340844</td>\n",
       "      <td>0.338498</td>\n",
       "      <td>-0.000469</td>\n",
       "      <td>-0.137693</td>\n",
       "      <td>NaN</td>\n",
       "      <td>NaN</td>\n",
       "      <td>10-15</td>\n",
       "      <td>Missing</td>\n",
       "    </tr>\n",
       "    <tr>\n",
       "      <th>365364</th>\n",
       "      <td>1131437</td>\n",
       "      <td>14</td>\n",
       "      <td>0</td>\n",
       "      <td>S2</td>\n",
       "      <td>NaN</td>\n",
       "      <td>1131437_14</td>\n",
       "      <td>NaN</td>\n",
       "      <td>14.6</td>\n",
       "      <td>0</td>\n",
       "      <td>0</td>\n",
       "      <td>...</td>\n",
       "      <td>0.002292</td>\n",
       "      <td>0.986301</td>\n",
       "      <td>2.159762</td>\n",
       "      <td>2.378032</td>\n",
       "      <td>0.043654</td>\n",
       "      <td>2.021242</td>\n",
       "      <td>NaN</td>\n",
       "      <td>NaN</td>\n",
       "      <td>15-20</td>\n",
       "      <td>Missing</td>\n",
       "    </tr>\n",
       "    <tr>\n",
       "      <th>365365</th>\n",
       "      <td>1131437</td>\n",
       "      <td>15</td>\n",
       "      <td>0</td>\n",
       "      <td>Missing</td>\n",
       "      <td>NaN</td>\n",
       "      <td>1131437_15</td>\n",
       "      <td>NaN</td>\n",
       "      <td>11.9</td>\n",
       "      <td>0</td>\n",
       "      <td>0</td>\n",
       "      <td>...</td>\n",
       "      <td>0.000191</td>\n",
       "      <td>0.150000</td>\n",
       "      <td>0.648456</td>\n",
       "      <td>0.658219</td>\n",
       "      <td>0.001953</td>\n",
       "      <td>0.301125</td>\n",
       "      <td>NaN</td>\n",
       "      <td>NaN</td>\n",
       "      <td>10-15</td>\n",
       "      <td>Missing</td>\n",
       "    </tr>\n",
       "    <tr>\n",
       "      <th>365366</th>\n",
       "      <td>1131437</td>\n",
       "      <td>16</td>\n",
       "      <td>0</td>\n",
       "      <td>BI</td>\n",
       "      <td>0.39</td>\n",
       "      <td>1131437_16</td>\n",
       "      <td>NaN</td>\n",
       "      <td>6.4</td>\n",
       "      <td>0</td>\n",
       "      <td>0</td>\n",
       "      <td>...</td>\n",
       "      <td>0.000700</td>\n",
       "      <td>0.169231</td>\n",
       "      <td>6.849312</td>\n",
       "      <td>6.965714</td>\n",
       "      <td>0.023280</td>\n",
       "      <td>0.339893</td>\n",
       "      <td>NaN</td>\n",
       "      <td>NaN</td>\n",
       "      <td>15-20</td>\n",
       "      <td>Missing</td>\n",
       "    </tr>\n",
       "    <tr>\n",
       "      <th>365367</th>\n",
       "      <td>1131437</td>\n",
       "      <td>18</td>\n",
       "      <td>0</td>\n",
       "      <td>Missing</td>\n",
       "      <td>NaN</td>\n",
       "      <td>1131437_18</td>\n",
       "      <td>NaN</td>\n",
       "      <td>6.8</td>\n",
       "      <td>0</td>\n",
       "      <td>0</td>\n",
       "      <td>...</td>\n",
       "      <td>0.001210</td>\n",
       "      <td>1.187500</td>\n",
       "      <td>0.415012</td>\n",
       "      <td>0.465757</td>\n",
       "      <td>0.010149</td>\n",
       "      <td>2.445508</td>\n",
       "      <td>NaN</td>\n",
       "      <td>NaN</td>\n",
       "      <td>10-15</td>\n",
       "      <td>Missing</td>\n",
       "    </tr>\n",
       "  </tbody>\n",
       "</table>\n",
       "<p>365368 rows × 73 columns</p>\n",
       "</div>"
      ],
      "text/plain": [
       "            idp   a   tetard  qualite  ddec     tree_id   q1  hdec veget5  \\\n",
       "0        632691   3  Missing  Missing   NaN    632691_3  0.0  10.8      M   \n",
       "1        632691   1  Missing       S1   NaN    632691_1  0.0  18.4      0   \n",
       "2        632691   2  Missing       S1   NaN    632691_2  0.0  13.0      0   \n",
       "3        632691   4  Missing       S1   NaN    632691_4  0.0  10.4      0   \n",
       "4        632691   5  Missing       S+   NaN    632691_5  0.0  21.0      0   \n",
       "...         ...  ..      ...      ...   ...         ...  ...   ...    ...   \n",
       "365363  1131437  11        0  Missing   NaN  1131437_11  NaN   3.8      M   \n",
       "365364  1131437  14        0       S2   NaN  1131437_14  NaN  14.6      0   \n",
       "365365  1131437  15        0  Missing   NaN  1131437_15  NaN  11.9      0   \n",
       "365366  1131437  16        0       BI  0.39  1131437_16  NaN   6.4      0   \n",
       "365367  1131437  18        0  Missing   NaN  1131437_18  NaN   6.8      0   \n",
       "\n",
       "       veget  ...  dbh_change_abs_yr  dbh_change_perc_yr       ba_1  \\\n",
       "0          0  ...           0.000115            0.046154   2.465752   \n",
       "1          0  ...           0.013369            2.625000  10.375289   \n",
       "2          0  ...           0.004456            1.794872   2.465752   \n",
       "3          0  ...           0.000637            0.215054   3.505308   \n",
       "4          0  ...           0.007639            2.000000   5.836100   \n",
       "...      ...  ...                ...                 ...        ...   \n",
       "365363     0  ...          -0.000064           -0.068966   0.340844   \n",
       "365364     0  ...           0.002292            0.986301   2.159762   \n",
       "365365     0  ...           0.000191            0.150000   0.648456   \n",
       "365366     0  ...           0.000700            0.169231   6.849312   \n",
       "365367     0  ...           0.001210            1.187500   0.415012   \n",
       "\n",
       "             ba_2 ba_change_abs_yr  ba_change_perc_yr  \\\n",
       "0        2.477146         0.002279           0.092414   \n",
       "1       13.277533         0.580449           5.594531   \n",
       "2        2.928182         0.092486           3.750822   \n",
       "3        3.581096         0.015158           0.432420   \n",
       "4        7.061681         0.245116           4.200000   \n",
       "...           ...              ...                ...   \n",
       "365363   0.338498        -0.000469          -0.137693   \n",
       "365364   2.378032         0.043654           2.021242   \n",
       "365365   0.658219         0.001953           0.301125   \n",
       "365366   6.965714         0.023280           0.339893   \n",
       "365367   0.465757         0.010149           2.445508   \n",
       "\n",
       "       avg_growth_height_meter_per_yr  avg_growth_ba_per_year  \\\n",
       "0                                 NaN                     NaN   \n",
       "1                            0.830769                 0.39905   \n",
       "2                                 NaN                     NaN   \n",
       "3                                 NaN                     NaN   \n",
       "4                                 NaN                     NaN   \n",
       "...                               ...                     ...   \n",
       "365363                            NaN                     NaN   \n",
       "365364                            NaN                     NaN   \n",
       "365365                            NaN                     NaN   \n",
       "365366                            NaN                     NaN   \n",
       "365367                            NaN                     NaN   \n",
       "\n",
       "       tree_height_class  tree_age_class  \n",
       "0                  15-20         Missing  \n",
       "1                  20-25           15-30  \n",
       "2                  15-20         Missing  \n",
       "3                  10-15         Missing  \n",
       "4                  20-25         Missing  \n",
       "...                  ...             ...  \n",
       "365363             10-15         Missing  \n",
       "365364             15-20         Missing  \n",
       "365365             10-15         Missing  \n",
       "365366             15-20         Missing  \n",
       "365367             10-15         Missing  \n",
       "\n",
       "[365368 rows x 73 columns]"
      ]
     },
     "execution_count": 65,
     "metadata": {},
     "output_type": "execute_result"
    }
   ],
   "source": [
    "nfi_tree_addinfo"
   ]
  },
  {
   "cell_type": "markdown",
   "metadata": {},
   "source": [
    "#### Site-level\n"
   ]
  },
  {
   "cell_type": "code",
   "execution_count": 187,
   "metadata": {},
   "outputs": [],
   "source": [
    "# TODO: Add information like human activity and stuff here\n",
    "nfi_site_addinfo = nfi_site_filtered.copy()"
   ]
  },
  {
   "cell_type": "code",
   "execution_count": 188,
   "metadata": {},
   "outputs": [
    {
     "name": "stdout",
     "output_type": "stream",
     "text": [
      "Splitting df into 10 random groups\n"
     ]
    },
    {
     "name": "stderr",
     "output_type": "stream",
     "text": [
      "100%|██████████| 10/10 [01:50<00:00, 11.03s/it]\n"
     ]
    }
   ],
   "source": [
    "# ADD INFORMATION ON GRECO AND SER --------------------------------------------\n",
    "# ! I am matching all regional information using the noisy coordinates to keep this consistent. But this should be corrected later on using the true coordinates.\n",
    "\n",
    "# Multiprocess to add regional information\n",
    "df_list = split_df_into_list_of_group_or_ns(nfi_site_addinfo, 10)\n",
    "nfi_site_addinfo = run_mp(attach_regional_information, df_list, pd.concat, num_cores=10)"
   ]
  },
  {
   "cell_type": "markdown",
   "metadata": {},
   "source": [
    "❌ TODO: Add some data exploration here\n"
   ]
  },
  {
   "cell_type": "code",
   "execution_count": 67,
   "metadata": {},
   "outputs": [
    {
     "data": {
      "text/plain": [
       "<Axes: >"
      ]
     },
     "execution_count": 67,
     "metadata": {},
     "output_type": "execute_result"
    },
    {
     "data": {
      "image/png": "[encoded data removed]",
      "text/plain": [
       "<Figure size 640x480 with 1 Axes>"
      ]
     },
     "metadata": {},
     "output_type": "display_data"
    }
   ],
   "source": [
    "# What is the distribution of number of trees per site?\n",
    "nfi_tree_addinfo.groupby(\"idp\").size().hist(bins=50)"
   ]
  },
  {
   "cell_type": "code",
   "execution_count": 75,
   "metadata": {},
   "outputs": [
    {
     "data": {
      "text/plain": [
       "<Axes: xlabel='n_trees', ylabel='mean_dbh'>"
      ]
     },
     "execution_count": 75,
     "metadata": {},
     "output_type": "execute_result"
    },
    {
     "data": {
      "image/png": "[encoded data removed]",
      "text/plain": [
       "<Figure size 640x480 with 1 Axes>"
      ]
     },
     "metadata": {},
     "output_type": "display_data"
    }
   ],
   "source": [
    "# How does the number of trees per site change with the mean dbh per site?\n",
    "df_tmp = nfi_tree_addinfo.groupby(\"idp\").agg({\"dbh_1\": \"mean\", \"idp\": \"size\"})\n",
    "df_tmp.columns = [\"mean_dbh\", \"n_trees\"]\n",
    "# Make smooth scatterplot\n",
    "sns.kdeplot(\n",
    "    data=df_tmp, y=\"mean_dbh\", x=\"n_trees\", cmap=\"mako\", thresh=0, levels=100, fill=True\n",
    ")"
   ]
  },
  {
   "cell_type": "code",
   "execution_count": 228,
   "metadata": {},
   "outputs": [
    {
     "data": {
      "image/png": "[encoded data removed]",
      "text/plain": [
       "<Figure size 1200x400 with 4 Axes>"
      ]
     },
     "metadata": {},
     "output_type": "display_data"
    }
   ],
   "source": [
    "import matplotlib.pyplot as plt\n",
    "import geopandas as gpd\n",
    "\n",
    "# Attach site data to have information on hex\n",
    "df_tmp = pd.merge(nfi_tree_addinfo, nfi_site_addinfo, how=\"left\")\n",
    "\n",
    "# Group by hex and get number of trees per group\n",
    "df_tmp_trees = df_tmp.groupby(\"hex\").size().reset_index()\n",
    "df_tmp_trees.columns = [\"hex\", \"n_trees\"]\n",
    "\n",
    "# Attach hex shapefile\n",
    "df_tmp_trees = pd.merge(df_tmp_trees, shp_hex, how=\"right\")\n",
    "\n",
    "# Group by hex and get number of sites per group\n",
    "df_tmp_sites = nfi_site_addinfo.groupby(\"hex\").size().reset_index()\n",
    "df_tmp_sites.columns = [\"hex\", \"n_sites\"]\n",
    "\n",
    "# Attach hex shapefile\n",
    "df_tmp_sites = pd.merge(df_tmp_sites, shp_hex, how=\"right\")\n",
    "\n",
    "# Create a figure with two subplots\n",
    "fig, axs = plt.subplots(1, 2, figsize=(12, 4))\n",
    "\n",
    "# Plot geometry filled with n_trees on the first subplot\n",
    "gpd.GeoDataFrame(df_tmp_trees).plot(column=\"n_trees\", legend=True, ax=axs[0])\n",
    "axs[0].set_title(\"Number of Trees per Hex\")\n",
    "\n",
    "# Plot geometry filled with n_sites on the second subplot\n",
    "gpd.GeoDataFrame(df_tmp_sites).plot(column=\"n_sites\", legend=True, ax=axs[1])\n",
    "axs[1].set_title(\"Number of Sites per Hex\")\n",
    "\n",
    "# Adjust spacing between subplots\n",
    "fig.tight_layout()\n",
    "\n",
    "# Show the plot\n",
    "plt.show()"
   ]
  },
  {
   "cell_type": "markdown",
   "metadata": {},
   "source": [
    "## Calculate Mortality and Growth\n",
    "\n",
    "**For Temporal Analysis:**\n",
    "\n",
    "- To calculate the mean change of a region, I have to calculate at the SITE-LEVEL for:\n",
    "\n",
    "  - All trees\n",
    "  - For 10 most common species\n",
    "  - For all height classes\n",
    "  - For all age classes\n",
    "  - Then aggregate to desired spatial and temporal level\n",
    "\n",
    "- To calculate the total change of a region, I have to calculate at the REGION-YEAR-LEVEL for:\n",
    "\n",
    "  - All trees\n",
    "  - For 10 most common species\n",
    "  - For all height classes\n",
    "  - For all age classes\n",
    "\n",
    "**For RF Analysis:**\n"
   ]
  },
  {
   "cell_type": "code",
   "execution_count": 259,
   "metadata": {},
   "outputs": [],
   "source": [
    "# Merge tree and site data\n",
    "df_merged = pd.merge(nfi_tree_addinfo, nfi_site_addinfo, how=\"left\")"
   ]
  },
  {
   "cell_type": "markdown",
   "metadata": {},
   "source": [
    "### Directly at area-level\n"
   ]
  },
  {
   "cell_type": "code",
   "execution_count": 392,
   "metadata": {},
   "outputs": [
    {
     "name": "stdout",
     "output_type": "stream",
     "text": [
      "\n",
      " - working on: species_all__tree_heights_all__area_idp\n"
     ]
    },
    {
     "name": "stderr",
     "output_type": "stream",
     "text": [
      "100%|██████████| 40221/40221 [1:31:39<00:00,  7.31it/s]  \n"
     ]
    },
    {
     "name": "stdout",
     "output_type": "stream",
     "text": [
      "\n",
      " - working on: species_all__tree_heights_all__area_reg\n"
     ]
    },
    {
     "name": "stderr",
     "output_type": "stream",
     "text": [
      "100%|██████████| 91/91 [00:17<00:00,  5.13it/s]\n"
     ]
    },
    {
     "name": "stdout",
     "output_type": "stream",
     "text": [
      "\n",
      " - working on: species_all__tree_heights_all__area_dep\n"
     ]
    },
    {
     "name": "stderr",
     "output_type": "stream",
     "text": [
      "100%|██████████| 649/649 [01:37<00:00,  6.63it/s]\n"
     ]
    },
    {
     "name": "stdout",
     "output_type": "stream",
     "text": [
      "\n",
      " - working on: species_all__tree_heights_all__area_gre\n"
     ]
    },
    {
     "name": "stderr",
     "output_type": "stream",
     "text": [
      "100%|██████████| 77/77 [00:14<00:00,  5.22it/s]\n"
     ]
    },
    {
     "name": "stdout",
     "output_type": "stream",
     "text": [
      "\n",
      " - working on: species_all__tree_heights_all__area_ser\n"
     ]
    },
    {
     "name": "stderr",
     "output_type": "stream",
     "text": [
      "100%|██████████| 602/602 [01:28<00:00,  6.79it/s]\n"
     ]
    },
    {
     "name": "stdout",
     "output_type": "stream",
     "text": [
      "\n",
      " - working on: species_all__tree_heights_all__area_hex\n"
     ]
    },
    {
     "name": "stderr",
     "output_type": "stream",
     "text": [
      "100%|██████████| 1582/1582 [03:47<00:00,  6.95it/s]\n"
     ]
    },
    {
     "name": "stdout",
     "output_type": "stream",
     "text": [
      "\n",
      " - working on: species_all__tree_heights_10-15__area_idp\n"
     ]
    },
    {
     "name": "stderr",
     "output_type": "stream",
     "text": [
      "100%|██████████| 26627/26627 [1:02:45<00:00,  7.07it/s]\n"
     ]
    },
    {
     "name": "stdout",
     "output_type": "stream",
     "text": [
      "\n",
      " - working on: species_all__tree_heights_10-15__area_reg\n"
     ]
    },
    {
     "name": "stderr",
     "output_type": "stream",
     "text": [
      "100%|██████████| 91/91 [00:15<00:00,  5.97it/s]\n"
     ]
    },
    {
     "name": "stdout",
     "output_type": "stream",
     "text": [
      "\n",
      " - working on: species_all__tree_heights_10-15__area_dep\n"
     ]
    },
    {
     "name": "stderr",
     "output_type": "stream",
     "text": [
      "100%|██████████| 645/645 [01:34<00:00,  6.81it/s]\n"
     ]
    },
    {
     "name": "stdout",
     "output_type": "stream",
     "text": [
      "\n",
      " - working on: species_all__tree_heights_10-15__area_gre\n"
     ]
    },
    {
     "name": "stderr",
     "output_type": "stream",
     "text": [
      "100%|██████████| 77/77 [00:12<00:00,  5.95it/s]\n"
     ]
    },
    {
     "name": "stdout",
     "output_type": "stream",
     "text": [
      "\n",
      " - working on: species_all__tree_heights_10-15__area_ser\n"
     ]
    },
    {
     "name": "stderr",
     "output_type": "stream",
     "text": [
      "100%|██████████| 602/602 [01:25<00:00,  7.04it/s]\n"
     ]
    },
    {
     "name": "stdout",
     "output_type": "stream",
     "text": [
      "\n",
      " - working on: species_all__tree_heights_10-15__area_hex\n"
     ]
    },
    {
     "name": "stderr",
     "output_type": "stream",
     "text": [
      "100%|██████████| 1545/1545 [03:47<00:00,  6.79it/s]\n"
     ]
    },
    {
     "name": "stdout",
     "output_type": "stream",
     "text": [
      "\n",
      " - working on: species_all__tree_heights_0-10__area_idp\n"
     ]
    },
    {
     "name": "stderr",
     "output_type": "stream",
     "text": [
      "100%|██████████| 25799/25799 [58:33<00:00,  7.34it/s] \n"
     ]
    },
    {
     "name": "stdout",
     "output_type": "stream",
     "text": [
      "\n",
      " - working on: species_all__tree_heights_0-10__area_reg\n"
     ]
    },
    {
     "name": "stderr",
     "output_type": "stream",
     "text": [
      "100%|██████████| 91/91 [00:15<00:00,  6.01it/s]\n"
     ]
    },
    {
     "name": "stdout",
     "output_type": "stream",
     "text": [
      "\n",
      " - working on: species_all__tree_heights_0-10__area_dep\n"
     ]
    },
    {
     "name": "stderr",
     "output_type": "stream",
     "text": [
      "100%|██████████| 644/644 [01:33<00:00,  6.90it/s]\n"
     ]
    },
    {
     "name": "stdout",
     "output_type": "stream",
     "text": [
      "\n",
      " - working on: species_all__tree_heights_0-10__area_gre\n"
     ]
    },
    {
     "name": "stderr",
     "output_type": "stream",
     "text": [
      "100%|██████████| 77/77 [00:13<00:00,  5.52it/s]\n"
     ]
    },
    {
     "name": "stdout",
     "output_type": "stream",
     "text": [
      "\n",
      " - working on: species_all__tree_heights_0-10__area_ser\n"
     ]
    },
    {
     "name": "stderr",
     "output_type": "stream",
     "text": [
      "100%|██████████| 602/602 [01:27<00:00,  6.90it/s]\n"
     ]
    },
    {
     "name": "stdout",
     "output_type": "stream",
     "text": [
      "\n",
      " - working on: species_all__tree_heights_0-10__area_hex\n"
     ]
    },
    {
     "name": "stderr",
     "output_type": "stream",
     "text": [
      "100%|██████████| 1555/1555 [03:37<00:00,  7.14it/s]\n"
     ]
    },
    {
     "name": "stdout",
     "output_type": "stream",
     "text": [
      "\n",
      " - working on: species_all__tree_heights_15-20__area_idp\n"
     ]
    },
    {
     "name": "stderr",
     "output_type": "stream",
     "text": [
      "100%|██████████| 23864/23864 [54:50<00:00,  7.25it/s]\n"
     ]
    },
    {
     "name": "stdout",
     "output_type": "stream",
     "text": [
      "\n",
      " - working on: species_all__tree_heights_15-20__area_reg\n"
     ]
    },
    {
     "name": "stderr",
     "output_type": "stream",
     "text": [
      "100%|██████████| 91/91 [00:15<00:00,  6.01it/s]\n"
     ]
    },
    {
     "name": "stdout",
     "output_type": "stream",
     "text": [
      "\n",
      " - working on: species_all__tree_heights_15-20__area_dep\n"
     ]
    },
    {
     "name": "stderr",
     "output_type": "stream",
     "text": [
      "100%|██████████| 647/647 [01:30<00:00,  7.18it/s]\n"
     ]
    },
    {
     "name": "stdout",
     "output_type": "stream",
     "text": [
      "\n",
      " - working on: species_all__tree_heights_15-20__area_gre\n"
     ]
    },
    {
     "name": "stderr",
     "output_type": "stream",
     "text": [
      "100%|██████████| 77/77 [00:13<00:00,  5.73it/s]\n"
     ]
    },
    {
     "name": "stdout",
     "output_type": "stream",
     "text": [
      "\n",
      " - working on: species_all__tree_heights_15-20__area_ser\n"
     ]
    },
    {
     "name": "stderr",
     "output_type": "stream",
     "text": [
      "100%|██████████| 600/600 [01:25<00:00,  7.00it/s]\n"
     ]
    },
    {
     "name": "stdout",
     "output_type": "stream",
     "text": [
      "\n",
      " - working on: species_all__tree_heights_15-20__area_hex\n"
     ]
    },
    {
     "name": "stderr",
     "output_type": "stream",
     "text": [
      "100%|██████████| 1519/1519 [03:27<00:00,  7.30it/s]\n"
     ]
    },
    {
     "name": "stdout",
     "output_type": "stream",
     "text": [
      "\n",
      " - working on: species_all__tree_heights_20-25__area_idp\n"
     ]
    },
    {
     "name": "stderr",
     "output_type": "stream",
     "text": [
      "100%|██████████| 19992/19992 [45:46<00:00,  7.28it/s]  \n"
     ]
    },
    {
     "name": "stdout",
     "output_type": "stream",
     "text": [
      "\n",
      " - working on: species_all__tree_heights_20-25__area_reg\n"
     ]
    },
    {
     "name": "stderr",
     "output_type": "stream",
     "text": [
      "100%|██████████| 91/91 [00:14<00:00,  6.21it/s]\n"
     ]
    },
    {
     "name": "stdout",
     "output_type": "stream",
     "text": [
      "\n",
      " - working on: species_all__tree_heights_20-25__area_dep\n"
     ]
    },
    {
     "name": "stderr",
     "output_type": "stream",
     "text": [
      "100%|██████████| 642/642 [01:29<00:00,  7.13it/s]\n"
     ]
    },
    {
     "name": "stdout",
     "output_type": "stream",
     "text": [
      "\n",
      " - working on: species_all__tree_heights_20-25__area_gre\n"
     ]
    },
    {
     "name": "stderr",
     "output_type": "stream",
     "text": [
      "100%|██████████| 77/77 [00:13<00:00,  5.72it/s]\n"
     ]
    },
    {
     "name": "stdout",
     "output_type": "stream",
     "text": [
      "\n",
      " - working on: species_all__tree_heights_20-25__area_ser\n"
     ]
    },
    {
     "name": "stderr",
     "output_type": "stream",
     "text": [
      "100%|██████████| 583/583 [01:21<00:00,  7.15it/s]\n"
     ]
    },
    {
     "name": "stdout",
     "output_type": "stream",
     "text": [
      "\n",
      " - working on: species_all__tree_heights_20-25__area_hex\n"
     ]
    },
    {
     "name": "stderr",
     "output_type": "stream",
     "text": [
      "100%|██████████| 1453/1453 [03:20<00:00,  7.25it/s]\n"
     ]
    },
    {
     "name": "stdout",
     "output_type": "stream",
     "text": [
      "\n",
      " - working on: species_all__tree_heights_25+__area_idp\n"
     ]
    },
    {
     "name": "stderr",
     "output_type": "stream",
     "text": [
      "100%|██████████| 13533/13533 [30:31<00:00,  7.39it/s]\n"
     ]
    },
    {
     "name": "stdout",
     "output_type": "stream",
     "text": [
      "\n",
      " - working on: species_all__tree_heights_25+__area_reg\n"
     ]
    },
    {
     "name": "stderr",
     "output_type": "stream",
     "text": [
      "100%|██████████| 91/91 [00:15<00:00,  6.06it/s]\n"
     ]
    },
    {
     "name": "stdout",
     "output_type": "stream",
     "text": [
      "\n",
      " - working on: species_all__tree_heights_25+__area_dep\n"
     ]
    },
    {
     "name": "stderr",
     "output_type": "stream",
     "text": [
      "100%|██████████| 627/627 [01:27<00:00,  7.18it/s]\n"
     ]
    },
    {
     "name": "stdout",
     "output_type": "stream",
     "text": [
      "\n",
      " - working on: species_all__tree_heights_25+__area_gre\n"
     ]
    },
    {
     "name": "stderr",
     "output_type": "stream",
     "text": [
      "100%|██████████| 77/77 [00:13<00:00,  5.90it/s]\n"
     ]
    },
    {
     "name": "stdout",
     "output_type": "stream",
     "text": [
      "\n",
      " - working on: species_all__tree_heights_25+__area_ser\n"
     ]
    },
    {
     "name": "stderr",
     "output_type": "stream",
     "text": [
      "100%|██████████| 553/553 [01:16<00:00,  7.21it/s]\n"
     ]
    },
    {
     "name": "stdout",
     "output_type": "stream",
     "text": [
      "\n",
      " - working on: species_all__tree_heights_25+__area_hex\n"
     ]
    },
    {
     "name": "stderr",
     "output_type": "stream",
     "text": [
      "100%|██████████| 1352/1352 [03:04<00:00,  7.33it/s]\n"
     ]
    },
    {
     "name": "stdout",
     "output_type": "stream",
     "text": [
      "\n",
      " - working on: species_quercus__tree_heights_all__area_idp\n"
     ]
    },
    {
     "name": "stderr",
     "output_type": "stream",
     "text": [
      "100%|██████████| 22898/22898 [49:27<00:00,  7.72it/s]  \n"
     ]
    },
    {
     "name": "stdout",
     "output_type": "stream",
     "text": [
      "\n",
      " - working on: species_quercus__tree_heights_all__area_reg\n"
     ]
    },
    {
     "name": "stderr",
     "output_type": "stream",
     "text": [
      "100%|██████████| 91/91 [00:14<00:00,  6.32it/s]\n"
     ]
    },
    {
     "name": "stdout",
     "output_type": "stream",
     "text": [
      "\n",
      " - working on: species_quercus__tree_heights_all__area_dep\n"
     ]
    },
    {
     "name": "stderr",
     "output_type": "stream",
     "text": [
      "100%|██████████| 645/645 [01:24<00:00,  7.60it/s]\n"
     ]
    },
    {
     "name": "stdout",
     "output_type": "stream",
     "text": [
      "\n",
      " - working on: species_quercus__tree_heights_all__area_gre\n"
     ]
    },
    {
     "name": "stderr",
     "output_type": "stream",
     "text": [
      "100%|██████████| 77/77 [00:12<00:00,  6.03it/s]\n"
     ]
    },
    {
     "name": "stdout",
     "output_type": "stream",
     "text": [
      "\n",
      " - working on: species_quercus__tree_heights_all__area_ser\n"
     ]
    },
    {
     "name": "stderr",
     "output_type": "stream",
     "text": [
      "100%|██████████| 597/597 [01:17<00:00,  7.67it/s]\n"
     ]
    },
    {
     "name": "stdout",
     "output_type": "stream",
     "text": [
      "\n",
      " - working on: species_quercus__tree_heights_all__area_hex\n"
     ]
    },
    {
     "name": "stderr",
     "output_type": "stream",
     "text": [
      "100%|██████████| 1504/1504 [03:13<00:00,  7.79it/s]\n"
     ]
    },
    {
     "name": "stdout",
     "output_type": "stream",
     "text": [
      "\n",
      " - working on: species_quercus__tree_heights_10-15__area_idp\n"
     ]
    },
    {
     "name": "stderr",
     "output_type": "stream",
     "text": [
      "100%|██████████| 7745/7745 [16:33<00:00,  7.80it/s]\n"
     ]
    },
    {
     "name": "stdout",
     "output_type": "stream",
     "text": [
      "\n",
      " - working on: species_quercus__tree_heights_10-15__area_reg\n"
     ]
    },
    {
     "name": "stderr",
     "output_type": "stream",
     "text": [
      "100%|██████████| 91/91 [00:14<00:00,  6.39it/s]\n"
     ]
    },
    {
     "name": "stdout",
     "output_type": "stream",
     "text": [
      "\n",
      " - working on: species_quercus__tree_heights_10-15__area_dep\n"
     ]
    },
    {
     "name": "stderr",
     "output_type": "stream",
     "text": [
      "100%|██████████| 624/624 [01:21<00:00,  7.66it/s]\n"
     ]
    },
    {
     "name": "stdout",
     "output_type": "stream",
     "text": [
      "\n",
      " - working on: species_quercus__tree_heights_10-15__area_gre\n"
     ]
    },
    {
     "name": "stderr",
     "output_type": "stream",
     "text": [
      "100%|██████████| 77/77 [00:12<00:00,  6.36it/s]\n"
     ]
    },
    {
     "name": "stdout",
     "output_type": "stream",
     "text": [
      "\n",
      " - working on: species_quercus__tree_heights_10-15__area_ser\n"
     ]
    },
    {
     "name": "stderr",
     "output_type": "stream",
     "text": [
      "100%|██████████| 571/571 [01:15<00:00,  7.60it/s]\n"
     ]
    },
    {
     "name": "stdout",
     "output_type": "stream",
     "text": [
      "\n",
      " - working on: species_quercus__tree_heights_10-15__area_hex\n"
     ]
    },
    {
     "name": "stderr",
     "output_type": "stream",
     "text": [
      "100%|██████████| 1343/1343 [02:53<00:00,  7.75it/s]\n"
     ]
    },
    {
     "name": "stdout",
     "output_type": "stream",
     "text": [
      "\n",
      " - working on: species_quercus__tree_heights_0-10__area_idp\n"
     ]
    },
    {
     "name": "stderr",
     "output_type": "stream",
     "text": [
      "100%|██████████| 7720/7720 [16:25<00:00,  7.84it/s]\n"
     ]
    },
    {
     "name": "stdout",
     "output_type": "stream",
     "text": [
      "\n",
      " - working on: species_quercus__tree_heights_0-10__area_reg\n"
     ]
    },
    {
     "name": "stderr",
     "output_type": "stream",
     "text": [
      "100%|██████████| 91/91 [00:14<00:00,  6.49it/s]\n"
     ]
    },
    {
     "name": "stdout",
     "output_type": "stream",
     "text": [
      "\n",
      " - working on: species_quercus__tree_heights_0-10__area_dep\n"
     ]
    },
    {
     "name": "stderr",
     "output_type": "stream",
     "text": [
      "100%|██████████| 611/611 [01:19<00:00,  7.64it/s]\n"
     ]
    },
    {
     "name": "stdout",
     "output_type": "stream",
     "text": [
      "\n",
      " - working on: species_quercus__tree_heights_0-10__area_gre\n"
     ]
    },
    {
     "name": "stderr",
     "output_type": "stream",
     "text": [
      "100%|██████████| 77/77 [00:12<00:00,  6.27it/s]\n"
     ]
    },
    {
     "name": "stdout",
     "output_type": "stream",
     "text": [
      "\n",
      " - working on: species_quercus__tree_heights_0-10__area_ser\n"
     ]
    },
    {
     "name": "stderr",
     "output_type": "stream",
     "text": [
      "100%|██████████| 569/569 [01:15<00:00,  7.50it/s]\n"
     ]
    },
    {
     "name": "stdout",
     "output_type": "stream",
     "text": [
      "\n",
      " - working on: species_quercus__tree_heights_0-10__area_hex\n"
     ]
    },
    {
     "name": "stderr",
     "output_type": "stream",
     "text": [
      "100%|██████████| 1309/1309 [02:48<00:00,  7.76it/s]\n"
     ]
    },
    {
     "name": "stdout",
     "output_type": "stream",
     "text": [
      "\n",
      " - working on: species_quercus__tree_heights_15-20__area_idp\n"
     ]
    },
    {
     "name": "stderr",
     "output_type": "stream",
     "text": [
      "100%|██████████| 8722/8722 [18:42<00:00,  7.77it/s]\n"
     ]
    },
    {
     "name": "stdout",
     "output_type": "stream",
     "text": [
      "\n",
      " - working on: species_quercus__tree_heights_15-20__area_reg\n"
     ]
    },
    {
     "name": "stderr",
     "output_type": "stream",
     "text": [
      "100%|██████████| 91/91 [00:14<00:00,  6.38it/s]\n"
     ]
    },
    {
     "name": "stdout",
     "output_type": "stream",
     "text": [
      "\n",
      " - working on: species_quercus__tree_heights_15-20__area_dep\n"
     ]
    },
    {
     "name": "stderr",
     "output_type": "stream",
     "text": [
      "100%|██████████| 611/611 [01:20<00:00,  7.57it/s]\n"
     ]
    },
    {
     "name": "stdout",
     "output_type": "stream",
     "text": [
      "\n",
      " - working on: species_quercus__tree_heights_15-20__area_gre\n"
     ]
    },
    {
     "name": "stderr",
     "output_type": "stream",
     "text": [
      "100%|██████████| 77/77 [00:12<00:00,  6.13it/s]\n"
     ]
    },
    {
     "name": "stdout",
     "output_type": "stream",
     "text": [
      "\n",
      " - working on: species_quercus__tree_heights_15-20__area_ser\n"
     ]
    },
    {
     "name": "stderr",
     "output_type": "stream",
     "text": [
      "100%|██████████| 563/563 [01:14<00:00,  7.51it/s]\n"
     ]
    },
    {
     "name": "stdout",
     "output_type": "stream",
     "text": [
      "\n",
      " - working on: species_quercus__tree_heights_15-20__area_hex\n"
     ]
    },
    {
     "name": "stderr",
     "output_type": "stream",
     "text": [
      "100%|██████████| 1314/1314 [02:50<00:00,  7.70it/s]\n"
     ]
    },
    {
     "name": "stdout",
     "output_type": "stream",
     "text": [
      "\n",
      " - working on: species_quercus__tree_heights_20-25__area_idp\n"
     ]
    },
    {
     "name": "stderr",
     "output_type": "stream",
     "text": [
      "100%|██████████| 8775/8775 [18:58<00:00,  7.71it/s]  \n"
     ]
    },
    {
     "name": "stdout",
     "output_type": "stream",
     "text": [
      "\n",
      " - working on: species_quercus__tree_heights_20-25__area_reg\n"
     ]
    },
    {
     "name": "stderr",
     "output_type": "stream",
     "text": [
      "100%|██████████| 86/86 [00:13<00:00,  6.39it/s]\n"
     ]
    },
    {
     "name": "stdout",
     "output_type": "stream",
     "text": [
      "\n",
      " - working on: species_quercus__tree_heights_20-25__area_dep\n"
     ]
    },
    {
     "name": "stderr",
     "output_type": "stream",
     "text": [
      "100%|██████████| 582/582 [01:17<00:00,  7.50it/s]\n"
     ]
    },
    {
     "name": "stdout",
     "output_type": "stream",
     "text": [
      "\n",
      " - working on: species_quercus__tree_heights_20-25__area_gre\n"
     ]
    },
    {
     "name": "stderr",
     "output_type": "stream",
     "text": [
      "100%|██████████| 73/73 [00:12<00:00,  6.00it/s]\n"
     ]
    },
    {
     "name": "stdout",
     "output_type": "stream",
     "text": [
      "\n",
      " - working on: species_quercus__tree_heights_20-25__area_ser\n"
     ]
    },
    {
     "name": "stderr",
     "output_type": "stream",
     "text": [
      "100%|██████████| 493/493 [01:05<00:00,  7.47it/s]\n"
     ]
    },
    {
     "name": "stdout",
     "output_type": "stream",
     "text": [
      "\n",
      " - working on: species_quercus__tree_heights_20-25__area_hex\n"
     ]
    },
    {
     "name": "stderr",
     "output_type": "stream",
     "text": [
      "100%|██████████| 1183/1183 [02:34<00:00,  7.65it/s]\n"
     ]
    },
    {
     "name": "stdout",
     "output_type": "stream",
     "text": [
      "\n",
      " - working on: species_quercus__tree_heights_25+__area_idp\n"
     ]
    },
    {
     "name": "stderr",
     "output_type": "stream",
     "text": [
      "100%|██████████| 5737/5737 [12:21<00:00,  7.74it/s]\n"
     ]
    },
    {
     "name": "stdout",
     "output_type": "stream",
     "text": [
      "\n",
      " - working on: species_quercus__tree_heights_25+__area_reg\n"
     ]
    },
    {
     "name": "stderr",
     "output_type": "stream",
     "text": [
      "100%|██████████| 78/78 [00:12<00:00,  6.14it/s]\n"
     ]
    },
    {
     "name": "stdout",
     "output_type": "stream",
     "text": [
      "\n",
      " - working on: species_quercus__tree_heights_25+__area_dep\n"
     ]
    },
    {
     "name": "stderr",
     "output_type": "stream",
     "text": [
      "100%|██████████| 527/527 [01:09<00:00,  7.55it/s]\n"
     ]
    },
    {
     "name": "stdout",
     "output_type": "stream",
     "text": [
      "\n",
      " - working on: species_quercus__tree_heights_25+__area_gre\n"
     ]
    },
    {
     "name": "stderr",
     "output_type": "stream",
     "text": [
      "100%|██████████| 64/64 [00:10<00:00,  6.10it/s]\n"
     ]
    },
    {
     "name": "stdout",
     "output_type": "stream",
     "text": [
      "\n",
      " - working on: species_quercus__tree_heights_25+__area_ser\n"
     ]
    },
    {
     "name": "stderr",
     "output_type": "stream",
     "text": [
      "100%|██████████| 426/426 [00:56<00:00,  7.51it/s]\n"
     ]
    },
    {
     "name": "stdout",
     "output_type": "stream",
     "text": [
      "\n",
      " - working on: species_quercus__tree_heights_25+__area_hex\n"
     ]
    },
    {
     "name": "stderr",
     "output_type": "stream",
     "text": [
      "100%|██████████| 1014/1014 [02:11<00:00,  7.68it/s]\n"
     ]
    },
    {
     "name": "stdout",
     "output_type": "stream",
     "text": [
      "\n",
      " - working on: species_pinus__tree_heights_all__area_idp\n"
     ]
    },
    {
     "name": "stderr",
     "output_type": "stream",
     "text": [
      "100%|██████████| 8644/8644 [18:40<00:00,  7.72it/s]\n"
     ]
    },
    {
     "name": "stdout",
     "output_type": "stream",
     "text": [
      "\n",
      " - working on: species_pinus__tree_heights_all__area_reg\n"
     ]
    },
    {
     "name": "stderr",
     "output_type": "stream",
     "text": [
      "100%|██████████| 91/91 [00:14<00:00,  6.38it/s]\n"
     ]
    },
    {
     "name": "stdout",
     "output_type": "stream",
     "text": [
      "\n",
      " - working on: species_pinus__tree_heights_all__area_dep\n"
     ]
    },
    {
     "name": "stderr",
     "output_type": "stream",
     "text": [
      "100%|██████████| 598/598 [01:19<00:00,  7.54it/s]\n"
     ]
    },
    {
     "name": "stdout",
     "output_type": "stream",
     "text": [
      "\n",
      " - working on: species_pinus__tree_heights_all__area_gre\n"
     ]
    },
    {
     "name": "stderr",
     "output_type": "stream",
     "text": [
      "100%|██████████| 77/77 [00:12<00:00,  6.17it/s]\n"
     ]
    },
    {
     "name": "stdout",
     "output_type": "stream",
     "text": [
      "\n",
      " - working on: species_pinus__tree_heights_all__area_ser\n"
     ]
    },
    {
     "name": "stderr",
     "output_type": "stream",
     "text": [
      "100%|██████████| 541/541 [01:12<00:00,  7.49it/s]\n"
     ]
    },
    {
     "name": "stdout",
     "output_type": "stream",
     "text": [
      "\n",
      " - working on: species_pinus__tree_heights_all__area_hex\n"
     ]
    },
    {
     "name": "stderr",
     "output_type": "stream",
     "text": [
      "100%|██████████| 1233/1233 [02:41<00:00,  7.65it/s]\n"
     ]
    },
    {
     "name": "stdout",
     "output_type": "stream",
     "text": [
      "\n",
      " - working on: species_pinus__tree_heights_10-15__area_idp\n"
     ]
    },
    {
     "name": "stderr",
     "output_type": "stream",
     "text": [
      "100%|██████████| 3820/3820 [08:01<00:00,  7.93it/s]\n"
     ]
    },
    {
     "name": "stdout",
     "output_type": "stream",
     "text": [
      "\n",
      " - working on: species_pinus__tree_heights_10-15__area_reg\n"
     ]
    },
    {
     "name": "stderr",
     "output_type": "stream",
     "text": [
      "100%|██████████| 90/90 [00:13<00:00,  6.48it/s]\n"
     ]
    },
    {
     "name": "stdout",
     "output_type": "stream",
     "text": [
      "\n",
      " - working on: species_pinus__tree_heights_10-15__area_dep\n"
     ]
    },
    {
     "name": "stderr",
     "output_type": "stream",
     "text": [
      "100%|██████████| 502/502 [01:06<00:00,  7.57it/s]\n"
     ]
    },
    {
     "name": "stdout",
     "output_type": "stream",
     "text": [
      "\n",
      " - working on: species_pinus__tree_heights_10-15__area_gre\n"
     ]
    },
    {
     "name": "stderr",
     "output_type": "stream",
     "text": [
      "100%|██████████| 77/77 [00:12<00:00,  6.32it/s]\n"
     ]
    },
    {
     "name": "stdout",
     "output_type": "stream",
     "text": [
      "\n",
      " - working on: species_pinus__tree_heights_10-15__area_ser\n"
     ]
    },
    {
     "name": "stderr",
     "output_type": "stream",
     "text": [
      "100%|██████████| 469/469 [01:01<00:00,  7.60it/s]\n"
     ]
    },
    {
     "name": "stdout",
     "output_type": "stream",
     "text": [
      "\n",
      " - working on: species_pinus__tree_heights_10-15__area_hex\n"
     ]
    },
    {
     "name": "stderr",
     "output_type": "stream",
     "text": [
      "100%|██████████| 935/935 [02:00<00:00,  7.77it/s]\n"
     ]
    },
    {
     "name": "stdout",
     "output_type": "stream",
     "text": [
      "\n",
      " - working on: species_pinus__tree_heights_0-10__area_idp\n"
     ]
    },
    {
     "name": "stderr",
     "output_type": "stream",
     "text": [
      "100%|██████████| 3620/3620 [07:45<00:00,  7.78it/s]\n"
     ]
    },
    {
     "name": "stdout",
     "output_type": "stream",
     "text": [
      "\n",
      " - working on: species_pinus__tree_heights_0-10__area_reg\n"
     ]
    },
    {
     "name": "stderr",
     "output_type": "stream",
     "text": [
      "100%|██████████| 90/90 [00:13<00:00,  6.48it/s]\n"
     ]
    },
    {
     "name": "stdout",
     "output_type": "stream",
     "text": [
      "\n",
      " - working on: species_pinus__tree_heights_0-10__area_dep\n"
     ]
    },
    {
     "name": "stderr",
     "output_type": "stream",
     "text": [
      "100%|██████████| 473/473 [01:02<00:00,  7.61it/s]\n"
     ]
    },
    {
     "name": "stdout",
     "output_type": "stream",
     "text": [
      "\n",
      " - working on: species_pinus__tree_heights_0-10__area_gre\n"
     ]
    },
    {
     "name": "stderr",
     "output_type": "stream",
     "text": [
      "100%|██████████| 76/76 [00:12<00:00,  6.31it/s]\n"
     ]
    },
    {
     "name": "stdout",
     "output_type": "stream",
     "text": [
      "\n",
      " - working on: species_pinus__tree_heights_0-10__area_ser\n"
     ]
    },
    {
     "name": "stderr",
     "output_type": "stream",
     "text": [
      "100%|██████████| 443/443 [00:58<00:00,  7.56it/s]\n"
     ]
    },
    {
     "name": "stdout",
     "output_type": "stream",
     "text": [
      "\n",
      " - working on: species_pinus__tree_heights_0-10__area_hex\n"
     ]
    },
    {
     "name": "stderr",
     "output_type": "stream",
     "text": [
      "100%|██████████| 828/828 [01:56<00:00,  7.12it/s]\n"
     ]
    },
    {
     "name": "stdout",
     "output_type": "stream",
     "text": [
      "\n",
      " - working on: species_pinus__tree_heights_15-20__area_idp\n"
     ]
    },
    {
     "name": "stderr",
     "output_type": "stream",
     "text": [
      "100%|██████████| 3512/3512 [07:54<00:00,  7.40it/s]\n"
     ]
    },
    {
     "name": "stdout",
     "output_type": "stream",
     "text": [
      "\n",
      " - working on: species_pinus__tree_heights_15-20__area_reg\n"
     ]
    },
    {
     "name": "stderr",
     "output_type": "stream",
     "text": [
      "100%|██████████| 91/91 [00:14<00:00,  6.15it/s]\n"
     ]
    },
    {
     "name": "stdout",
     "output_type": "stream",
     "text": [
      "\n",
      " - working on: species_pinus__tree_heights_15-20__area_dep\n"
     ]
    },
    {
     "name": "stderr",
     "output_type": "stream",
     "text": [
      "100%|██████████| 543/543 [01:14<00:00,  7.27it/s]\n"
     ]
    },
    {
     "name": "stdout",
     "output_type": "stream",
     "text": [
      "\n",
      " - working on: species_pinus__tree_heights_15-20__area_gre\n"
     ]
    },
    {
     "name": "stderr",
     "output_type": "stream",
     "text": [
      "100%|██████████| 77/77 [00:12<00:00,  5.92it/s]\n"
     ]
    },
    {
     "name": "stdout",
     "output_type": "stream",
     "text": [
      "\n",
      " - working on: species_pinus__tree_heights_15-20__area_ser\n"
     ]
    },
    {
     "name": "stderr",
     "output_type": "stream",
     "text": [
      "100%|██████████| 472/472 [01:05<00:00,  7.19it/s]\n"
     ]
    },
    {
     "name": "stdout",
     "output_type": "stream",
     "text": [
      "\n",
      " - working on: species_pinus__tree_heights_15-20__area_hex\n"
     ]
    },
    {
     "name": "stderr",
     "output_type": "stream",
     "text": [
      "100%|██████████| 975/975 [02:18<00:00,  7.03it/s]\n"
     ]
    },
    {
     "name": "stdout",
     "output_type": "stream",
     "text": [
      "\n",
      " - working on: species_pinus__tree_heights_20-25__area_idp\n"
     ]
    },
    {
     "name": "stderr",
     "output_type": "stream",
     "text": [
      "100%|██████████| 2589/2589 [05:47<00:00,  7.45it/s]\n"
     ]
    },
    {
     "name": "stdout",
     "output_type": "stream",
     "text": [
      "\n",
      " - working on: species_pinus__tree_heights_20-25__area_reg\n"
     ]
    },
    {
     "name": "stderr",
     "output_type": "stream",
     "text": [
      "100%|██████████| 91/91 [00:15<00:00,  5.84it/s]\n"
     ]
    },
    {
     "name": "stdout",
     "output_type": "stream",
     "text": [
      "\n",
      " - working on: species_pinus__tree_heights_20-25__area_dep\n"
     ]
    },
    {
     "name": "stderr",
     "output_type": "stream",
     "text": [
      "100%|██████████| 509/509 [01:13<00:00,  6.90it/s]\n"
     ]
    },
    {
     "name": "stdout",
     "output_type": "stream",
     "text": [
      "\n",
      " - working on: species_pinus__tree_heights_20-25__area_gre\n"
     ]
    },
    {
     "name": "stderr",
     "output_type": "stream",
     "text": [
      "100%|██████████| 77/77 [00:12<00:00,  5.94it/s]\n"
     ]
    },
    {
     "name": "stdout",
     "output_type": "stream",
     "text": [
      "\n",
      " - working on: species_pinus__tree_heights_20-25__area_ser\n"
     ]
    },
    {
     "name": "stderr",
     "output_type": "stream",
     "text": [
      "100%|██████████| 429/429 [00:59<00:00,  7.15it/s]\n"
     ]
    },
    {
     "name": "stdout",
     "output_type": "stream",
     "text": [
      "\n",
      " - working on: species_pinus__tree_heights_20-25__area_hex\n"
     ]
    },
    {
     "name": "stderr",
     "output_type": "stream",
     "text": [
      "100%|██████████| 843/843 [01:53<00:00,  7.43it/s]\n"
     ]
    },
    {
     "name": "stdout",
     "output_type": "stream",
     "text": [
      "\n",
      " - working on: species_pinus__tree_heights_25+__area_idp\n"
     ]
    },
    {
     "name": "stderr",
     "output_type": "stream",
     "text": [
      "100%|██████████| 1097/1097 [02:31<00:00,  7.23it/s]\n"
     ]
    },
    {
     "name": "stdout",
     "output_type": "stream",
     "text": [
      "\n",
      " - working on: species_pinus__tree_heights_25+__area_reg\n"
     ]
    },
    {
     "name": "stderr",
     "output_type": "stream",
     "text": [
      "100%|██████████| 85/85 [00:14<00:00,  5.67it/s]\n"
     ]
    },
    {
     "name": "stdout",
     "output_type": "stream",
     "text": [
      "\n",
      " - working on: species_pinus__tree_heights_25+__area_dep\n"
     ]
    },
    {
     "name": "stderr",
     "output_type": "stream",
     "text": [
      "100%|██████████| 348/348 [00:49<00:00,  6.98it/s]\n"
     ]
    },
    {
     "name": "stdout",
     "output_type": "stream",
     "text": [
      "\n",
      " - working on: species_pinus__tree_heights_25+__area_gre\n"
     ]
    },
    {
     "name": "stderr",
     "output_type": "stream",
     "text": [
      "100%|██████████| 65/65 [00:11<00:00,  5.86it/s]\n"
     ]
    },
    {
     "name": "stdout",
     "output_type": "stream",
     "text": [
      "\n",
      " - working on: species_pinus__tree_heights_25+__area_ser\n"
     ]
    },
    {
     "name": "stderr",
     "output_type": "stream",
     "text": [
      "100%|██████████| 293/293 [00:41<00:00,  7.06it/s]\n"
     ]
    },
    {
     "name": "stdout",
     "output_type": "stream",
     "text": [
      "\n",
      " - working on: species_pinus__tree_heights_25+__area_hex\n"
     ]
    },
    {
     "name": "stderr",
     "output_type": "stream",
     "text": [
      "100%|██████████| 525/525 [01:12<00:00,  7.26it/s]\n"
     ]
    },
    {
     "name": "stdout",
     "output_type": "stream",
     "text": [
      "\n",
      " - working on: species_fagus__tree_heights_all__area_idp\n"
     ]
    },
    {
     "name": "stderr",
     "output_type": "stream",
     "text": [
      "100%|██████████| 8852/8852 [20:03<00:00,  7.36it/s]\n"
     ]
    },
    {
     "name": "stdout",
     "output_type": "stream",
     "text": [
      "\n",
      " - working on: species_fagus__tree_heights_all__area_reg\n"
     ]
    },
    {
     "name": "stderr",
     "output_type": "stream",
     "text": [
      "100%|██████████| 91/91 [00:15<00:00,  6.05it/s]\n"
     ]
    },
    {
     "name": "stdout",
     "output_type": "stream",
     "text": [
      "\n",
      " - working on: species_fagus__tree_heights_all__area_dep\n"
     ]
    },
    {
     "name": "stderr",
     "output_type": "stream",
     "text": [
      "100%|██████████| 563/563 [01:18<00:00,  7.16it/s]\n"
     ]
    },
    {
     "name": "stdout",
     "output_type": "stream",
     "text": [
      "\n",
      " - working on: species_fagus__tree_heights_all__area_gre\n"
     ]
    },
    {
     "name": "stderr",
     "output_type": "stream",
     "text": [
      "100%|██████████| 77/77 [00:13<00:00,  5.87it/s]\n"
     ]
    },
    {
     "name": "stdout",
     "output_type": "stream",
     "text": [
      "\n",
      " - working on: species_fagus__tree_heights_all__area_ser\n"
     ]
    },
    {
     "name": "stderr",
     "output_type": "stream",
     "text": [
      "100%|██████████| 481/481 [01:08<00:00,  6.98it/s]\n"
     ]
    },
    {
     "name": "stdout",
     "output_type": "stream",
     "text": [
      "\n",
      " - working on: species_fagus__tree_heights_all__area_hex\n"
     ]
    },
    {
     "name": "stderr",
     "output_type": "stream",
     "text": [
      "100%|██████████| 1114/1114 [02:34<00:00,  7.23it/s]\n"
     ]
    },
    {
     "name": "stdout",
     "output_type": "stream",
     "text": [
      "\n",
      " - working on: species_fagus__tree_heights_10-15__area_idp\n"
     ]
    },
    {
     "name": "stderr",
     "output_type": "stream",
     "text": [
      "100%|██████████| 3688/3688 [08:14<00:00,  7.46it/s]\n"
     ]
    },
    {
     "name": "stdout",
     "output_type": "stream",
     "text": [
      "\n",
      " - working on: species_fagus__tree_heights_10-15__area_reg\n"
     ]
    },
    {
     "name": "stderr",
     "output_type": "stream",
     "text": [
      "100%|██████████| 91/91 [00:15<00:00,  5.85it/s]\n"
     ]
    },
    {
     "name": "stdout",
     "output_type": "stream",
     "text": [
      "\n",
      " - working on: species_fagus__tree_heights_10-15__area_dep\n"
     ]
    },
    {
     "name": "stderr",
     "output_type": "stream",
     "text": [
      "100%|██████████| 511/511 [01:12<00:00,  7.09it/s]\n"
     ]
    },
    {
     "name": "stdout",
     "output_type": "stream",
     "text": [
      "\n",
      " - working on: species_fagus__tree_heights_10-15__area_gre\n"
     ]
    },
    {
     "name": "stderr",
     "output_type": "stream",
     "text": [
      "100%|██████████| 76/76 [00:12<00:00,  6.00it/s]\n"
     ]
    },
    {
     "name": "stdout",
     "output_type": "stream",
     "text": [
      "\n",
      " - working on: species_fagus__tree_heights_10-15__area_ser\n"
     ]
    },
    {
     "name": "stderr",
     "output_type": "stream",
     "text": [
      "100%|██████████| 417/417 [00:56<00:00,  7.35it/s]\n"
     ]
    },
    {
     "name": "stdout",
     "output_type": "stream",
     "text": [
      "\n",
      " - working on: species_fagus__tree_heights_10-15__area_hex\n"
     ]
    },
    {
     "name": "stderr",
     "output_type": "stream",
     "text": [
      "100%|██████████| 903/903 [02:07<00:00,  7.10it/s]\n"
     ]
    },
    {
     "name": "stdout",
     "output_type": "stream",
     "text": [
      "\n",
      " - working on: species_fagus__tree_heights_0-10__area_idp\n"
     ]
    },
    {
     "name": "stderr",
     "output_type": "stream",
     "text": [
      "100%|██████████| 2730/2730 [06:24<00:00,  7.09it/s]\n"
     ]
    },
    {
     "name": "stdout",
     "output_type": "stream",
     "text": [
      "\n",
      " - working on: species_fagus__tree_heights_0-10__area_reg\n"
     ]
    },
    {
     "name": "stderr",
     "output_type": "stream",
     "text": [
      "100%|██████████| 89/89 [00:15<00:00,  5.83it/s]\n"
     ]
    },
    {
     "name": "stdout",
     "output_type": "stream",
     "text": [
      "\n",
      " - working on: species_fagus__tree_heights_0-10__area_dep\n"
     ]
    },
    {
     "name": "stderr",
     "output_type": "stream",
     "text": [
      "100%|██████████| 468/468 [01:09<00:00,  6.75it/s]\n"
     ]
    },
    {
     "name": "stdout",
     "output_type": "stream",
     "text": [
      "\n",
      " - working on: species_fagus__tree_heights_0-10__area_gre\n"
     ]
    },
    {
     "name": "stderr",
     "output_type": "stream",
     "text": [
      "100%|██████████| 76/76 [00:12<00:00,  5.91it/s]\n"
     ]
    },
    {
     "name": "stdout",
     "output_type": "stream",
     "text": [
      "\n",
      " - working on: species_fagus__tree_heights_0-10__area_ser\n"
     ]
    },
    {
     "name": "stderr",
     "output_type": "stream",
     "text": [
      "100%|██████████| 386/386 [00:55<00:00,  6.99it/s]\n"
     ]
    },
    {
     "name": "stdout",
     "output_type": "stream",
     "text": [
      "\n",
      " - working on: species_fagus__tree_heights_0-10__area_hex\n"
     ]
    },
    {
     "name": "stderr",
     "output_type": "stream",
     "text": [
      "100%|██████████| 800/800 [01:51<00:00,  7.18it/s]\n"
     ]
    },
    {
     "name": "stdout",
     "output_type": "stream",
     "text": [
      "\n",
      " - working on: species_fagus__tree_heights_15-20__area_idp\n"
     ]
    },
    {
     "name": "stderr",
     "output_type": "stream",
     "text": [
      "100%|██████████| 3390/3390 [07:49<00:00,  7.22it/s]\n"
     ]
    },
    {
     "name": "stdout",
     "output_type": "stream",
     "text": [
      "\n",
      " - working on: species_fagus__tree_heights_15-20__area_reg\n"
     ]
    },
    {
     "name": "stderr",
     "output_type": "stream",
     "text": [
      "100%|██████████| 91/91 [00:14<00:00,  6.23it/s]\n"
     ]
    },
    {
     "name": "stdout",
     "output_type": "stream",
     "text": [
      "\n",
      " - working on: species_fagus__tree_heights_15-20__area_dep\n"
     ]
    },
    {
     "name": "stderr",
     "output_type": "stream",
     "text": [
      "100%|██████████| 500/500 [01:10<00:00,  7.13it/s]\n"
     ]
    },
    {
     "name": "stdout",
     "output_type": "stream",
     "text": [
      "\n",
      " - working on: species_fagus__tree_heights_15-20__area_gre\n"
     ]
    },
    {
     "name": "stderr",
     "output_type": "stream",
     "text": [
      "100%|██████████| 73/73 [00:12<00:00,  6.06it/s]\n"
     ]
    },
    {
     "name": "stdout",
     "output_type": "stream",
     "text": [
      "\n",
      " - working on: species_fagus__tree_heights_15-20__area_ser\n"
     ]
    },
    {
     "name": "stderr",
     "output_type": "stream",
     "text": [
      "100%|██████████| 408/408 [00:57<00:00,  7.12it/s]\n"
     ]
    },
    {
     "name": "stdout",
     "output_type": "stream",
     "text": [
      "\n",
      " - working on: species_fagus__tree_heights_15-20__area_hex\n"
     ]
    },
    {
     "name": "stderr",
     "output_type": "stream",
     "text": [
      "100%|██████████| 888/888 [02:02<00:00,  7.23it/s]\n"
     ]
    },
    {
     "name": "stdout",
     "output_type": "stream",
     "text": [
      "\n",
      " - working on: species_fagus__tree_heights_20-25__area_idp\n"
     ]
    },
    {
     "name": "stderr",
     "output_type": "stream",
     "text": [
      "100%|██████████| 3424/3424 [07:49<00:00,  7.29it/s]\n"
     ]
    },
    {
     "name": "stdout",
     "output_type": "stream",
     "text": [
      "\n",
      " - working on: species_fagus__tree_heights_20-25__area_reg\n"
     ]
    },
    {
     "name": "stderr",
     "output_type": "stream",
     "text": [
      "100%|██████████| 91/91 [00:14<00:00,  6.44it/s]\n"
     ]
    },
    {
     "name": "stdout",
     "output_type": "stream",
     "text": [
      "\n",
      " - working on: species_fagus__tree_heights_20-25__area_dep\n"
     ]
    },
    {
     "name": "stderr",
     "output_type": "stream",
     "text": [
      "100%|██████████| 486/486 [01:06<00:00,  7.30it/s]\n"
     ]
    },
    {
     "name": "stdout",
     "output_type": "stream",
     "text": [
      "\n",
      " - working on: species_fagus__tree_heights_20-25__area_gre\n"
     ]
    },
    {
     "name": "stderr",
     "output_type": "stream",
     "text": [
      "100%|██████████| 73/73 [00:12<00:00,  5.92it/s]\n"
     ]
    },
    {
     "name": "stdout",
     "output_type": "stream",
     "text": [
      "\n",
      " - working on: species_fagus__tree_heights_20-25__area_ser\n"
     ]
    },
    {
     "name": "stderr",
     "output_type": "stream",
     "text": [
      "100%|██████████| 403/403 [00:56<00:00,  7.12it/s]\n"
     ]
    },
    {
     "name": "stdout",
     "output_type": "stream",
     "text": [
      "\n",
      " - working on: species_fagus__tree_heights_20-25__area_hex\n"
     ]
    },
    {
     "name": "stderr",
     "output_type": "stream",
     "text": [
      "100%|██████████| 873/873 [01:59<00:00,  7.28it/s]\n"
     ]
    },
    {
     "name": "stdout",
     "output_type": "stream",
     "text": [
      "\n",
      " - working on: species_fagus__tree_heights_25+__area_idp\n"
     ]
    },
    {
     "name": "stderr",
     "output_type": "stream",
     "text": [
      "100%|██████████| 3153/3153 [07:20<00:00,  7.16it/s]\n"
     ]
    },
    {
     "name": "stdout",
     "output_type": "stream",
     "text": [
      "\n",
      " - working on: species_fagus__tree_heights_25+__area_reg\n"
     ]
    },
    {
     "name": "stderr",
     "output_type": "stream",
     "text": [
      "100%|██████████| 87/87 [00:13<00:00,  6.23it/s]\n"
     ]
    },
    {
     "name": "stdout",
     "output_type": "stream",
     "text": [
      "\n",
      " - working on: species_fagus__tree_heights_25+__area_dep\n"
     ]
    },
    {
     "name": "stderr",
     "output_type": "stream",
     "text": [
      "100%|██████████| 450/450 [01:03<00:00,  7.06it/s]\n"
     ]
    },
    {
     "name": "stdout",
     "output_type": "stream",
     "text": [
      "\n",
      " - working on: species_fagus__tree_heights_25+__area_gre\n"
     ]
    },
    {
     "name": "stderr",
     "output_type": "stream",
     "text": [
      "100%|██████████| 70/70 [00:12<00:00,  5.46it/s]\n"
     ]
    },
    {
     "name": "stdout",
     "output_type": "stream",
     "text": [
      "\n",
      " - working on: species_fagus__tree_heights_25+__area_ser\n"
     ]
    },
    {
     "name": "stderr",
     "output_type": "stream",
     "text": [
      "100%|██████████| 367/367 [00:54<00:00,  6.68it/s]\n"
     ]
    },
    {
     "name": "stdout",
     "output_type": "stream",
     "text": [
      "\n",
      " - working on: species_fagus__tree_heights_25+__area_hex\n"
     ]
    },
    {
     "name": "stderr",
     "output_type": "stream",
     "text": [
      "100%|██████████| 754/754 [01:51<00:00,  6.74it/s]\n"
     ]
    },
    {
     "name": "stdout",
     "output_type": "stream",
     "text": [
      "\n",
      " - working on: species_castanea__tree_heights_all__area_idp\n"
     ]
    },
    {
     "name": "stderr",
     "output_type": "stream",
     "text": [
      "100%|██████████| 5111/5111 [11:57<00:00,  7.13it/s]\n"
     ]
    },
    {
     "name": "stdout",
     "output_type": "stream",
     "text": [
      "\n",
      " - working on: species_castanea__tree_heights_all__area_reg\n"
     ]
    },
    {
     "name": "stderr",
     "output_type": "stream",
     "text": [
      "100%|██████████| 91/91 [00:15<00:00,  5.85it/s]\n"
     ]
    },
    {
     "name": "stdout",
     "output_type": "stream",
     "text": [
      "\n",
      " - working on: species_castanea__tree_heights_all__area_dep\n"
     ]
    },
    {
     "name": "stderr",
     "output_type": "stream",
     "text": [
      "100%|██████████| 532/532 [01:19<00:00,  6.68it/s]\n"
     ]
    },
    {
     "name": "stdout",
     "output_type": "stream",
     "text": [
      "\n",
      " - working on: species_castanea__tree_heights_all__area_gre\n"
     ]
    },
    {
     "name": "stderr",
     "output_type": "stream",
     "text": [
      "100%|██████████| 77/77 [00:13<00:00,  5.65it/s]\n"
     ]
    },
    {
     "name": "stdout",
     "output_type": "stream",
     "text": [
      "\n",
      " - working on: species_castanea__tree_heights_all__area_ser\n"
     ]
    },
    {
     "name": "stderr",
     "output_type": "stream",
     "text": [
      "100%|██████████| 468/468 [01:11<00:00,  6.53it/s]\n"
     ]
    },
    {
     "name": "stdout",
     "output_type": "stream",
     "text": [
      "\n",
      " - working on: species_castanea__tree_heights_all__area_hex\n"
     ]
    },
    {
     "name": "stderr",
     "output_type": "stream",
     "text": [
      "100%|██████████| 1021/1021 [02:28<00:00,  6.89it/s]\n"
     ]
    },
    {
     "name": "stdout",
     "output_type": "stream",
     "text": [
      "\n",
      " - working on: species_castanea__tree_heights_10-15__area_idp\n"
     ]
    },
    {
     "name": "stderr",
     "output_type": "stream",
     "text": [
      "100%|██████████| 2670/2670 [06:24<00:00,  6.94it/s]\n"
     ]
    },
    {
     "name": "stdout",
     "output_type": "stream",
     "text": [
      "\n",
      " - working on: species_castanea__tree_heights_10-15__area_reg\n"
     ]
    },
    {
     "name": "stderr",
     "output_type": "stream",
     "text": [
      "100%|██████████| 87/87 [00:14<00:00,  6.03it/s]\n"
     ]
    },
    {
     "name": "stdout",
     "output_type": "stream",
     "text": [
      "\n",
      " - working on: species_castanea__tree_heights_10-15__area_dep\n"
     ]
    },
    {
     "name": "stderr",
     "output_type": "stream",
     "text": [
      "100%|██████████| 469/469 [01:08<00:00,  6.86it/s]\n"
     ]
    },
    {
     "name": "stdout",
     "output_type": "stream",
     "text": [
      "\n",
      " - working on: species_castanea__tree_heights_10-15__area_gre\n"
     ]
    },
    {
     "name": "stderr",
     "output_type": "stream",
     "text": [
      "100%|██████████| 73/73 [00:13<00:00,  5.50it/s]\n"
     ]
    },
    {
     "name": "stdout",
     "output_type": "stream",
     "text": [
      "\n",
      " - working on: species_castanea__tree_heights_10-15__area_ser\n"
     ]
    },
    {
     "name": "stderr",
     "output_type": "stream",
     "text": [
      "100%|██████████| 397/397 [01:00<00:00,  6.56it/s]\n"
     ]
    },
    {
     "name": "stdout",
     "output_type": "stream",
     "text": [
      "\n",
      " - working on: species_castanea__tree_heights_10-15__area_hex\n"
     ]
    },
    {
     "name": "stderr",
     "output_type": "stream",
     "text": [
      "100%|██████████| 795/795 [01:56<00:00,  6.84it/s]\n"
     ]
    },
    {
     "name": "stdout",
     "output_type": "stream",
     "text": [
      "\n",
      " - working on: species_castanea__tree_heights_0-10__area_idp\n"
     ]
    },
    {
     "name": "stderr",
     "output_type": "stream",
     "text": [
      "100%|██████████| 1990/1990 [04:38<00:00,  7.15it/s]\n"
     ]
    },
    {
     "name": "stdout",
     "output_type": "stream",
     "text": [
      "\n",
      " - working on: species_castanea__tree_heights_0-10__area_reg\n"
     ]
    },
    {
     "name": "stderr",
     "output_type": "stream",
     "text": [
      "100%|██████████| 89/89 [00:14<00:00,  6.02it/s]\n"
     ]
    },
    {
     "name": "stdout",
     "output_type": "stream",
     "text": [
      "\n",
      " - working on: species_castanea__tree_heights_0-10__area_dep\n"
     ]
    },
    {
     "name": "stderr",
     "output_type": "stream",
     "text": [
      "100%|██████████| 449/449 [01:05<00:00,  6.85it/s]\n"
     ]
    },
    {
     "name": "stdout",
     "output_type": "stream",
     "text": [
      "\n",
      " - working on: species_castanea__tree_heights_0-10__area_gre\n"
     ]
    },
    {
     "name": "stderr",
     "output_type": "stream",
     "text": [
      "100%|██████████| 73/73 [00:12<00:00,  5.98it/s]\n"
     ]
    },
    {
     "name": "stdout",
     "output_type": "stream",
     "text": [
      "\n",
      " - working on: species_castanea__tree_heights_0-10__area_ser\n"
     ]
    },
    {
     "name": "stderr",
     "output_type": "stream",
     "text": [
      "100%|██████████| 368/368 [00:54<00:00,  6.71it/s]\n"
     ]
    },
    {
     "name": "stdout",
     "output_type": "stream",
     "text": [
      "\n",
      " - working on: species_castanea__tree_heights_0-10__area_hex\n"
     ]
    },
    {
     "name": "stderr",
     "output_type": "stream",
     "text": [
      "100%|██████████| 689/689 [01:39<00:00,  6.89it/s]\n"
     ]
    },
    {
     "name": "stdout",
     "output_type": "stream",
     "text": [
      "\n",
      " - working on: species_castanea__tree_heights_15-20__area_idp\n"
     ]
    },
    {
     "name": "stderr",
     "output_type": "stream",
     "text": [
      "100%|██████████| 2292/2292 [05:12<00:00,  7.34it/s]\n"
     ]
    },
    {
     "name": "stdout",
     "output_type": "stream",
     "text": [
      "\n",
      " - working on: species_castanea__tree_heights_15-20__area_reg\n"
     ]
    },
    {
     "name": "stderr",
     "output_type": "stream",
     "text": [
      "100%|██████████| 88/88 [00:16<00:00,  5.33it/s]\n"
     ]
    },
    {
     "name": "stdout",
     "output_type": "stream",
     "text": [
      "\n",
      " - working on: species_castanea__tree_heights_15-20__area_dep\n"
     ]
    },
    {
     "name": "stderr",
     "output_type": "stream",
     "text": [
      "100%|██████████| 456/456 [01:06<00:00,  6.87it/s]\n"
     ]
    },
    {
     "name": "stdout",
     "output_type": "stream",
     "text": [
      "\n",
      " - working on: species_castanea__tree_heights_15-20__area_gre\n"
     ]
    },
    {
     "name": "stderr",
     "output_type": "stream",
     "text": [
      "100%|██████████| 72/72 [00:12<00:00,  5.95it/s]\n"
     ]
    },
    {
     "name": "stdout",
     "output_type": "stream",
     "text": [
      "\n",
      " - working on: species_castanea__tree_heights_15-20__area_ser\n"
     ]
    },
    {
     "name": "stderr",
     "output_type": "stream",
     "text": [
      "100%|██████████| 382/382 [00:53<00:00,  7.20it/s]\n"
     ]
    },
    {
     "name": "stdout",
     "output_type": "stream",
     "text": [
      "\n",
      " - working on: species_castanea__tree_heights_15-20__area_hex\n"
     ]
    },
    {
     "name": "stderr",
     "output_type": "stream",
     "text": [
      "100%|██████████| 758/758 [01:47<00:00,  7.07it/s]\n"
     ]
    },
    {
     "name": "stdout",
     "output_type": "stream",
     "text": [
      "\n",
      " - working on: species_castanea__tree_heights_20-25__area_idp\n"
     ]
    },
    {
     "name": "stderr",
     "output_type": "stream",
     "text": [
      "100%|██████████| 1250/1250 [02:59<00:00,  6.95it/s]\n"
     ]
    },
    {
     "name": "stdout",
     "output_type": "stream",
     "text": [
      "\n",
      " - working on: species_castanea__tree_heights_20-25__area_reg\n"
     ]
    },
    {
     "name": "stderr",
     "output_type": "stream",
     "text": [
      "100%|██████████| 84/84 [00:14<00:00,  5.83it/s]\n"
     ]
    },
    {
     "name": "stdout",
     "output_type": "stream",
     "text": [
      "\n",
      " - working on: species_castanea__tree_heights_20-25__area_dep\n"
     ]
    },
    {
     "name": "stderr",
     "output_type": "stream",
     "text": [
      "100%|██████████| 413/413 [01:00<00:00,  6.85it/s]\n"
     ]
    },
    {
     "name": "stdout",
     "output_type": "stream",
     "text": [
      "\n",
      " - working on: species_castanea__tree_heights_20-25__area_gre\n"
     ]
    },
    {
     "name": "stderr",
     "output_type": "stream",
     "text": [
      "100%|██████████| 70/70 [00:12<00:00,  5.46it/s]\n"
     ]
    },
    {
     "name": "stdout",
     "output_type": "stream",
     "text": [
      "\n",
      " - working on: species_castanea__tree_heights_20-25__area_ser\n"
     ]
    },
    {
     "name": "stderr",
     "output_type": "stream",
     "text": [
      "100%|██████████| 327/327 [00:47<00:00,  6.84it/s]\n"
     ]
    },
    {
     "name": "stdout",
     "output_type": "stream",
     "text": [
      "\n",
      " - working on: species_castanea__tree_heights_20-25__area_hex\n"
     ]
    },
    {
     "name": "stderr",
     "output_type": "stream",
     "text": [
      "100%|██████████| 596/596 [01:26<00:00,  6.92it/s]\n"
     ]
    },
    {
     "name": "stdout",
     "output_type": "stream",
     "text": [
      "\n",
      " - working on: species_castanea__tree_heights_25+__area_idp\n"
     ]
    },
    {
     "name": "stderr",
     "output_type": "stream",
     "text": [
      "100%|██████████| 337/337 [00:51<00:00,  6.58it/s]\n"
     ]
    },
    {
     "name": "stdout",
     "output_type": "stream",
     "text": [
      "\n",
      " - working on: species_castanea__tree_heights_25+__area_reg\n"
     ]
    },
    {
     "name": "stderr",
     "output_type": "stream",
     "text": [
      "100%|██████████| 80/80 [00:13<00:00,  6.08it/s]\n"
     ]
    },
    {
     "name": "stdout",
     "output_type": "stream",
     "text": [
      "\n",
      " - working on: species_castanea__tree_heights_25+__area_dep\n"
     ]
    },
    {
     "name": "stderr",
     "output_type": "stream",
     "text": [
      "100%|██████████| 220/220 [00:32<00:00,  6.69it/s]\n"
     ]
    },
    {
     "name": "stdout",
     "output_type": "stream",
     "text": [
      "\n",
      " - working on: species_castanea__tree_heights_25+__area_gre\n"
     ]
    },
    {
     "name": "stderr",
     "output_type": "stream",
     "text": [
      "100%|██████████| 56/56 [00:10<00:00,  5.51it/s]\n"
     ]
    },
    {
     "name": "stdout",
     "output_type": "stream",
     "text": [
      "\n",
      " - working on: species_castanea__tree_heights_25+__area_ser\n"
     ]
    },
    {
     "name": "stderr",
     "output_type": "stream",
     "text": [
      "100%|██████████| 177/177 [00:26<00:00,  6.79it/s]\n"
     ]
    },
    {
     "name": "stdout",
     "output_type": "stream",
     "text": [
      "\n",
      " - working on: species_castanea__tree_heights_25+__area_hex\n"
     ]
    },
    {
     "name": "stderr",
     "output_type": "stream",
     "text": [
      "100%|██████████| 264/264 [00:37<00:00,  7.11it/s]\n"
     ]
    },
    {
     "name": "stdout",
     "output_type": "stream",
     "text": [
      "\n",
      " - working on: species_carpinus__tree_heights_all__area_idp\n"
     ]
    },
    {
     "name": "stderr",
     "output_type": "stream",
     "text": [
      "100%|██████████| 7974/7974 [18:51<00:00,  7.05it/s]\n"
     ]
    },
    {
     "name": "stdout",
     "output_type": "stream",
     "text": [
      "\n",
      " - working on: species_carpinus__tree_heights_all__area_reg\n"
     ]
    },
    {
     "name": "stderr",
     "output_type": "stream",
     "text": [
      "100%|██████████| 77/77 [00:13<00:00,  5.56it/s]\n"
     ]
    },
    {
     "name": "stdout",
     "output_type": "stream",
     "text": [
      "\n",
      " - working on: species_carpinus__tree_heights_all__area_dep\n"
     ]
    },
    {
     "name": "stderr",
     "output_type": "stream",
     "text": [
      "100%|██████████| 491/491 [01:12<00:00,  6.76it/s]\n"
     ]
    },
    {
     "name": "stdout",
     "output_type": "stream",
     "text": [
      "\n",
      " - working on: species_carpinus__tree_heights_all__area_gre\n"
     ]
    },
    {
     "name": "stderr",
     "output_type": "stream",
     "text": [
      "100%|██████████| 63/63 [00:11<00:00,  5.66it/s]\n"
     ]
    },
    {
     "name": "stdout",
     "output_type": "stream",
     "text": [
      "\n",
      " - working on: species_carpinus__tree_heights_all__area_ser\n"
     ]
    },
    {
     "name": "stderr",
     "output_type": "stream",
     "text": [
      "100%|██████████| 399/399 [01:01<00:00,  6.54it/s]\n"
     ]
    },
    {
     "name": "stdout",
     "output_type": "stream",
     "text": [
      "\n",
      " - working on: species_carpinus__tree_heights_all__area_hex\n"
     ]
    },
    {
     "name": "stderr",
     "output_type": "stream",
     "text": [
      "100%|██████████| 929/929 [02:15<00:00,  6.88it/s]\n"
     ]
    },
    {
     "name": "stdout",
     "output_type": "stream",
     "text": [
      "\n",
      " - working on: species_carpinus__tree_heights_10-15__area_idp\n"
     ]
    },
    {
     "name": "stderr",
     "output_type": "stream",
     "text": [
      "100%|██████████| 4840/4840 [11:14<00:00,  7.17it/s]\n"
     ]
    },
    {
     "name": "stdout",
     "output_type": "stream",
     "text": [
      "\n",
      " - working on: species_carpinus__tree_heights_10-15__area_reg\n"
     ]
    },
    {
     "name": "stderr",
     "output_type": "stream",
     "text": [
      "100%|██████████| 76/76 [00:13<00:00,  5.74it/s]\n"
     ]
    },
    {
     "name": "stdout",
     "output_type": "stream",
     "text": [
      "\n",
      " - working on: species_carpinus__tree_heights_10-15__area_dep\n"
     ]
    },
    {
     "name": "stderr",
     "output_type": "stream",
     "text": [
      "100%|██████████| 450/450 [01:07<00:00,  6.69it/s]\n"
     ]
    },
    {
     "name": "stdout",
     "output_type": "stream",
     "text": [
      "\n",
      " - working on: species_carpinus__tree_heights_10-15__area_gre\n"
     ]
    },
    {
     "name": "stderr",
     "output_type": "stream",
     "text": [
      "100%|██████████| 62/62 [00:11<00:00,  5.46it/s]\n"
     ]
    },
    {
     "name": "stdout",
     "output_type": "stream",
     "text": [
      "\n",
      " - working on: species_carpinus__tree_heights_10-15__area_ser\n"
     ]
    },
    {
     "name": "stderr",
     "output_type": "stream",
     "text": [
      "100%|██████████| 370/370 [00:54<00:00,  6.79it/s]\n"
     ]
    },
    {
     "name": "stdout",
     "output_type": "stream",
     "text": [
      "\n",
      " - working on: species_carpinus__tree_heights_10-15__area_hex\n"
     ]
    },
    {
     "name": "stderr",
     "output_type": "stream",
     "text": [
      "100%|██████████| 829/829 [01:55<00:00,  7.19it/s]\n"
     ]
    },
    {
     "name": "stdout",
     "output_type": "stream",
     "text": [
      "\n",
      " - working on: species_carpinus__tree_heights_0-10__area_idp\n"
     ]
    },
    {
     "name": "stderr",
     "output_type": "stream",
     "text": [
      "100%|██████████| 2610/2610 [06:08<00:00,  7.09it/s]\n"
     ]
    },
    {
     "name": "stdout",
     "output_type": "stream",
     "text": [
      "\n",
      " - working on: species_carpinus__tree_heights_0-10__area_reg\n"
     ]
    },
    {
     "name": "stderr",
     "output_type": "stream",
     "text": [
      "100%|██████████| 74/74 [00:12<00:00,  5.72it/s]\n"
     ]
    },
    {
     "name": "stdout",
     "output_type": "stream",
     "text": [
      "\n",
      " - working on: species_carpinus__tree_heights_0-10__area_dep\n"
     ]
    },
    {
     "name": "stderr",
     "output_type": "stream",
     "text": [
      "100%|██████████| 427/427 [01:04<00:00,  6.62it/s]\n"
     ]
    },
    {
     "name": "stdout",
     "output_type": "stream",
     "text": [
      "\n",
      " - working on: species_carpinus__tree_heights_0-10__area_gre\n"
     ]
    },
    {
     "name": "stderr",
     "output_type": "stream",
     "text": [
      "100%|██████████| 62/62 [00:11<00:00,  5.17it/s]\n"
     ]
    },
    {
     "name": "stdout",
     "output_type": "stream",
     "text": [
      "\n",
      " - working on: species_carpinus__tree_heights_0-10__area_ser\n"
     ]
    },
    {
     "name": "stderr",
     "output_type": "stream",
     "text": [
      "100%|██████████| 342/342 [00:49<00:00,  6.86it/s]\n"
     ]
    },
    {
     "name": "stdout",
     "output_type": "stream",
     "text": [
      "\n",
      " - working on: species_carpinus__tree_heights_0-10__area_hex\n"
     ]
    },
    {
     "name": "stderr",
     "output_type": "stream",
     "text": [
      "100%|██████████| 741/741 [01:45<00:00,  7.03it/s]\n"
     ]
    },
    {
     "name": "stdout",
     "output_type": "stream",
     "text": [
      "\n",
      " - working on: species_carpinus__tree_heights_15-20__area_idp\n"
     ]
    },
    {
     "name": "stderr",
     "output_type": "stream",
     "text": [
      "100%|██████████| 3505/3505 [07:59<00:00,  7.31it/s]\n"
     ]
    },
    {
     "name": "stdout",
     "output_type": "stream",
     "text": [
      "\n",
      " - working on: species_carpinus__tree_heights_15-20__area_reg\n"
     ]
    },
    {
     "name": "stderr",
     "output_type": "stream",
     "text": [
      "100%|██████████| 74/74 [00:12<00:00,  5.82it/s]\n"
     ]
    },
    {
     "name": "stdout",
     "output_type": "stream",
     "text": [
      "\n",
      " - working on: species_carpinus__tree_heights_15-20__area_dep\n"
     ]
    },
    {
     "name": "stderr",
     "output_type": "stream",
     "text": [
      "100%|██████████| 421/421 [01:04<00:00,  6.54it/s]\n"
     ]
    },
    {
     "name": "stdout",
     "output_type": "stream",
     "text": [
      "\n",
      " - working on: species_carpinus__tree_heights_15-20__area_gre\n"
     ]
    },
    {
     "name": "stderr",
     "output_type": "stream",
     "text": [
      "100%|██████████| 57/57 [00:10<00:00,  5.20it/s]\n"
     ]
    },
    {
     "name": "stdout",
     "output_type": "stream",
     "text": [
      "\n",
      " - working on: species_carpinus__tree_heights_15-20__area_ser\n"
     ]
    },
    {
     "name": "stderr",
     "output_type": "stream",
     "text": [
      "100%|██████████| 347/347 [00:55<00:00,  6.24it/s]\n"
     ]
    },
    {
     "name": "stdout",
     "output_type": "stream",
     "text": [
      "\n",
      " - working on: species_carpinus__tree_heights_15-20__area_hex\n"
     ]
    },
    {
     "name": "stderr",
     "output_type": "stream",
     "text": [
      "100%|██████████| 745/745 [01:51<00:00,  6.66it/s]\n"
     ]
    },
    {
     "name": "stdout",
     "output_type": "stream",
     "text": [
      "\n",
      " - working on: species_carpinus__tree_heights_20-25__area_idp\n"
     ]
    },
    {
     "name": "stderr",
     "output_type": "stream",
     "text": [
      "100%|██████████| 1884/1884 [04:41<00:00,  6.68it/s]\n"
     ]
    },
    {
     "name": "stdout",
     "output_type": "stream",
     "text": [
      "\n",
      " - working on: species_carpinus__tree_heights_20-25__area_reg\n"
     ]
    },
    {
     "name": "stderr",
     "output_type": "stream",
     "text": [
      "100%|██████████| 72/72 [00:14<00:00,  4.83it/s]\n"
     ]
    },
    {
     "name": "stdout",
     "output_type": "stream",
     "text": [
      "\n",
      " - working on: species_carpinus__tree_heights_20-25__area_dep\n"
     ]
    },
    {
     "name": "stderr",
     "output_type": "stream",
     "text": [
      "100%|██████████| 346/346 [00:50<00:00,  6.83it/s]\n"
     ]
    },
    {
     "name": "stdout",
     "output_type": "stream",
     "text": [
      "\n",
      " - working on: species_carpinus__tree_heights_20-25__area_gre\n"
     ]
    },
    {
     "name": "stderr",
     "output_type": "stream",
     "text": [
      "100%|██████████| 50/50 [00:09<00:00,  5.12it/s]\n"
     ]
    },
    {
     "name": "stdout",
     "output_type": "stream",
     "text": [
      "\n",
      " - working on: species_carpinus__tree_heights_20-25__area_ser\n"
     ]
    },
    {
     "name": "stderr",
     "output_type": "stream",
     "text": [
      "100%|██████████| 272/272 [00:40<00:00,  6.71it/s]\n"
     ]
    },
    {
     "name": "stdout",
     "output_type": "stream",
     "text": [
      "\n",
      " - working on: species_carpinus__tree_heights_20-25__area_hex\n"
     ]
    },
    {
     "name": "stderr",
     "output_type": "stream",
     "text": [
      "100%|██████████| 583/583 [01:20<00:00,  7.22it/s]\n"
     ]
    },
    {
     "name": "stdout",
     "output_type": "stream",
     "text": [
      "\n",
      " - working on: species_carpinus__tree_heights_25+__area_idp\n"
     ]
    },
    {
     "name": "stderr",
     "output_type": "stream",
     "text": [
      "100%|██████████| 547/547 [01:16<00:00,  7.11it/s]\n"
     ]
    },
    {
     "name": "stdout",
     "output_type": "stream",
     "text": [
      "\n",
      " - working on: species_carpinus__tree_heights_25+__area_reg\n"
     ]
    },
    {
     "name": "stderr",
     "output_type": "stream",
     "text": [
      "100%|██████████| 58/58 [00:10<00:00,  5.34it/s]\n"
     ]
    },
    {
     "name": "stdout",
     "output_type": "stream",
     "text": [
      "\n",
      " - working on: species_carpinus__tree_heights_25+__area_dep\n"
     ]
    },
    {
     "name": "stderr",
     "output_type": "stream",
     "text": [
      "100%|██████████| 202/202 [00:29<00:00,  6.75it/s]\n"
     ]
    },
    {
     "name": "stdout",
     "output_type": "stream",
     "text": [
      "\n",
      " - working on: species_carpinus__tree_heights_25+__area_gre\n"
     ]
    },
    {
     "name": "stderr",
     "output_type": "stream",
     "text": [
      "100%|██████████| 38/38 [00:07<00:00,  5.09it/s]\n"
     ]
    },
    {
     "name": "stdout",
     "output_type": "stream",
     "text": [
      "\n",
      " - working on: species_carpinus__tree_heights_25+__area_ser\n"
     ]
    },
    {
     "name": "stderr",
     "output_type": "stream",
     "text": [
      "100%|██████████| 152/152 [00:23<00:00,  6.37it/s]\n"
     ]
    },
    {
     "name": "stdout",
     "output_type": "stream",
     "text": [
      "\n",
      " - working on: species_carpinus__tree_heights_25+__area_hex\n"
     ]
    },
    {
     "name": "stderr",
     "output_type": "stream",
     "text": [
      "100%|██████████| 292/292 [00:43<00:00,  6.71it/s]\n"
     ]
    },
    {
     "name": "stdout",
     "output_type": "stream",
     "text": [
      "\n",
      " - working on: species_abies__tree_heights_all__area_idp\n"
     ]
    },
    {
     "name": "stderr",
     "output_type": "stream",
     "text": [
      "100%|██████████| 3640/3640 [08:36<00:00,  7.04it/s]\n"
     ]
    },
    {
     "name": "stdout",
     "output_type": "stream",
     "text": [
      "\n",
      " - working on: species_abies__tree_heights_all__area_reg\n"
     ]
    },
    {
     "name": "stderr",
     "output_type": "stream",
     "text": [
      "100%|██████████| 77/77 [00:13<00:00,  5.60it/s]\n"
     ]
    },
    {
     "name": "stdout",
     "output_type": "stream",
     "text": [
      "\n",
      " - working on: species_abies__tree_heights_all__area_dep\n"
     ]
    },
    {
     "name": "stderr",
     "output_type": "stream",
     "text": [
      "100%|██████████| 401/401 [01:01<00:00,  6.53it/s]\n"
     ]
    },
    {
     "name": "stdout",
     "output_type": "stream",
     "text": [
      "\n",
      " - working on: species_abies__tree_heights_all__area_gre\n"
     ]
    },
    {
     "name": "stderr",
     "output_type": "stream",
     "text": [
      "100%|██████████| 68/68 [00:13<00:00,  4.89it/s]\n"
     ]
    },
    {
     "name": "stdout",
     "output_type": "stream",
     "text": [
      "\n",
      " - working on: species_abies__tree_heights_all__area_ser\n"
     ]
    },
    {
     "name": "stderr",
     "output_type": "stream",
     "text": [
      "100%|██████████| 322/322 [00:44<00:00,  7.26it/s]\n"
     ]
    },
    {
     "name": "stdout",
     "output_type": "stream",
     "text": [
      "\n",
      " - working on: species_abies__tree_heights_all__area_hex\n"
     ]
    },
    {
     "name": "stderr",
     "output_type": "stream",
     "text": [
      "100%|██████████| 622/622 [01:24<00:00,  7.37it/s]\n"
     ]
    },
    {
     "name": "stdout",
     "output_type": "stream",
     "text": [
      "\n",
      " - working on: species_abies__tree_heights_10-15__area_idp\n"
     ]
    },
    {
     "name": "stderr",
     "output_type": "stream",
     "text": [
      "100%|██████████| 1456/1456 [03:20<00:00,  7.27it/s]\n"
     ]
    },
    {
     "name": "stdout",
     "output_type": "stream",
     "text": [
      "\n",
      " - working on: species_abies__tree_heights_10-15__area_reg\n"
     ]
    },
    {
     "name": "stderr",
     "output_type": "stream",
     "text": [
      "100%|██████████| 63/63 [00:10<00:00,  5.84it/s]\n"
     ]
    },
    {
     "name": "stdout",
     "output_type": "stream",
     "text": [
      "\n",
      " - working on: species_abies__tree_heights_10-15__area_dep\n"
     ]
    },
    {
     "name": "stderr",
     "output_type": "stream",
     "text": [
      "100%|██████████| 298/298 [00:44<00:00,  6.69it/s]\n"
     ]
    },
    {
     "name": "stdout",
     "output_type": "stream",
     "text": [
      "\n",
      " - working on: species_abies__tree_heights_10-15__area_gre\n"
     ]
    },
    {
     "name": "stderr",
     "output_type": "stream",
     "text": [
      "100%|██████████| 61/61 [00:11<00:00,  5.53it/s]\n"
     ]
    },
    {
     "name": "stdout",
     "output_type": "stream",
     "text": [
      "\n",
      " - working on: species_abies__tree_heights_10-15__area_ser\n"
     ]
    },
    {
     "name": "stderr",
     "output_type": "stream",
     "text": [
      "100%|██████████| 231/231 [00:33<00:00,  6.90it/s]\n"
     ]
    },
    {
     "name": "stdout",
     "output_type": "stream",
     "text": [
      "\n",
      " - working on: species_abies__tree_heights_10-15__area_hex\n"
     ]
    },
    {
     "name": "stderr",
     "output_type": "stream",
     "text": [
      "100%|██████████| 425/425 [00:58<00:00,  7.21it/s]\n"
     ]
    },
    {
     "name": "stdout",
     "output_type": "stream",
     "text": [
      "\n",
      " - working on: species_abies__tree_heights_0-10__area_idp\n"
     ]
    },
    {
     "name": "stderr",
     "output_type": "stream",
     "text": [
      "100%|██████████| 1971/1971 [04:32<00:00,  7.24it/s]\n"
     ]
    },
    {
     "name": "stdout",
     "output_type": "stream",
     "text": [
      "\n",
      " - working on: species_abies__tree_heights_0-10__area_reg\n"
     ]
    },
    {
     "name": "stderr",
     "output_type": "stream",
     "text": [
      "100%|██████████| 69/69 [00:11<00:00,  5.83it/s]\n"
     ]
    },
    {
     "name": "stdout",
     "output_type": "stream",
     "text": [
      "\n",
      " - working on: species_abies__tree_heights_0-10__area_dep\n"
     ]
    },
    {
     "name": "stderr",
     "output_type": "stream",
     "text": [
      "100%|██████████| 338/338 [00:50<00:00,  6.72it/s]\n"
     ]
    },
    {
     "name": "stdout",
     "output_type": "stream",
     "text": [
      "\n",
      " - working on: species_abies__tree_heights_0-10__area_gre\n"
     ]
    },
    {
     "name": "stderr",
     "output_type": "stream",
     "text": [
      "100%|██████████| 66/66 [00:11<00:00,  5.65it/s]\n"
     ]
    },
    {
     "name": "stdout",
     "output_type": "stream",
     "text": [
      "\n",
      " - working on: species_abies__tree_heights_0-10__area_ser\n"
     ]
    },
    {
     "name": "stderr",
     "output_type": "stream",
     "text": [
      "100%|██████████| 270/270 [00:39<00:00,  6.89it/s]\n"
     ]
    },
    {
     "name": "stdout",
     "output_type": "stream",
     "text": [
      "\n",
      " - working on: species_abies__tree_heights_0-10__area_hex\n"
     ]
    },
    {
     "name": "stderr",
     "output_type": "stream",
     "text": [
      "100%|██████████| 496/496 [01:08<00:00,  7.26it/s]\n"
     ]
    },
    {
     "name": "stdout",
     "output_type": "stream",
     "text": [
      "\n",
      " - working on: species_abies__tree_heights_15-20__area_idp\n"
     ]
    },
    {
     "name": "stderr",
     "output_type": "stream",
     "text": [
      "100%|██████████| 1527/1527 [16:11<00:00,  1.57it/s]   \n"
     ]
    },
    {
     "name": "stdout",
     "output_type": "stream",
     "text": [
      "\n",
      " - working on: species_abies__tree_heights_15-20__area_reg\n"
     ]
    },
    {
     "name": "stderr",
     "output_type": "stream",
     "text": [
      "100%|██████████| 66/66 [00:11<00:00,  5.76it/s]\n"
     ]
    },
    {
     "name": "stdout",
     "output_type": "stream",
     "text": [
      "\n",
      " - working on: species_abies__tree_heights_15-20__area_dep\n"
     ]
    },
    {
     "name": "stderr",
     "output_type": "stream",
     "text": [
      "100%|██████████| 306/306 [00:43<00:00,  7.05it/s]\n"
     ]
    },
    {
     "name": "stdout",
     "output_type": "stream",
     "text": [
      "\n",
      " - working on: species_abies__tree_heights_15-20__area_gre\n"
     ]
    },
    {
     "name": "stderr",
     "output_type": "stream",
     "text": [
      "100%|██████████| 60/60 [00:10<00:00,  5.73it/s]\n"
     ]
    },
    {
     "name": "stdout",
     "output_type": "stream",
     "text": [
      "\n",
      " - working on: species_abies__tree_heights_15-20__area_ser\n"
     ]
    },
    {
     "name": "stderr",
     "output_type": "stream",
     "text": [
      "100%|██████████| 235/235 [00:33<00:00,  6.93it/s]\n"
     ]
    },
    {
     "name": "stdout",
     "output_type": "stream",
     "text": [
      "\n",
      " - working on: species_abies__tree_heights_15-20__area_hex\n"
     ]
    },
    {
     "name": "stderr",
     "output_type": "stream",
     "text": [
      "100%|██████████| 435/435 [01:01<00:00,  7.12it/s]\n"
     ]
    },
    {
     "name": "stdout",
     "output_type": "stream",
     "text": [
      "\n",
      " - working on: species_abies__tree_heights_20-25__area_idp\n"
     ]
    },
    {
     "name": "stderr",
     "output_type": "stream",
     "text": [
      "100%|██████████| 1601/1601 [03:38<00:00,  7.33it/s]\n"
     ]
    },
    {
     "name": "stdout",
     "output_type": "stream",
     "text": [
      "\n",
      " - working on: species_abies__tree_heights_20-25__area_reg\n"
     ]
    },
    {
     "name": "stderr",
     "output_type": "stream",
     "text": [
      "100%|██████████| 60/60 [00:10<00:00,  5.63it/s]\n"
     ]
    },
    {
     "name": "stdout",
     "output_type": "stream",
     "text": [
      "\n",
      " - working on: species_abies__tree_heights_20-25__area_dep\n"
     ]
    },
    {
     "name": "stderr",
     "output_type": "stream",
     "text": [
      "100%|██████████| 289/289 [00:41<00:00,  7.03it/s]\n"
     ]
    },
    {
     "name": "stdout",
     "output_type": "stream",
     "text": [
      "\n",
      " - working on: species_abies__tree_heights_20-25__area_gre\n"
     ]
    },
    {
     "name": "stderr",
     "output_type": "stream",
     "text": [
      "100%|██████████| 59/59 [00:10<00:00,  5.62it/s]\n"
     ]
    },
    {
     "name": "stdout",
     "output_type": "stream",
     "text": [
      "\n",
      " - working on: species_abies__tree_heights_20-25__area_ser\n"
     ]
    },
    {
     "name": "stderr",
     "output_type": "stream",
     "text": [
      "100%|██████████| 235/235 [00:33<00:00,  6.94it/s]\n"
     ]
    },
    {
     "name": "stdout",
     "output_type": "stream",
     "text": [
      "\n",
      " - working on: species_abies__tree_heights_20-25__area_hex\n"
     ]
    },
    {
     "name": "stderr",
     "output_type": "stream",
     "text": [
      "100%|██████████| 428/428 [00:59<00:00,  7.19it/s]\n"
     ]
    },
    {
     "name": "stdout",
     "output_type": "stream",
     "text": [
      "\n",
      " - working on: species_abies__tree_heights_25+__area_idp\n"
     ]
    },
    {
     "name": "stderr",
     "output_type": "stream",
     "text": [
      "100%|██████████| 1593/1593 [03:43<00:00,  7.11it/s]\n"
     ]
    },
    {
     "name": "stdout",
     "output_type": "stream",
     "text": [
      "\n",
      " - working on: species_abies__tree_heights_25+__area_reg\n"
     ]
    },
    {
     "name": "stderr",
     "output_type": "stream",
     "text": [
      "100%|██████████| 62/62 [00:10<00:00,  5.82it/s]\n"
     ]
    },
    {
     "name": "stdout",
     "output_type": "stream",
     "text": [
      "\n",
      " - working on: species_abies__tree_heights_25+__area_dep\n"
     ]
    },
    {
     "name": "stderr",
     "output_type": "stream",
     "text": [
      "100%|██████████| 280/280 [00:38<00:00,  7.19it/s]\n"
     ]
    },
    {
     "name": "stdout",
     "output_type": "stream",
     "text": [
      "\n",
      " - working on: species_abies__tree_heights_25+__area_gre\n"
     ]
    },
    {
     "name": "stderr",
     "output_type": "stream",
     "text": [
      "100%|██████████| 57/57 [00:09<00:00,  5.84it/s]\n"
     ]
    },
    {
     "name": "stdout",
     "output_type": "stream",
     "text": [
      "\n",
      " - working on: species_abies__tree_heights_25+__area_ser\n"
     ]
    },
    {
     "name": "stderr",
     "output_type": "stream",
     "text": [
      "100%|██████████| 218/218 [00:31<00:00,  6.98it/s]\n"
     ]
    },
    {
     "name": "stdout",
     "output_type": "stream",
     "text": [
      "\n",
      " - working on: species_abies__tree_heights_25+__area_hex\n"
     ]
    },
    {
     "name": "stderr",
     "output_type": "stream",
     "text": [
      "100%|██████████| 398/398 [00:56<00:00,  7.08it/s]\n"
     ]
    },
    {
     "name": "stdout",
     "output_type": "stream",
     "text": [
      "\n",
      " - working on: species_picea__tree_heights_all__area_idp\n"
     ]
    },
    {
     "name": "stderr",
     "output_type": "stream",
     "text": [
      "100%|██████████| 3728/3728 [09:06<00:00,  6.82it/s]\n"
     ]
    },
    {
     "name": "stdout",
     "output_type": "stream",
     "text": [
      "\n",
      " - working on: species_picea__tree_heights_all__area_reg\n"
     ]
    },
    {
     "name": "stderr",
     "output_type": "stream",
     "text": [
      "100%|██████████| 78/78 [00:12<00:00,  6.09it/s]\n"
     ]
    },
    {
     "name": "stdout",
     "output_type": "stream",
     "text": [
      "\n",
      " - working on: species_picea__tree_heights_all__area_dep\n"
     ]
    },
    {
     "name": "stderr",
     "output_type": "stream",
     "text": [
      "100%|██████████| 415/415 [00:56<00:00,  7.31it/s]\n"
     ]
    },
    {
     "name": "stdout",
     "output_type": "stream",
     "text": [
      "\n",
      " - working on: species_picea__tree_heights_all__area_gre\n"
     ]
    },
    {
     "name": "stderr",
     "output_type": "stream",
     "text": [
      "100%|██████████| 61/61 [00:10<00:00,  5.85it/s]\n"
     ]
    },
    {
     "name": "stdout",
     "output_type": "stream",
     "text": [
      "\n",
      " - working on: species_picea__tree_heights_all__area_ser\n"
     ]
    },
    {
     "name": "stderr",
     "output_type": "stream",
     "text": [
      "100%|██████████| 330/330 [00:45<00:00,  7.22it/s]\n"
     ]
    },
    {
     "name": "stdout",
     "output_type": "stream",
     "text": [
      "\n",
      " - working on: species_picea__tree_heights_all__area_hex\n"
     ]
    },
    {
     "name": "stderr",
     "output_type": "stream",
     "text": [
      "100%|██████████| 670/670 [01:29<00:00,  7.45it/s]\n"
     ]
    },
    {
     "name": "stdout",
     "output_type": "stream",
     "text": [
      "\n",
      " - working on: species_picea__tree_heights_10-15__area_idp\n"
     ]
    },
    {
     "name": "stderr",
     "output_type": "stream",
     "text": [
      "100%|██████████| 1194/1194 [02:40<00:00,  7.42it/s]\n"
     ]
    },
    {
     "name": "stdout",
     "output_type": "stream",
     "text": [
      "\n",
      " - working on: species_picea__tree_heights_10-15__area_reg\n"
     ]
    },
    {
     "name": "stderr",
     "output_type": "stream",
     "text": [
      "100%|██████████| 68/68 [00:11<00:00,  5.96it/s]\n"
     ]
    },
    {
     "name": "stdout",
     "output_type": "stream",
     "text": [
      "\n",
      " - working on: species_picea__tree_heights_10-15__area_dep\n"
     ]
    },
    {
     "name": "stderr",
     "output_type": "stream",
     "text": [
      "100%|██████████| 279/279 [00:39<00:00,  7.13it/s]\n"
     ]
    },
    {
     "name": "stdout",
     "output_type": "stream",
     "text": [
      "\n",
      " - working on: species_picea__tree_heights_10-15__area_gre\n"
     ]
    },
    {
     "name": "stderr",
     "output_type": "stream",
     "text": [
      "100%|██████████| 55/55 [00:09<00:00,  5.73it/s]\n"
     ]
    },
    {
     "name": "stdout",
     "output_type": "stream",
     "text": [
      "\n",
      " - working on: species_picea__tree_heights_10-15__area_ser\n"
     ]
    },
    {
     "name": "stderr",
     "output_type": "stream",
     "text": [
      "100%|██████████| 235/235 [00:33<00:00,  7.02it/s]\n"
     ]
    },
    {
     "name": "stdout",
     "output_type": "stream",
     "text": [
      "\n",
      " - working on: species_picea__tree_heights_10-15__area_hex\n"
     ]
    },
    {
     "name": "stderr",
     "output_type": "stream",
     "text": [
      "100%|██████████| 416/416 [00:57<00:00,  7.25it/s]\n"
     ]
    },
    {
     "name": "stdout",
     "output_type": "stream",
     "text": [
      "\n",
      " - working on: species_picea__tree_heights_0-10__area_idp\n"
     ]
    },
    {
     "name": "stderr",
     "output_type": "stream",
     "text": [
      "100%|██████████| 1403/1403 [03:07<00:00,  7.47it/s]\n"
     ]
    },
    {
     "name": "stdout",
     "output_type": "stream",
     "text": [
      "\n",
      " - working on: species_picea__tree_heights_0-10__area_reg\n"
     ]
    },
    {
     "name": "stderr",
     "output_type": "stream",
     "text": [
      "100%|██████████| 67/67 [00:10<00:00,  6.10it/s]\n"
     ]
    },
    {
     "name": "stdout",
     "output_type": "stream",
     "text": [
      "\n",
      " - working on: species_picea__tree_heights_0-10__area_dep\n"
     ]
    },
    {
     "name": "stderr",
     "output_type": "stream",
     "text": [
      "100%|██████████| 293/293 [00:41<00:00,  7.11it/s]\n"
     ]
    },
    {
     "name": "stdout",
     "output_type": "stream",
     "text": [
      "\n",
      " - working on: species_picea__tree_heights_0-10__area_gre\n"
     ]
    },
    {
     "name": "stderr",
     "output_type": "stream",
     "text": [
      "100%|██████████| 57/57 [00:10<00:00,  5.54it/s]\n"
     ]
    },
    {
     "name": "stdout",
     "output_type": "stream",
     "text": [
      "\n",
      " - working on: species_picea__tree_heights_0-10__area_ser\n"
     ]
    },
    {
     "name": "stderr",
     "output_type": "stream",
     "text": [
      "100%|██████████| 231/231 [00:32<00:00,  7.01it/s]\n"
     ]
    },
    {
     "name": "stdout",
     "output_type": "stream",
     "text": [
      "\n",
      " - working on: species_picea__tree_heights_0-10__area_hex\n"
     ]
    },
    {
     "name": "stderr",
     "output_type": "stream",
     "text": [
      "100%|██████████| 413/413 [00:57<00:00,  7.21it/s]\n"
     ]
    },
    {
     "name": "stdout",
     "output_type": "stream",
     "text": [
      "\n",
      " - working on: species_picea__tree_heights_15-20__area_idp\n"
     ]
    },
    {
     "name": "stderr",
     "output_type": "stream",
     "text": [
      "100%|██████████| 1394/1394 [03:07<00:00,  7.45it/s]\n"
     ]
    },
    {
     "name": "stdout",
     "output_type": "stream",
     "text": [
      "\n",
      " - working on: species_picea__tree_heights_15-20__area_reg\n"
     ]
    },
    {
     "name": "stderr",
     "output_type": "stream",
     "text": [
      "100%|██████████| 71/71 [00:11<00:00,  5.97it/s]\n"
     ]
    },
    {
     "name": "stdout",
     "output_type": "stream",
     "text": [
      "\n",
      " - working on: species_picea__tree_heights_15-20__area_dep\n"
     ]
    },
    {
     "name": "stderr",
     "output_type": "stream",
     "text": [
      "100%|██████████| 316/316 [00:43<00:00,  7.22it/s]\n"
     ]
    },
    {
     "name": "stdout",
     "output_type": "stream",
     "text": [
      "\n",
      " - working on: species_picea__tree_heights_15-20__area_gre\n"
     ]
    },
    {
     "name": "stderr",
     "output_type": "stream",
     "text": [
      "100%|██████████| 57/57 [00:09<00:00,  5.91it/s]\n"
     ]
    },
    {
     "name": "stdout",
     "output_type": "stream",
     "text": [
      "\n",
      " - working on: species_picea__tree_heights_15-20__area_ser\n"
     ]
    },
    {
     "name": "stderr",
     "output_type": "stream",
     "text": [
      "100%|██████████| 251/251 [00:35<00:00,  7.11it/s]\n"
     ]
    },
    {
     "name": "stdout",
     "output_type": "stream",
     "text": [
      "\n",
      " - working on: species_picea__tree_heights_15-20__area_hex\n"
     ]
    },
    {
     "name": "stderr",
     "output_type": "stream",
     "text": [
      "100%|██████████| 461/461 [01:03<00:00,  7.30it/s]\n"
     ]
    },
    {
     "name": "stdout",
     "output_type": "stream",
     "text": [
      "\n",
      " - working on: species_picea__tree_heights_20-25__area_idp\n"
     ]
    },
    {
     "name": "stderr",
     "output_type": "stream",
     "text": [
      "100%|██████████| 1641/1641 [03:38<00:00,  7.51it/s]\n"
     ]
    },
    {
     "name": "stdout",
     "output_type": "stream",
     "text": [
      "\n",
      " - working on: species_picea__tree_heights_20-25__area_reg\n"
     ]
    },
    {
     "name": "stderr",
     "output_type": "stream",
     "text": [
      "100%|██████████| 73/73 [00:12<00:00,  5.94it/s]\n"
     ]
    },
    {
     "name": "stdout",
     "output_type": "stream",
     "text": [
      "\n",
      " - working on: species_picea__tree_heights_20-25__area_dep\n"
     ]
    },
    {
     "name": "stderr",
     "output_type": "stream",
     "text": [
      "100%|██████████| 319/319 [00:44<00:00,  7.19it/s]\n"
     ]
    },
    {
     "name": "stdout",
     "output_type": "stream",
     "text": [
      "\n",
      " - working on: species_picea__tree_heights_20-25__area_gre\n"
     ]
    },
    {
     "name": "stderr",
     "output_type": "stream",
     "text": [
      "100%|██████████| 57/57 [00:09<00:00,  5.70it/s]\n"
     ]
    },
    {
     "name": "stdout",
     "output_type": "stream",
     "text": [
      "\n",
      " - working on: species_picea__tree_heights_20-25__area_ser\n"
     ]
    },
    {
     "name": "stderr",
     "output_type": "stream",
     "text": [
      "100%|██████████| 242/242 [00:34<00:00,  7.04it/s]\n"
     ]
    },
    {
     "name": "stdout",
     "output_type": "stream",
     "text": [
      "\n",
      " - working on: species_picea__tree_heights_20-25__area_hex\n"
     ]
    },
    {
     "name": "stderr",
     "output_type": "stream",
     "text": [
      "100%|██████████| 482/482 [01:06<00:00,  7.29it/s]\n"
     ]
    },
    {
     "name": "stdout",
     "output_type": "stream",
     "text": [
      "\n",
      " - working on: species_picea__tree_heights_25+__area_idp\n"
     ]
    },
    {
     "name": "stderr",
     "output_type": "stream",
     "text": [
      "100%|██████████| 1682/1682 [03:42<00:00,  7.56it/s]\n"
     ]
    },
    {
     "name": "stdout",
     "output_type": "stream",
     "text": [
      "\n",
      " - working on: species_picea__tree_heights_25+__area_reg\n"
     ]
    },
    {
     "name": "stderr",
     "output_type": "stream",
     "text": [
      "100%|██████████| 64/64 [00:10<00:00,  5.97it/s]\n"
     ]
    },
    {
     "name": "stdout",
     "output_type": "stream",
     "text": [
      "\n",
      " - working on: species_picea__tree_heights_25+__area_dep\n"
     ]
    },
    {
     "name": "stderr",
     "output_type": "stream",
     "text": [
      "100%|██████████| 281/281 [00:39<00:00,  7.20it/s]\n"
     ]
    },
    {
     "name": "stdout",
     "output_type": "stream",
     "text": [
      "\n",
      " - working on: species_picea__tree_heights_25+__area_gre\n"
     ]
    },
    {
     "name": "stderr",
     "output_type": "stream",
     "text": [
      "100%|██████████| 56/56 [00:09<00:00,  5.79it/s]\n"
     ]
    },
    {
     "name": "stdout",
     "output_type": "stream",
     "text": [
      "\n",
      " - working on: species_picea__tree_heights_25+__area_ser\n"
     ]
    },
    {
     "name": "stderr",
     "output_type": "stream",
     "text": [
      "100%|██████████| 219/219 [00:31<00:00,  6.94it/s]\n"
     ]
    },
    {
     "name": "stdout",
     "output_type": "stream",
     "text": [
      "\n",
      " - working on: species_picea__tree_heights_25+__area_hex\n"
     ]
    },
    {
     "name": "stderr",
     "output_type": "stream",
     "text": [
      "100%|██████████| 415/415 [00:56<00:00,  7.34it/s]\n"
     ]
    },
    {
     "name": "stdout",
     "output_type": "stream",
     "text": [
      "\n",
      " - working on: species_fraxinus__tree_heights_all__area_idp\n"
     ]
    },
    {
     "name": "stderr",
     "output_type": "stream",
     "text": [
      "100%|██████████| 5752/5752 [15:50<00:00,  6.05it/s]   \n"
     ]
    },
    {
     "name": "stdout",
     "output_type": "stream",
     "text": [
      "\n",
      " - working on: species_fraxinus__tree_heights_all__area_reg\n"
     ]
    },
    {
     "name": "stderr",
     "output_type": "stream",
     "text": [
      "100%|██████████| 91/91 [00:14<00:00,  6.14it/s]\n"
     ]
    },
    {
     "name": "stdout",
     "output_type": "stream",
     "text": [
      "\n",
      " - working on: species_fraxinus__tree_heights_all__area_dep\n"
     ]
    },
    {
     "name": "stderr",
     "output_type": "stream",
     "text": [
      "100%|██████████| 606/606 [01:24<00:00,  7.16it/s]\n"
     ]
    },
    {
     "name": "stdout",
     "output_type": "stream",
     "text": [
      "\n",
      " - working on: species_fraxinus__tree_heights_all__area_gre\n"
     ]
    },
    {
     "name": "stderr",
     "output_type": "stream",
     "text": [
      "100%|██████████| 77/77 [00:12<00:00,  6.02it/s]\n"
     ]
    },
    {
     "name": "stdout",
     "output_type": "stream",
     "text": [
      "\n",
      " - working on: species_fraxinus__tree_heights_all__area_ser\n"
     ]
    },
    {
     "name": "stderr",
     "output_type": "stream",
     "text": [
      "100%|██████████| 555/555 [01:17<00:00,  7.19it/s]\n"
     ]
    },
    {
     "name": "stdout",
     "output_type": "stream",
     "text": [
      "\n",
      " - working on: species_fraxinus__tree_heights_all__area_hex\n"
     ]
    },
    {
     "name": "stderr",
     "output_type": "stream",
     "text": [
      "100%|██████████| 1193/1193 [02:45<00:00,  7.20it/s]\n"
     ]
    },
    {
     "name": "stdout",
     "output_type": "stream",
     "text": [
      "\n",
      " - working on: species_fraxinus__tree_heights_10-15__area_idp\n"
     ]
    },
    {
     "name": "stderr",
     "output_type": "stream",
     "text": [
      "100%|██████████| 2447/2447 [05:33<00:00,  7.34it/s]\n"
     ]
    },
    {
     "name": "stdout",
     "output_type": "stream",
     "text": [
      "\n",
      " - working on: species_fraxinus__tree_heights_10-15__area_reg\n"
     ]
    },
    {
     "name": "stderr",
     "output_type": "stream",
     "text": [
      "100%|██████████| 90/90 [00:15<00:00,  5.63it/s]\n"
     ]
    },
    {
     "name": "stdout",
     "output_type": "stream",
     "text": [
      "\n",
      " - working on: species_fraxinus__tree_heights_10-15__area_dep\n"
     ]
    },
    {
     "name": "stderr",
     "output_type": "stream",
     "text": [
      "100%|██████████| 556/556 [01:21<00:00,  6.84it/s]\n"
     ]
    },
    {
     "name": "stdout",
     "output_type": "stream",
     "text": [
      "\n",
      " - working on: species_fraxinus__tree_heights_10-15__area_gre\n"
     ]
    },
    {
     "name": "stderr",
     "output_type": "stream",
     "text": [
      "100%|██████████| 77/77 [00:13<00:00,  5.52it/s]\n"
     ]
    },
    {
     "name": "stdout",
     "output_type": "stream",
     "text": [
      "\n",
      " - working on: species_fraxinus__tree_heights_10-15__area_ser\n"
     ]
    },
    {
     "name": "stderr",
     "output_type": "stream",
     "text": [
      "100%|██████████| 494/494 [01:07<00:00,  7.35it/s]\n"
     ]
    },
    {
     "name": "stdout",
     "output_type": "stream",
     "text": [
      "\n",
      " - working on: species_fraxinus__tree_heights_10-15__area_hex\n"
     ]
    },
    {
     "name": "stderr",
     "output_type": "stream",
     "text": [
      "100%|██████████| 950/950 [02:10<00:00,  7.27it/s]\n"
     ]
    },
    {
     "name": "stdout",
     "output_type": "stream",
     "text": [
      "\n",
      " - working on: species_fraxinus__tree_heights_0-10__area_idp\n"
     ]
    },
    {
     "name": "stderr",
     "output_type": "stream",
     "text": [
      "100%|██████████| 1284/1284 [02:50<00:00,  7.52it/s]\n"
     ]
    },
    {
     "name": "stdout",
     "output_type": "stream",
     "text": [
      "\n",
      " - working on: species_fraxinus__tree_heights_0-10__area_reg\n"
     ]
    },
    {
     "name": "stderr",
     "output_type": "stream",
     "text": [
      "100%|██████████| 87/87 [00:14<00:00,  6.08it/s]\n"
     ]
    },
    {
     "name": "stdout",
     "output_type": "stream",
     "text": [
      "\n",
      " - working on: species_fraxinus__tree_heights_0-10__area_dep\n"
     ]
    },
    {
     "name": "stderr",
     "output_type": "stream",
     "text": [
      "100%|██████████| 466/466 [01:07<00:00,  6.95it/s]\n"
     ]
    },
    {
     "name": "stdout",
     "output_type": "stream",
     "text": [
      "\n",
      " - working on: species_fraxinus__tree_heights_0-10__area_gre\n"
     ]
    },
    {
     "name": "stderr",
     "output_type": "stream",
     "text": [
      "100%|██████████| 76/76 [00:13<00:00,  5.83it/s]\n"
     ]
    },
    {
     "name": "stdout",
     "output_type": "stream",
     "text": [
      "\n",
      " - working on: species_fraxinus__tree_heights_0-10__area_ser\n"
     ]
    },
    {
     "name": "stderr",
     "output_type": "stream",
     "text": [
      "100%|██████████| 416/416 [00:59<00:00,  7.02it/s]\n"
     ]
    },
    {
     "name": "stdout",
     "output_type": "stream",
     "text": [
      "\n",
      " - working on: species_fraxinus__tree_heights_0-10__area_hex\n"
     ]
    },
    {
     "name": "stderr",
     "output_type": "stream",
     "text": [
      "100%|██████████| 724/724 [01:39<00:00,  7.25it/s]\n"
     ]
    },
    {
     "name": "stdout",
     "output_type": "stream",
     "text": [
      "\n",
      " - working on: species_fraxinus__tree_heights_15-20__area_idp\n"
     ]
    },
    {
     "name": "stderr",
     "output_type": "stream",
     "text": [
      "100%|██████████| 2028/2028 [04:40<00:00,  7.24it/s]\n"
     ]
    },
    {
     "name": "stdout",
     "output_type": "stream",
     "text": [
      "\n",
      " - working on: species_fraxinus__tree_heights_15-20__area_reg\n"
     ]
    },
    {
     "name": "stderr",
     "output_type": "stream",
     "text": [
      "100%|██████████| 88/88 [00:14<00:00,  6.06it/s]\n"
     ]
    },
    {
     "name": "stdout",
     "output_type": "stream",
     "text": [
      "\n",
      " - working on: species_fraxinus__tree_heights_15-20__area_dep\n"
     ]
    },
    {
     "name": "stderr",
     "output_type": "stream",
     "text": [
      "100%|██████████| 494/494 [01:07<00:00,  7.27it/s]\n"
     ]
    },
    {
     "name": "stdout",
     "output_type": "stream",
     "text": [
      "\n",
      " - working on: species_fraxinus__tree_heights_15-20__area_gre\n"
     ]
    },
    {
     "name": "stderr",
     "output_type": "stream",
     "text": [
      "100%|██████████| 74/74 [00:11<00:00,  6.29it/s]\n"
     ]
    },
    {
     "name": "stdout",
     "output_type": "stream",
     "text": [
      "\n",
      " - working on: species_fraxinus__tree_heights_15-20__area_ser\n"
     ]
    },
    {
     "name": "stderr",
     "output_type": "stream",
     "text": [
      "100%|██████████| 449/449 [01:03<00:00,  7.05it/s]\n"
     ]
    },
    {
     "name": "stdout",
     "output_type": "stream",
     "text": [
      "\n",
      " - working on: species_fraxinus__tree_heights_15-20__area_hex\n"
     ]
    },
    {
     "name": "stderr",
     "output_type": "stream",
     "text": [
      "100%|██████████| 821/821 [01:52<00:00,  7.32it/s]\n"
     ]
    },
    {
     "name": "stdout",
     "output_type": "stream",
     "text": [
      "\n",
      " - working on: species_fraxinus__tree_heights_20-25__area_idp\n"
     ]
    },
    {
     "name": "stderr",
     "output_type": "stream",
     "text": [
      "100%|██████████| 1792/1792 [04:07<00:00,  7.23it/s]\n"
     ]
    },
    {
     "name": "stdout",
     "output_type": "stream",
     "text": [
      "\n",
      " - working on: species_fraxinus__tree_heights_20-25__area_reg\n"
     ]
    },
    {
     "name": "stderr",
     "output_type": "stream",
     "text": [
      "100%|██████████| 80/80 [00:13<00:00,  6.12it/s]\n"
     ]
    },
    {
     "name": "stdout",
     "output_type": "stream",
     "text": [
      "\n",
      " - working on: species_fraxinus__tree_heights_20-25__area_dep\n"
     ]
    },
    {
     "name": "stderr",
     "output_type": "stream",
     "text": [
      "100%|██████████| 443/443 [01:03<00:00,  7.00it/s]\n"
     ]
    },
    {
     "name": "stdout",
     "output_type": "stream",
     "text": [
      "\n",
      " - working on: species_fraxinus__tree_heights_20-25__area_gre\n"
     ]
    },
    {
     "name": "stderr",
     "output_type": "stream",
     "text": [
      "100%|██████████| 71/71 [00:12<00:00,  5.72it/s]\n"
     ]
    },
    {
     "name": "stdout",
     "output_type": "stream",
     "text": [
      "\n",
      " - working on: species_fraxinus__tree_heights_20-25__area_ser\n"
     ]
    },
    {
     "name": "stderr",
     "output_type": "stream",
     "text": [
      "100%|██████████| 386/386 [00:56<00:00,  6.89it/s]\n"
     ]
    },
    {
     "name": "stdout",
     "output_type": "stream",
     "text": [
      "\n",
      " - working on: species_fraxinus__tree_heights_20-25__area_hex\n"
     ]
    },
    {
     "name": "stderr",
     "output_type": "stream",
     "text": [
      "100%|██████████| 735/735 [01:38<00:00,  7.44it/s]\n"
     ]
    },
    {
     "name": "stdout",
     "output_type": "stream",
     "text": [
      "\n",
      " - working on: species_fraxinus__tree_heights_25+__area_idp\n"
     ]
    },
    {
     "name": "stderr",
     "output_type": "stream",
     "text": [
      "100%|██████████| 1427/1427 [03:21<00:00,  7.08it/s]\n"
     ]
    },
    {
     "name": "stdout",
     "output_type": "stream",
     "text": [
      "\n",
      " - working on: species_fraxinus__tree_heights_25+__area_reg\n"
     ]
    },
    {
     "name": "stderr",
     "output_type": "stream",
     "text": [
      "100%|██████████| 67/67 [00:12<00:00,  5.51it/s]\n"
     ]
    },
    {
     "name": "stdout",
     "output_type": "stream",
     "text": [
      "\n",
      " - working on: species_fraxinus__tree_heights_25+__area_dep\n"
     ]
    },
    {
     "name": "stderr",
     "output_type": "stream",
     "text": [
      "100%|██████████| 366/366 [00:55<00:00,  6.62it/s]\n"
     ]
    },
    {
     "name": "stdout",
     "output_type": "stream",
     "text": [
      "\n",
      " - working on: species_fraxinus__tree_heights_25+__area_gre\n"
     ]
    },
    {
     "name": "stderr",
     "output_type": "stream",
     "text": [
      "100%|██████████| 62/62 [00:14<00:00,  4.17it/s]\n"
     ]
    },
    {
     "name": "stdout",
     "output_type": "stream",
     "text": [
      "\n",
      " - working on: species_fraxinus__tree_heights_25+__area_ser\n"
     ]
    },
    {
     "name": "stderr",
     "output_type": "stream",
     "text": [
      "100%|██████████| 314/314 [01:20<00:00,  3.91it/s]\n"
     ]
    },
    {
     "name": "stdout",
     "output_type": "stream",
     "text": [
      "\n",
      " - working on: species_fraxinus__tree_heights_25+__area_hex\n"
     ]
    },
    {
     "name": "stderr",
     "output_type": "stream",
     "text": [
      "100%|██████████| 597/597 [01:41<00:00,  5.86it/s]\n"
     ]
    },
    {
     "name": "stdout",
     "output_type": "stream",
     "text": [
      "\n",
      " - working on: species_acer__tree_heights_all__area_idp\n"
     ]
    },
    {
     "name": "stderr",
     "output_type": "stream",
     "text": [
      "100%|██████████| 5546/5546 [14:27<00:00,  6.40it/s]\n"
     ]
    },
    {
     "name": "stdout",
     "output_type": "stream",
     "text": [
      "\n",
      " - working on: species_acer__tree_heights_all__area_reg\n"
     ]
    },
    {
     "name": "stderr",
     "output_type": "stream",
     "text": [
      "100%|██████████| 89/89 [00:14<00:00,  6.17it/s]\n"
     ]
    },
    {
     "name": "stdout",
     "output_type": "stream",
     "text": [
      "\n",
      " - working on: species_acer__tree_heights_all__area_dep\n"
     ]
    },
    {
     "name": "stderr",
     "output_type": "stream",
     "text": [
      "100%|██████████| 598/598 [01:24<00:00,  7.07it/s]\n"
     ]
    },
    {
     "name": "stdout",
     "output_type": "stream",
     "text": [
      "\n",
      " - working on: species_acer__tree_heights_all__area_gre\n"
     ]
    },
    {
     "name": "stderr",
     "output_type": "stream",
     "text": [
      "100%|██████████| 75/75 [00:13<00:00,  5.63it/s]\n"
     ]
    },
    {
     "name": "stdout",
     "output_type": "stream",
     "text": [
      "\n",
      " - working on: species_acer__tree_heights_all__area_ser\n"
     ]
    },
    {
     "name": "stderr",
     "output_type": "stream",
     "text": [
      "100%|██████████| 511/511 [01:11<00:00,  7.15it/s]\n"
     ]
    },
    {
     "name": "stdout",
     "output_type": "stream",
     "text": [
      "\n",
      " - working on: species_acer__tree_heights_all__area_hex\n"
     ]
    },
    {
     "name": "stderr",
     "output_type": "stream",
     "text": [
      "100%|██████████| 1081/1081 [02:29<00:00,  7.25it/s]\n"
     ]
    },
    {
     "name": "stdout",
     "output_type": "stream",
     "text": [
      "\n",
      " - working on: species_acer__tree_heights_10-15__area_idp\n"
     ]
    },
    {
     "name": "stderr",
     "output_type": "stream",
     "text": [
      "100%|██████████| 2637/2637 [06:03<00:00,  7.26it/s]\n"
     ]
    },
    {
     "name": "stdout",
     "output_type": "stream",
     "text": [
      "\n",
      " - working on: species_acer__tree_heights_10-15__area_reg\n"
     ]
    },
    {
     "name": "stderr",
     "output_type": "stream",
     "text": [
      "100%|██████████| 87/87 [00:14<00:00,  6.12it/s]\n"
     ]
    },
    {
     "name": "stdout",
     "output_type": "stream",
     "text": [
      "\n",
      " - working on: species_acer__tree_heights_10-15__area_dep\n"
     ]
    },
    {
     "name": "stderr",
     "output_type": "stream",
     "text": [
      "100%|██████████| 522/522 [01:13<00:00,  7.11it/s]\n"
     ]
    },
    {
     "name": "stdout",
     "output_type": "stream",
     "text": [
      "\n",
      " - working on: species_acer__tree_heights_10-15__area_gre\n"
     ]
    },
    {
     "name": "stderr",
     "output_type": "stream",
     "text": [
      "100%|██████████| 73/73 [00:12<00:00,  5.74it/s]\n"
     ]
    },
    {
     "name": "stdout",
     "output_type": "stream",
     "text": [
      "\n",
      " - working on: species_acer__tree_heights_10-15__area_ser\n"
     ]
    },
    {
     "name": "stderr",
     "output_type": "stream",
     "text": [
      "100%|██████████| 435/435 [01:00<00:00,  7.25it/s]\n"
     ]
    },
    {
     "name": "stdout",
     "output_type": "stream",
     "text": [
      "\n",
      " - working on: species_acer__tree_heights_10-15__area_hex\n"
     ]
    },
    {
     "name": "stderr",
     "output_type": "stream",
     "text": [
      "100%|██████████| 840/840 [02:01<00:00,  6.92it/s]\n"
     ]
    },
    {
     "name": "stdout",
     "output_type": "stream",
     "text": [
      "\n",
      " - working on: species_acer__tree_heights_0-10__area_idp\n"
     ]
    },
    {
     "name": "stderr",
     "output_type": "stream",
     "text": [
      "100%|██████████| 2022/2022 [04:35<00:00,  7.35it/s]\n"
     ]
    },
    {
     "name": "stdout",
     "output_type": "stream",
     "text": [
      "\n",
      " - working on: species_acer__tree_heights_0-10__area_reg\n"
     ]
    },
    {
     "name": "stderr",
     "output_type": "stream",
     "text": [
      "100%|██████████| 87/87 [00:14<00:00,  6.03it/s]\n"
     ]
    },
    {
     "name": "stdout",
     "output_type": "stream",
     "text": [
      "\n",
      " - working on: species_acer__tree_heights_0-10__area_dep\n"
     ]
    },
    {
     "name": "stderr",
     "output_type": "stream",
     "text": [
      "100%|██████████| 517/517 [01:09<00:00,  7.39it/s]\n"
     ]
    },
    {
     "name": "stdout",
     "output_type": "stream",
     "text": [
      "\n",
      " - working on: species_acer__tree_heights_0-10__area_gre\n"
     ]
    },
    {
     "name": "stderr",
     "output_type": "stream",
     "text": [
      "100%|██████████| 74/74 [00:11<00:00,  6.21it/s]\n"
     ]
    },
    {
     "name": "stdout",
     "output_type": "stream",
     "text": [
      "\n",
      " - working on: species_acer__tree_heights_0-10__area_ser\n"
     ]
    },
    {
     "name": "stderr",
     "output_type": "stream",
     "text": [
      "100%|██████████| 430/430 [01:00<00:00,  7.06it/s]\n"
     ]
    },
    {
     "name": "stdout",
     "output_type": "stream",
     "text": [
      "\n",
      " - working on: species_acer__tree_heights_0-10__area_hex\n"
     ]
    },
    {
     "name": "stderr",
     "output_type": "stream",
     "text": [
      "100%|██████████| 796/796 [01:55<00:00,  6.90it/s]\n"
     ]
    },
    {
     "name": "stdout",
     "output_type": "stream",
     "text": [
      "\n",
      " - working on: species_acer__tree_heights_15-20__area_idp\n"
     ]
    },
    {
     "name": "stderr",
     "output_type": "stream",
     "text": [
      "100%|██████████| 1694/1694 [04:11<00:00,  6.74it/s]\n"
     ]
    },
    {
     "name": "stdout",
     "output_type": "stream",
     "text": [
      "\n",
      " - working on: species_acer__tree_heights_15-20__area_reg\n"
     ]
    },
    {
     "name": "stderr",
     "output_type": "stream",
     "text": [
      "100%|██████████| 79/79 [00:13<00:00,  6.00it/s]\n"
     ]
    },
    {
     "name": "stdout",
     "output_type": "stream",
     "text": [
      "\n",
      " - working on: species_acer__tree_heights_15-20__area_dep\n"
     ]
    },
    {
     "name": "stderr",
     "output_type": "stream",
     "text": [
      "100%|██████████| 413/413 [00:56<00:00,  7.25it/s]\n"
     ]
    },
    {
     "name": "stdout",
     "output_type": "stream",
     "text": [
      "\n",
      " - working on: species_acer__tree_heights_15-20__area_gre\n"
     ]
    },
    {
     "name": "stderr",
     "output_type": "stream",
     "text": [
      " 27%|██▋       | 18/67 [00:05<00:13,  3.52it/s]\n"
     ]
    },
    {
     "ename": "KeyboardInterrupt",
     "evalue": "",
     "output_type": "error",
     "traceback": [
      "\u001b[0;31m---------------------------------------------------------------------------\u001b[0m",
      "\u001b[0;31mKeyboardInterrupt\u001b[0m                         Traceback (most recent call last)",
      "Cell \u001b[0;32mIn[392], line 47\u001b[0m\n\u001b[1;32m     43\u001b[0m \u001b[38;5;66;03m# Create list and run mp\u001b[39;00m\n\u001b[1;32m     44\u001b[0m df_list \u001b[38;5;241m=\u001b[39m [\n\u001b[1;32m     45\u001b[0m     group \u001b[38;5;28;01mfor\u001b[39;00m name, group \u001b[38;5;129;01min\u001b[39;00m df_loop\u001b[38;5;241m.\u001b[39mgroupby(my_region, as_index\u001b[38;5;241m=\u001b[39m\u001b[38;5;28;01mFalse\u001b[39;00m)\n\u001b[1;32m     46\u001b[0m ]\n\u001b[0;32m---> 47\u001b[0m df_mp \u001b[38;5;241m=\u001b[39m \u001b[43mrun_mp\u001b[49m\u001b[43m(\u001b[49m\n\u001b[1;32m     48\u001b[0m \u001b[43m    \u001b[49m\u001b[43mcalculate_growth_mortality\u001b[49m\u001b[43m,\u001b[49m\n\u001b[1;32m     49\u001b[0m \u001b[43m    \u001b[49m\u001b[43mdf_list\u001b[49m\u001b[43m,\u001b[49m\n\u001b[1;32m     50\u001b[0m \u001b[43m    \u001b[49m\u001b[43mcombine_func\u001b[49m\u001b[38;5;241;43m=\u001b[39;49m\u001b[43mpd\u001b[49m\u001b[38;5;241;43m.\u001b[39;49m\u001b[43mconcat\u001b[49m\u001b[43m,\u001b[49m\n\u001b[1;32m     51\u001b[0m \u001b[43m    \u001b[49m\u001b[43mprogress_bar\u001b[49m\u001b[38;5;241;43m=\u001b[39;49m\u001b[38;5;28;43;01mTrue\u001b[39;49;00m\u001b[43m,\u001b[49m\n\u001b[1;32m     52\u001b[0m \u001b[43m    \u001b[49m\u001b[43mnum_cores\u001b[49m\u001b[38;5;241;43m=\u001b[39;49m\u001b[38;5;241;43m10\u001b[39;49m\u001b[43m,\u001b[49m\n\u001b[1;32m     53\u001b[0m \u001b[43m    \u001b[49m\u001b[43mmin_trees_per_plot\u001b[49m\u001b[38;5;241;43m=\u001b[39;49m\u001b[38;5;241;43m1\u001b[39;49m\u001b[43m,\u001b[49m\n\u001b[1;32m     54\u001b[0m \u001b[43m    \u001b[49m\u001b[43mgrouping_variable\u001b[49m\u001b[38;5;241;43m=\u001b[39;49m\u001b[43mmy_region\u001b[49m\u001b[43m,\u001b[49m\n\u001b[1;32m     55\u001b[0m \u001b[43m\u001b[49m\u001b[43m)\u001b[49m\n\u001b[1;32m     57\u001b[0m \u001b[38;5;66;03m# Save df\u001b[39;00m\n\u001b[1;32m     58\u001b[0m my_dir \u001b[38;5;241m=\u001b[39m here(\u001b[38;5;28mstr\u001b[39m\u001b[38;5;241m.\u001b[39mlower(\u001b[38;5;124mf\u001b[39m\u001b[38;5;124m\"\u001b[39m\u001b[38;5;124mdata/tmp/dfs_metrics_of_change/area-level/\u001b[39m\u001b[38;5;124m\"\u001b[39m))\n",
      "File \u001b[0;32m~/repos/padasch/ifn_analysis/python/00_process_nfi_data/../../src/run_mp.py:50\u001b[0m, in \u001b[0;36mrun_mp\u001b[0;34m(map_func, arg_list, combine_func, num_cores, split_arg, progress_bar, **kwargs)\u001b[0m\n\u001b[1;32m     47\u001b[0m         results \u001b[38;5;241m=\u001b[39m []\n\u001b[1;32m     49\u001b[0m         \u001b[38;5;28;01mfor\u001b[39;00m future \u001b[38;5;129;01min\u001b[39;00m futures:\n\u001b[0;32m---> 50\u001b[0m             result \u001b[38;5;241m=\u001b[39m \u001b[43mfuture\u001b[49m\u001b[38;5;241;43m.\u001b[39;49m\u001b[43mresult\u001b[49m\u001b[43m(\u001b[49m\u001b[43m)\u001b[49m\n\u001b[1;32m     51\u001b[0m             results\u001b[38;5;241m.\u001b[39mappend(result)\n\u001b[1;32m     53\u001b[0m \u001b[38;5;28;01mif\u001b[39;00m combine_func \u001b[38;5;129;01mis\u001b[39;00m \u001b[38;5;129;01mnot\u001b[39;00m \u001b[38;5;28;01mNone\u001b[39;00m:\n",
      "File \u001b[0;32m~/anaconda3/lib/python3.10/concurrent/futures/_base.py:453\u001b[0m, in \u001b[0;36mFuture.result\u001b[0;34m(self, timeout)\u001b[0m\n\u001b[1;32m    450\u001b[0m \u001b[38;5;28;01melif\u001b[39;00m \u001b[38;5;28mself\u001b[39m\u001b[38;5;241m.\u001b[39m_state \u001b[38;5;241m==\u001b[39m FINISHED:\n\u001b[1;32m    451\u001b[0m     \u001b[38;5;28;01mreturn\u001b[39;00m \u001b[38;5;28mself\u001b[39m\u001b[38;5;241m.\u001b[39m__get_result()\n\u001b[0;32m--> 453\u001b[0m \u001b[38;5;28;43mself\u001b[39;49m\u001b[38;5;241;43m.\u001b[39;49m\u001b[43m_condition\u001b[49m\u001b[38;5;241;43m.\u001b[39;49m\u001b[43mwait\u001b[49m\u001b[43m(\u001b[49m\u001b[43mtimeout\u001b[49m\u001b[43m)\u001b[49m\n\u001b[1;32m    455\u001b[0m \u001b[38;5;28;01mif\u001b[39;00m \u001b[38;5;28mself\u001b[39m\u001b[38;5;241m.\u001b[39m_state \u001b[38;5;129;01min\u001b[39;00m [CANCELLED, CANCELLED_AND_NOTIFIED]:\n\u001b[1;32m    456\u001b[0m     \u001b[38;5;28;01mraise\u001b[39;00m CancelledError()\n",
      "File \u001b[0;32m~/anaconda3/lib/python3.10/threading.py:320\u001b[0m, in \u001b[0;36mCondition.wait\u001b[0;34m(self, timeout)\u001b[0m\n\u001b[1;32m    318\u001b[0m \u001b[38;5;28;01mtry\u001b[39;00m:    \u001b[38;5;66;03m# restore state no matter what (e.g., KeyboardInterrupt)\u001b[39;00m\n\u001b[1;32m    319\u001b[0m     \u001b[38;5;28;01mif\u001b[39;00m timeout \u001b[38;5;129;01mis\u001b[39;00m \u001b[38;5;28;01mNone\u001b[39;00m:\n\u001b[0;32m--> 320\u001b[0m         \u001b[43mwaiter\u001b[49m\u001b[38;5;241;43m.\u001b[39;49m\u001b[43macquire\u001b[49m\u001b[43m(\u001b[49m\u001b[43m)\u001b[49m\n\u001b[1;32m    321\u001b[0m         gotit \u001b[38;5;241m=\u001b[39m \u001b[38;5;28;01mTrue\u001b[39;00m\n\u001b[1;32m    322\u001b[0m     \u001b[38;5;28;01melse\u001b[39;00m:\n",
      "\u001b[0;31mKeyboardInterrupt\u001b[0m: "
     ]
    }
   ],
   "source": [
    "# Calculate metrics of change at region-level\n",
    "all_regions = [\"idp\", \"reg\", \"dep\", \"gre\", \"ser\", \"hex\"]\n",
    "all_species = [\"all\"] + df_merged[\"genus_lat\"].value_counts().head(10).index.tolist()\n",
    "all_heights = [\"all\"] + df_merged[\"tree_height_class\"].value_counts().index.tolist()\n",
    "all_heights.remove(\"Missing\")\n",
    "\n",
    "from utilities import calculate_growth_mortality\n",
    "from run_mp import run_mp\n",
    "\n",
    "df_in = df_merged.copy()\n",
    "group_per_height = True\n",
    "\n",
    "for my_species in all_species:\n",
    "    for my_height in all_heights:\n",
    "        # Get new df\n",
    "        df_loop = df_in.copy()\n",
    "        # Filter for species\n",
    "        if my_species != \"all\":\n",
    "            df_loop = df_loop.query(f\"genus_lat == '{my_species}'\")\n",
    "        # Filter for height\n",
    "        if my_height != \"all\":\n",
    "            df_loop = df_loop.query(f\"tree_height_class == '{my_height}'\")\n",
    "\n",
    "        for my_region in all_regions:\n",
    "            my_file = str.lower(\n",
    "                f\"species_{my_species}__tree_heights_{my_height}__area_{my_region}\"\n",
    "            )\n",
    "\n",
    "            print(str.lower(f\"\\n - Working on: {my_file}\"))\n",
    "\n",
    "            my_region_tmp = my_region\n",
    "\n",
    "            # IDP holds year information, so no need to add there\n",
    "            # But grouping for other regions need this information\n",
    "            if my_region != \"idp\":\n",
    "                my_region = my_region + \"_year\"\n",
    "                df_loop[my_region] = (\n",
    "                    df_loop[my_region_tmp].astype(str)\n",
    "                    + \"_\"\n",
    "                    + df_loop[\"campagne_1\"].astype(str)\n",
    "                )\n",
    "\n",
    "            # Create list and run mp\n",
    "            df_list = [\n",
    "                group for name, group in df_loop.groupby(my_region, as_index=False)\n",
    "            ]\n",
    "            df_mp = run_mp(\n",
    "                calculate_growth_mortality,\n",
    "                df_list,\n",
    "                combine_func=pd.concat,\n",
    "                progress_bar=True,\n",
    "                num_cores=10,\n",
    "                min_trees_per_plot=1,\n",
    "                grouping_variable=my_region,\n",
    "            )\n",
    "\n",
    "            # Save df\n",
    "            my_dir = here(str.lower(f\"data/tmp/dfs_metrics_of_change/area-level/\"))\n",
    "            if not os.path.exists(my_dir):\n",
    "                os.makedirs(my_dir)\n",
    "            df_mp.reset_index(drop=True).to_feather(f\"{my_dir}/{my_file}.feather\")"
   ]
  },
  {
   "cell_type": "markdown",
   "metadata": {},
   "source": [
    "### Aggregated by idp\n"
   ]
  },
  {
   "cell_type": "code",
   "execution_count": 393,
   "metadata": {},
   "outputs": [
    {
     "name": "stderr",
     "output_type": "stream",
     "text": [
      "100%|██████████| 58/58 [00:05<00:00, 11.05it/s]\n"
     ]
    }
   ],
   "source": [
    "all_regions = [\"reg\", \"dep\", \"gre\", \"ser\", \"hex\"]\n",
    "# List all idp-level aggregates\n",
    "pattern = \"*idp.feather\"\n",
    "all_files = glob.glob(\n",
    "    here(\"data/tmp/dfs_metrics_of_change/area-level/\" + pattern).as_posix()\n",
    ")\n",
    "for my_file in tqdm(all_files):\n",
    "    for my_region in all_regions:\n",
    "        # print(\n",
    "        #     f\" - Working on: {my_file.rsplit('/', 1)[1]} \\t aggregating to {my_region}\"\n",
    "        # )\n",
    "\n",
    "        # Read df\n",
    "        my_df = pd.read_feather(my_file)\n",
    "        # Attach spatial and temporal information\n",
    "        my_df = pd.merge(\n",
    "            my_df,\n",
    "            nfi_site_addinfo[[\"campagne_1\", \"idp\", my_region]],\n",
    "            how=\"left\",\n",
    "        )\n",
    "        # Create new grouping variable region_year\n",
    "        my_group = my_region + \"_year\"\n",
    "        my_df[my_group] = (\n",
    "            my_df[my_region].astype(str) + \"_\" + my_df[\"campagne_1\"].astype(str)\n",
    "        )\n",
    "        my_df = my_df.drop(columns=[my_region, \"campagne_1\", \"idp\"])\n",
    "        # Take mean and sd of all variables and set as new columns\n",
    "        my_df = my_df.groupby(my_group).agg([\"mean\", \"std\"]).reset_index()\n",
    "        my_df.columns = [my_group] + [\n",
    "            \"_\".join(col).strip() for col in my_df.columns.values.tolist()[1:]\n",
    "        ]\n",
    "        # Change filename\n",
    "        my_new_file = my_file.replace(\"idp\", my_region)\n",
    "        my_new_file = my_new_file.replace(\"area-level\", \"aggregated-by-idp\")\n",
    "        # Split at last / and get first part to get directory\n",
    "        my_dir = my_new_file.rsplit(\"/\", 1)[0]\n",
    "        if not os.path.exists(my_dir):\n",
    "            os.makedirs(my_dir)\n",
    "        # Save df\n",
    "        my_df.reset_index(drop=True).to_feather(my_new_file)"
   ]
  },
  {
   "cell_type": "markdown",
   "metadata": {},
   "source": [
    "## Add Information\n"
   ]
  },
  {
   "cell_type": "markdown",
   "metadata": {},
   "source": [
    "### Site-to-Site Level\n"
   ]
  },
  {
   "cell_type": "markdown",
   "metadata": {},
   "source": [
    "### Tree-to-Site Level\n"
   ]
  },
  {
   "cell_type": "markdown",
   "metadata": {},
   "source": [
    "### Site-to-Region Level\n",
    "\n",
    "If required, aggregate information at the stand level to the spatial region of interest (ser, gre, dep, reg, hex)\n"
   ]
  },
  {
   "cell_type": "markdown",
   "metadata": {},
   "source": [
    "## Save Dataframe for RF Analysis\n"
   ]
  },
  {
   "cell_type": "code",
   "execution_count": null,
   "metadata": {},
   "outputs": [],
   "source": [
    "df_final = xxx.copy()\n",
    "\n",
    "df_final.to_feather(\"nfi_ready_for_analysis.feather\")"
   ]
  }
 ],
 "metadata": {
  "kernelspec": {
   "display_name": "ifna-venv",
   "language": "python",
   "name": "python3"
  },
  "language_info": {
   "codemirror_mode": {
    "name": "ipython",
    "version": 3
   },
   "file_extension": ".py",
   "mimetype": "text/x-python",
   "name": "python",
   "nbconvert_exporter": "python",
   "pygments_lexer": "ipython3",
   "version": "3.10.9"
  }
 },
 "nbformat": 4,
 "nbformat_minor": 2
}
