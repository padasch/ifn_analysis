{
 "cells": [
  {
   "cell_type": "markdown",
   "metadata": {},
   "source": [
    "# Extract coordinates from nfi data\n"
   ]
  },
  {
   "cell_type": "code",
   "execution_count": 1,
   "metadata": {},
   "outputs": [],
   "source": [
    "import pandas as pd\n",
    "import glob\n",
    "from datetime import datetime\n",
    "import os.path\n",
    "import geopandas as gpd\n",
    "from shapely.geometry import Point\n",
    "from pyprojroot.here import here\n",
    "\n",
    "import sys\n",
    "\n",
    "sys.path.insert(0, \"../../src\")\n",
    "from nfi_wrangling import *"
   ]
  },
  {
   "cell_type": "markdown",
   "metadata": {},
   "source": [
    "## Get latest data\n"
   ]
  },
  {
   "cell_type": "code",
   "execution_count": 2,
   "metadata": {},
   "outputs": [
    {
     "name": "stdout",
     "output_type": "stream",
     "text": [
      "👉 Latest file is 20231201-103649_nfi_dataset_for_analysis copy.csv\n",
      "👉 Created on Wednesday 2023-12-13, 17:49 which is 2 days ago.\n"
     ]
    },
    {
     "name": "stderr",
     "output_type": "stream",
     "text": [
      "/Users/pascal/repos/padasch/ifn_analysis/python/00_process_nfi_data/../../src/nfi_wrangling.py:29: DtypeWarning: Columns (112,119,122,134,135,136,149,150,151,152,167,168,173,174,176,180,186,188,218) have mixed types. Specify dtype option on import or set low_memory=False.\n",
      "  nfi_data_raw = pd.read_csv(latest_file, index_col=0)\n"
     ]
    }
   ],
   "source": [
    "# FILEPATH: /Users/pascal/repos/padasch/ifn_analysis/python/00_process_nfi_data/extract_final_coordinates.ipynb\n",
    "# Get all files with nfi_dataset_for_analysis in the name\n",
    "nfi_data_raw = get_latest_nfi_raw_data()\n",
    "# Display the data\n",
    "nfi_data_raw"
   ]
  },
  {
   "cell_type": "markdown",
   "metadata": {},
   "source": [
    "# Save files with IDP (potentially duplicated coords)\n"
   ]
  },
  {
   "cell_type": "code",
   "execution_count": 3,
   "metadata": {},
   "outputs": [],
   "source": [
    "nfi_data = (\n",
    "    nfi_data_raw[[\"idp\", \"visit_1\", \"lon\", \"lat\", \"lon_fr\", \"lat_fr\"]]\n",
    "    .rename(\n",
    "        {\n",
    "            \"visit_1\": \"first_year\",\n",
    "            \"lon\": \"x\",\n",
    "            \"lat\": \"y\",\n",
    "            \"lon_fr\": \"x_fr\",\n",
    "            \"lat_fr\": \"y_fr\",\n",
    "        },\n",
    "        axis=1,\n",
    "    )\n",
    "    .drop_duplicates()\n",
    "    .reset_index(drop=True)\n",
    ")\n",
    "\n",
    "# Create data with idp: For later merging of nfi data and predictor data\n",
    "nfi_data_with_idp = (\n",
    "    nfi_data.reset_index(drop=False)\n",
    "    .rename(columns={\"index\": \"SiteID\"})\n",
    "    .assign(SiteID=lambda x: x[\"SiteID\"] + 1)\n",
    ")\n",
    "\n",
    "# Fix order (not sure if this has downstream effects but keeping it like it for now...)\n",
    "nfi_data_with_idp = nfi_data_with_idp[\n",
    "    [\"first_year\", \"SiteID\", \"x\", \"y\", \"idp\", \"x_fr\", \"y_fr\"]\n",
    "]\n",
    "nfi_data_with_idp.to_csv(\"nfi_final_sites_with_idp.csv\", index=False)\n",
    "# nfi_data_with_idp"
   ]
  },
  {
   "cell_type": "code",
   "execution_count": 7,
   "metadata": {},
   "outputs": [],
   "source": [
    "# Also save as geojson\n",
    "gdf = gpd.GeoDataFrame(\n",
    "    nfi_data_with_idp,\n",
    "    geometry=[Point(xy) for xy in zip(nfi_data_with_idp.x_fr, nfi_data_with_idp.y_fr)],\n",
    "    crs=\"EPSG:2154\",  # Set the coordinate reference system to RGF93 / Lambert-93 projection\n",
    ")\n",
    "gdf.to_file(\"nfi_final_sites_with_idp_epsg2154.geojson\", driver=\"GeoJSON\")"
   ]
  },
  {
   "cell_type": "markdown",
   "metadata": {},
   "source": [
    "# Save File without IDP (no duplicated coords)\n"
   ]
  },
  {
   "cell_type": "code",
   "execution_count": 9,
   "metadata": {},
   "outputs": [],
   "source": [
    "# Create data without idp: For faster extraction of predictor data\n",
    "nfi_data_without_idp = (\n",
    "    nfi_data.drop(columns=\"idp\")\n",
    "    .drop_duplicates()\n",
    "    .reset_index(drop=False)\n",
    "    .rename(columns={\"index\": \"SiteID\"})\n",
    "    .assign(SiteID=lambda x: x[\"SiteID\"] + 1)\n",
    ")\n",
    "\n",
    "# Fix order\n",
    "nfi_data_without_idp = nfi_data_without_idp[\n",
    "    [\"first_year\", \"SiteID\", \"x\", \"y\", \"x_fr\", \"y_fr\"]\n",
    "]\n",
    "nfi_data_without_idp.to_csv(\"nfi_final_sites_without_idp.csv\", index=False)"
   ]
  },
  {
   "cell_type": "code",
   "execution_count": 10,
   "metadata": {},
   "outputs": [],
   "source": [
    "# Also save as geojson\n",
    "gdf = gpd.GeoDataFrame(\n",
    "    nfi_data_without_idp,\n",
    "    geometry=[\n",
    "        Point(xy) for xy in zip(nfi_data_without_idp.x_fr, nfi_data_without_idp.y_fr)\n",
    "    ],\n",
    "    crs=\"EPSG:2154\",  # Set the coordinate reference system to RGF93 / Lambert-93 projection\n",
    ")\n",
    "gdf.to_file(\"nfi_final_sites_without_idp_epsg2154.geojson\", driver=\"GeoJSON\")"
   ]
  },
  {
   "cell_type": "markdown",
   "metadata": {},
   "source": [
    "# Check re-reading files\n"
   ]
  },
  {
   "cell_type": "code",
   "execution_count": 66,
   "metadata": {},
   "outputs": [
    {
     "data": {
      "text/html": [
       "<div>\n",
       "<style scoped>\n",
       "    .dataframe tbody tr th:only-of-type {\n",
       "        vertical-align: middle;\n",
       "    }\n",
       "\n",
       "    .dataframe tbody tr th {\n",
       "        vertical-align: top;\n",
       "    }\n",
       "\n",
       "    .dataframe thead th {\n",
       "        text-align: right;\n",
       "    }\n",
       "</style>\n",
       "<table border=\"1\" class=\"dataframe\">\n",
       "  <thead>\n",
       "    <tr style=\"text-align: right;\">\n",
       "      <th></th>\n",
       "      <th>first_year</th>\n",
       "      <th>SiteID</th>\n",
       "      <th>x</th>\n",
       "      <th>y</th>\n",
       "      <th>idp</th>\n",
       "      <th>x_fr</th>\n",
       "      <th>y_fr</th>\n",
       "    </tr>\n",
       "  </thead>\n",
       "  <tbody>\n",
       "    <tr>\n",
       "      <th>0</th>\n",
       "      <td>2011</td>\n",
       "      <td>1</td>\n",
       "      <td>-2.842824</td>\n",
       "      <td>48.337505</td>\n",
       "      <td>632691</td>\n",
       "      <td>2.674150e+05</td>\n",
       "      <td>6.820144e+06</td>\n",
       "    </tr>\n",
       "    <tr>\n",
       "      <th>1</th>\n",
       "      <td>2012</td>\n",
       "      <td>2</td>\n",
       "      <td>3.349757</td>\n",
       "      <td>46.198025</td>\n",
       "      <td>702597</td>\n",
       "      <td>7.269712e+05</td>\n",
       "      <td>6.566524e+06</td>\n",
       "    </tr>\n",
       "    <tr>\n",
       "      <th>2</th>\n",
       "      <td>2012</td>\n",
       "      <td>3</td>\n",
       "      <td>3.361577</td>\n",
       "      <td>46.827747</td>\n",
       "      <td>706240</td>\n",
       "      <td>7.275625e+05</td>\n",
       "      <td>6.636462e+06</td>\n",
       "    </tr>\n",
       "    <tr>\n",
       "      <th>3</th>\n",
       "      <td>2012</td>\n",
       "      <td>4</td>\n",
       "      <td>0.402182</td>\n",
       "      <td>48.201563</td>\n",
       "      <td>708321</td>\n",
       "      <td>5.070276e+05</td>\n",
       "      <td>6.792198e+06</td>\n",
       "    </tr>\n",
       "    <tr>\n",
       "      <th>4</th>\n",
       "      <td>2012</td>\n",
       "      <td>5</td>\n",
       "      <td>6.461081</td>\n",
       "      <td>43.281648</td>\n",
       "      <td>708369</td>\n",
       "      <td>9.810095e+05</td>\n",
       "      <td>6.248657e+06</td>\n",
       "    </tr>\n",
       "    <tr>\n",
       "      <th>...</th>\n",
       "      <td>...</td>\n",
       "      <td>...</td>\n",
       "      <td>...</td>\n",
       "      <td>...</td>\n",
       "      <td>...</td>\n",
       "      <td>...</td>\n",
       "      <td>...</td>\n",
       "    </tr>\n",
       "    <tr>\n",
       "      <th>40017</th>\n",
       "      <td>2016</td>\n",
       "      <td>40018</td>\n",
       "      <td>3.380200</td>\n",
       "      <td>47.790156</td>\n",
       "      <td>1131396</td>\n",
       "      <td>7.284673e+05</td>\n",
       "      <td>6.743375e+06</td>\n",
       "    </tr>\n",
       "    <tr>\n",
       "      <th>40018</th>\n",
       "      <td>2016</td>\n",
       "      <td>40019</td>\n",
       "      <td>2.156438</td>\n",
       "      <td>42.686748</td>\n",
       "      <td>1131409</td>\n",
       "      <td>6.307829e+05</td>\n",
       "      <td>6.176717e+06</td>\n",
       "    </tr>\n",
       "    <tr>\n",
       "      <th>40019</th>\n",
       "      <td>2016</td>\n",
       "      <td>40020</td>\n",
       "      <td>7.424664</td>\n",
       "      <td>47.899971</td>\n",
       "      <td>1131410</td>\n",
       "      <td>1.030439e+06</td>\n",
       "      <td>6.764769e+06</td>\n",
       "    </tr>\n",
       "    <tr>\n",
       "      <th>40020</th>\n",
       "      <td>2016</td>\n",
       "      <td>40021</td>\n",
       "      <td>3.757202</td>\n",
       "      <td>44.924973</td>\n",
       "      <td>1131424</td>\n",
       "      <td>7.597461e+05</td>\n",
       "      <td>6.425373e+06</td>\n",
       "    </tr>\n",
       "    <tr>\n",
       "      <th>40021</th>\n",
       "      <td>2016</td>\n",
       "      <td>40022</td>\n",
       "      <td>3.417427</td>\n",
       "      <td>46.998179</td>\n",
       "      <td>1131437</td>\n",
       "      <td>7.317198e+05</td>\n",
       "      <td>6.655412e+06</td>\n",
       "    </tr>\n",
       "  </tbody>\n",
       "</table>\n",
       "<p>40022 rows × 7 columns</p>\n",
       "</div>"
      ],
      "text/plain": [
       "       first_year  SiteID         x          y      idp          x_fr  \\\n",
       "0            2011       1 -2.842824  48.337505   632691  2.674150e+05   \n",
       "1            2012       2  3.349757  46.198025   702597  7.269712e+05   \n",
       "2            2012       3  3.361577  46.827747   706240  7.275625e+05   \n",
       "3            2012       4  0.402182  48.201563   708321  5.070276e+05   \n",
       "4            2012       5  6.461081  43.281648   708369  9.810095e+05   \n",
       "...           ...     ...       ...        ...      ...           ...   \n",
       "40017        2016   40018  3.380200  47.790156  1131396  7.284673e+05   \n",
       "40018        2016   40019  2.156438  42.686748  1131409  6.307829e+05   \n",
       "40019        2016   40020  7.424664  47.899971  1131410  1.030439e+06   \n",
       "40020        2016   40021  3.757202  44.924973  1131424  7.597461e+05   \n",
       "40021        2016   40022  3.417427  46.998179  1131437  7.317198e+05   \n",
       "\n",
       "               y_fr  \n",
       "0      6.820144e+06  \n",
       "1      6.566524e+06  \n",
       "2      6.636462e+06  \n",
       "3      6.792198e+06  \n",
       "4      6.248657e+06  \n",
       "...             ...  \n",
       "40017  6.743375e+06  \n",
       "40018  6.176717e+06  \n",
       "40019  6.764769e+06  \n",
       "40020  6.425373e+06  \n",
       "40021  6.655412e+06  \n",
       "\n",
       "[40022 rows x 7 columns]"
      ]
     },
     "execution_count": 66,
     "metadata": {},
     "output_type": "execute_result"
    }
   ],
   "source": [
    "pd.read_csv(\"nfi_final_sites_with_idp.csv\")"
   ]
  },
  {
   "cell_type": "code",
   "execution_count": 61,
   "metadata": {},
   "outputs": [
    {
     "data": {
      "text/html": [
       "<div>\n",
       "<style scoped>\n",
       "    .dataframe tbody tr th:only-of-type {\n",
       "        vertical-align: middle;\n",
       "    }\n",
       "\n",
       "    .dataframe tbody tr th {\n",
       "        vertical-align: top;\n",
       "    }\n",
       "\n",
       "    .dataframe thead th {\n",
       "        text-align: right;\n",
       "    }\n",
       "</style>\n",
       "<table border=\"1\" class=\"dataframe\">\n",
       "  <thead>\n",
       "    <tr style=\"text-align: right;\">\n",
       "      <th></th>\n",
       "      <th>first_year</th>\n",
       "      <th>SiteID</th>\n",
       "      <th>x</th>\n",
       "      <th>y</th>\n",
       "    </tr>\n",
       "  </thead>\n",
       "  <tbody>\n",
       "    <tr>\n",
       "      <th>0</th>\n",
       "      <td>2011</td>\n",
       "      <td>1</td>\n",
       "      <td>-2.842824</td>\n",
       "      <td>48.337505</td>\n",
       "    </tr>\n",
       "    <tr>\n",
       "      <th>1</th>\n",
       "      <td>2012</td>\n",
       "      <td>2</td>\n",
       "      <td>3.349757</td>\n",
       "      <td>46.198025</td>\n",
       "    </tr>\n",
       "    <tr>\n",
       "      <th>2</th>\n",
       "      <td>2012</td>\n",
       "      <td>3</td>\n",
       "      <td>3.361577</td>\n",
       "      <td>46.827747</td>\n",
       "    </tr>\n",
       "    <tr>\n",
       "      <th>3</th>\n",
       "      <td>2012</td>\n",
       "      <td>4</td>\n",
       "      <td>0.402182</td>\n",
       "      <td>48.201563</td>\n",
       "    </tr>\n",
       "    <tr>\n",
       "      <th>4</th>\n",
       "      <td>2012</td>\n",
       "      <td>5</td>\n",
       "      <td>6.461081</td>\n",
       "      <td>43.281648</td>\n",
       "    </tr>\n",
       "    <tr>\n",
       "      <th>...</th>\n",
       "      <td>...</td>\n",
       "      <td>...</td>\n",
       "      <td>...</td>\n",
       "      <td>...</td>\n",
       "    </tr>\n",
       "    <tr>\n",
       "      <th>39280</th>\n",
       "      <td>2016</td>\n",
       "      <td>40018</td>\n",
       "      <td>3.380200</td>\n",
       "      <td>47.790156</td>\n",
       "    </tr>\n",
       "    <tr>\n",
       "      <th>39281</th>\n",
       "      <td>2016</td>\n",
       "      <td>40019</td>\n",
       "      <td>2.156438</td>\n",
       "      <td>42.686748</td>\n",
       "    </tr>\n",
       "    <tr>\n",
       "      <th>39282</th>\n",
       "      <td>2016</td>\n",
       "      <td>40020</td>\n",
       "      <td>7.424664</td>\n",
       "      <td>47.899971</td>\n",
       "    </tr>\n",
       "    <tr>\n",
       "      <th>39283</th>\n",
       "      <td>2016</td>\n",
       "      <td>40021</td>\n",
       "      <td>3.757202</td>\n",
       "      <td>44.924973</td>\n",
       "    </tr>\n",
       "    <tr>\n",
       "      <th>39284</th>\n",
       "      <td>2016</td>\n",
       "      <td>40022</td>\n",
       "      <td>3.417427</td>\n",
       "      <td>46.998179</td>\n",
       "    </tr>\n",
       "  </tbody>\n",
       "</table>\n",
       "<p>39285 rows × 4 columns</p>\n",
       "</div>"
      ],
      "text/plain": [
       "       first_year  SiteID         x          y\n",
       "0            2011       1 -2.842824  48.337505\n",
       "1            2012       2  3.349757  46.198025\n",
       "2            2012       3  3.361577  46.827747\n",
       "3            2012       4  0.402182  48.201563\n",
       "4            2012       5  6.461081  43.281648\n",
       "...           ...     ...       ...        ...\n",
       "39280        2016   40018  3.380200  47.790156\n",
       "39281        2016   40019  2.156438  42.686748\n",
       "39282        2016   40020  7.424664  47.899971\n",
       "39283        2016   40021  3.757202  44.924973\n",
       "39284        2016   40022  3.417427  46.998179\n",
       "\n",
       "[39285 rows x 4 columns]"
      ]
     },
     "execution_count": 61,
     "metadata": {},
     "output_type": "execute_result"
    }
   ],
   "source": [
    "pd.read_csv(\"nfi_final_sites_without_idp.csv\")"
   ]
  },
  {
   "cell_type": "markdown",
   "metadata": {},
   "source": [
    "---\n",
    "\n",
    "Code below was to fix old formatting structure of the data. Do not rerun\n"
   ]
  },
  {
   "cell_type": "code",
   "execution_count": 51,
   "metadata": {},
   "outputs": [],
   "source": [
    "# old_data = pd.read_csv(here(\"python/01_download_raw_gee_data/sites_years.csv\"))\n",
    "# old_data = old_data.rename(columns={\"first_visit\": \"first_year\", \"id\": \"SiteID\"})\n",
    "# # old_data"
   ]
  },
  {
   "cell_type": "code",
   "execution_count": 52,
   "metadata": {},
   "outputs": [],
   "source": [
    "# old_data = old_data.merge(\n",
    "#     nfi_data[[\"x\", \"y\", \"first_year\", \"idp\"]].drop_duplicates(),\n",
    "#     on=[\"x\", \"y\", \"first_year\"],\n",
    "#     how=\"left\",\n",
    "# )\n",
    "# old_data"
   ]
  },
  {
   "cell_type": "code",
   "execution_count": 53,
   "metadata": {},
   "outputs": [],
   "source": [
    "# # Save data with idp attached to it for later merging of predictor data and nfi data\n",
    "# old_data.to_csv(\"nfi_final_sites_with_idp.csv\", index=False)\n",
    "\n",
    "# # Save data without idp attached for faster download and extraction of predictor data\n",
    "# old_data[[\"first_year\", \"SiteID\", \"x\", \"y\"]].drop_duplicates().to_csv(\n",
    "#     \"nfi_final_sites_without_idp.csv\", index=False\n",
    "# )"
   ]
  },
  {
   "cell_type": "code",
   "execution_count": 54,
   "metadata": {},
   "outputs": [],
   "source": [
    "# pd.read_csv(\"nfi_final_sites_with_idp.csv\")"
   ]
  },
  {
   "cell_type": "code",
   "execution_count": 55,
   "metadata": {},
   "outputs": [],
   "source": [
    "# pd.read_csv(\"nfi_final_sites_without_idp.csv\")"
   ]
  }
 ],
 "metadata": {
  "kernelspec": {
   "display_name": "ifna-venv",
   "language": "python",
   "name": "python3"
  },
  "language_info": {
   "codemirror_mode": {
    "name": "ipython",
    "version": 3
   },
   "file_extension": ".py",
   "mimetype": "text/x-python",
   "name": "python",
   "nbconvert_exporter": "python",
   "pygments_lexer": "ipython3",
   "version": "3.10.9"
  }
 },
 "nbformat": 4,
 "nbformat_minor": 2
}
